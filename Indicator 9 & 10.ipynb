{
 "cells": [
  {
   "cell_type": "code",
   "execution_count": 1,
   "metadata": {
    "id": "cJMDpDMZAF2k"
   },
   "outputs": [],
   "source": [
    "import pandas as pd\n",
    "import numpy as np\n",
    "import matplotlib.pyplot as plt\n",
    "import seaborn as sns\n",
    "import warnings\n",
    "import datetime"
   ]
  },
  {
   "cell_type": "markdown",
   "metadata": {
    "id": "ERsICuKpQbG6"
   },
   "source": [
    "#PE file"
   ]
  },
  {
   "cell_type": "code",
   "execution_count": 2,
   "metadata": {
    "id": "6k1eR8c5D1bi"
   },
   "outputs": [],
   "source": [
    "df1 = pd.read_excel(\"Excel Files/DRF-80 - Brandon Myers 2024-25 PublicEnrollment 01292025.xlsx\")"
   ]
  },
  {
   "cell_type": "code",
   "execution_count": 3,
   "metadata": {
    "id": "k0OKPvQROIoK"
   },
   "outputs": [],
   "source": [
    "#df1.head()"
   ]
  },
  {
   "cell_type": "code",
   "execution_count": 4,
   "metadata": {
    "id": "k3et0N3SQpE_"
   },
   "outputs": [],
   "source": [
    "master_corp = pd.read_excel(\"Excel Files/corp_no_from_sig_dispro_calc.xlsx\")"
   ]
  },
  {
   "cell_type": "markdown",
   "metadata": {
    "id": "FXaCOUsfdinP"
   },
   "source": [
    "#### LEA from Sig dispor calculator\n",
    "\n",
    "\n",
    "\n"
   ]
  },
  {
   "cell_type": "code",
   "execution_count": 5,
   "metadata": {
    "id": "QJd1rjZRSgq2"
   },
   "outputs": [],
   "source": [
    "all_cops = master_corp['Reporting Corp'].unique()"
   ]
  },
  {
   "cell_type": "code",
   "execution_count": 6,
   "metadata": {
    "id": "EeDpf_ejK7K9"
   },
   "outputs": [],
   "source": [
    "#df1.PRIMARY_EXCEPTIONALITY.value_counts()"
   ]
  },
  {
   "cell_type": "code",
   "execution_count": 7,
   "metadata": {
    "id": "ayiwexY3HuZS"
   },
   "outputs": [],
   "source": [
    "pd.set_option('display.max_columns', None)"
   ]
  },
  {
   "cell_type": "code",
   "execution_count": 8,
   "metadata": {
    "id": "Mdy47kRMEhmW"
   },
   "outputs": [],
   "source": [
    "#df1.head()"
   ]
  },
  {
   "cell_type": "code",
   "execution_count": 9,
   "metadata": {
    "id": "_Mw380R1IK6O"
   },
   "outputs": [],
   "source": [
    "#df1.info()"
   ]
  },
  {
   "cell_type": "code",
   "execution_count": 10,
   "metadata": {
    "id": "NI30Ck7rOVNT"
   },
   "outputs": [],
   "source": [
    "df1.columns = df1.columns.str.lower()"
   ]
  },
  {
   "cell_type": "code",
   "execution_count": 11,
   "metadata": {
    "id": "4dFS54QBQStn"
   },
   "outputs": [
    {
     "data": {
      "text/plain": [
       "np.int64(0)"
      ]
     },
     "execution_count": 11,
     "metadata": {},
     "output_type": "execute_result"
    }
   ],
   "source": [
    "df1['stn'].duplicated(keep = False).sum()"
   ]
  },
  {
   "cell_type": "code",
   "execution_count": 12,
   "metadata": {
    "id": "PkDadUBGOXYh"
   },
   "outputs": [],
   "source": [
    "# duplicated_stn = df1.duplicated(keep = False)\n",
    "# df2 = pd.concat([df1[duplicated_stn], df1[~duplicated_stn]])"
   ]
  },
  {
   "cell_type": "markdown",
   "metadata": {
    "id": "5_s4mIBzJCHV"
   },
   "source": [
    "### Saving Duplicate stn in excel"
   ]
  },
  {
   "cell_type": "code",
   "execution_count": 13,
   "metadata": {
    "id": "VsGVkEZ1X__F"
   },
   "outputs": [],
   "source": [
    "# 'stn' is the column containing student identification numbers\n",
    "#duplicated_stn_rows = df1[df1.duplicated(subset=['stn'], keep=False)]\n",
    "\n",
    "# Save to Excel\n",
    "#duplicated_stn_rows.to_excel('duplicated_stn_with_all_fields.xlsx', index=False)"
   ]
  },
  {
   "cell_type": "code",
   "execution_count": 14,
   "metadata": {
    "id": "O9Pf-yiPSrAJ"
   },
   "outputs": [
    {
     "data": {
      "text/plain": [
       "(1040190, 11)"
      ]
     },
     "execution_count": 14,
     "metadata": {},
     "output_type": "execute_result"
    }
   ],
   "source": [
    "df1.shape"
   ]
  },
  {
   "cell_type": "code",
   "execution_count": 15,
   "metadata": {
    "id": "LJElRbtFrHp2"
   },
   "outputs": [
    {
     "data": {
      "text/plain": [
       "school_year_id                       1\n",
       "stn                            1040190\n",
       "idoe_corporation_id                427\n",
       "corporation_name                   427\n",
       "idoe_school_id                    1891\n",
       "school_name                       1808\n",
       "birth_date                       10901\n",
       "primary_exceptionality_code         17\n",
       "primary_exceptionality              15\n",
       "socio_econ_status                    3\n",
       "ethnicity                            7\n",
       "dtype: int64"
      ]
     },
     "execution_count": 15,
     "metadata": {},
     "output_type": "execute_result"
    }
   ],
   "source": [
    "df1.nunique()"
   ]
  },
  {
   "cell_type": "code",
   "execution_count": 16,
   "metadata": {
    "id": "E6IUAX5wrcox"
   },
   "outputs": [],
   "source": [
    "#df1.describe()"
   ]
  },
  {
   "cell_type": "markdown",
   "metadata": {
    "id": "awNMaRkntD1X"
   },
   "source": [
    "### Calculate the birthdate"
   ]
  },
  {
   "cell_type": "code",
   "execution_count": 17,
   "metadata": {
    "id": "QUFfdfhhMxgL"
   },
   "outputs": [],
   "source": [
    "from datetime import date\n",
    "df1['age'] = (date.today().year - pd.to_datetime(df1['birth_date']).dt.year)"
   ]
  },
  {
   "cell_type": "markdown",
   "metadata": {
    "id": "Bw_OHkidnIRE"
   },
   "source": [
    "### check the age"
   ]
  },
  {
   "cell_type": "code",
   "execution_count": 18,
   "metadata": {
    "id": "SBHJMq84nK--"
   },
   "outputs": [],
   "source": [
    "#df1.age.value_counts()"
   ]
  },
  {
   "cell_type": "markdown",
   "metadata": {
    "id": "xP2pfTKhi5M8"
   },
   "source": [
    "###Ethnicity algin with fedral requirment."
   ]
  },
  {
   "cell_type": "code",
   "execution_count": 19,
   "metadata": {
    "id": "xHAKUcD9irnr"
   },
   "outputs": [],
   "source": [
    "df1 = df1.replace({'White':'WH7', 'Black':'BL7', 'Hispanic': 'HI7', 'Multiracial': 'MU7', 'Asian' : 'AS7', 'American Indian' : 'AM7', 'Native Hawaiian or Other Pacific Islander' : 'PI7'})"
   ]
  },
  {
   "cell_type": "code",
   "execution_count": 20,
   "metadata": {
    "id": "kVK9rUmejAgb"
   },
   "outputs": [],
   "source": [
    "#df1.ethnicity.value_counts()"
   ]
  },
  {
   "cell_type": "code",
   "execution_count": 21,
   "metadata": {
    "id": "8E5fRoFRmVuC"
   },
   "outputs": [],
   "source": [
    "#Flag SPED eligibility from primary exceptionality column\n",
    "df1['idea-eligibility'] = np.where(df1['primary_exceptionality'].isnull(), \"NonSPED\", \"SPED\")"
   ]
  },
  {
   "cell_type": "code",
   "execution_count": 22,
   "metadata": {
    "id": "kQrA86nynPP8"
   },
   "outputs": [
    {
     "data": {
      "text/plain": [
       "idea-eligibility\n",
       "NonSPED    874282\n",
       "SPED       165908\n",
       "Name: count, dtype: int64"
      ]
     },
     "execution_count": 22,
     "metadata": {},
     "output_type": "execute_result"
    }
   ],
   "source": [
    "df1['idea-eligibility'].value_counts()"
   ]
  },
  {
   "cell_type": "code",
   "execution_count": 23,
   "metadata": {
    "id": "pQeZr4dmnuca"
   },
   "outputs": [
    {
     "data": {
      "text/plain": [
       "(1040190, 13)"
      ]
     },
     "execution_count": 23,
     "metadata": {},
     "output_type": "execute_result"
    }
   ],
   "source": [
    "df1.shape"
   ]
  },
  {
   "cell_type": "code",
   "execution_count": 24,
   "metadata": {
    "id": "BcEBx89onmRl"
   },
   "outputs": [
    {
     "name": "stdout",
     "output_type": "stream",
     "text": [
      "1040190\n"
     ]
    }
   ],
   "source": [
    "print(874282+165908)"
   ]
  },
  {
   "cell_type": "markdown",
   "metadata": {
    "id": "3JAkUz7biDzt"
   },
   "source": [
    "##School Age IDEA enrollment(5 -21)"
   ]
  },
  {
   "cell_type": "code",
   "execution_count": 25,
   "metadata": {
    "id": "7C7YgsKooUKP"
   },
   "outputs": [],
   "source": [
    "sch_age = df1[\n",
    "    (df1['age'] >= 5) &\n",
    "    (df1['age'] <= 21)\n",
    "    ]"
   ]
  },
  {
   "cell_type": "code",
   "execution_count": 26,
   "metadata": {
    "id": "52zR2XzCzAu3"
   },
   "outputs": [],
   "source": [
    "#sch_age.age.value_counts()"
   ]
  },
  {
   "cell_type": "code",
   "execution_count": 27,
   "metadata": {
    "id": "p1iJZI68Ai8d"
   },
   "outputs": [
    {
     "name": "stderr",
     "output_type": "stream",
     "text": [
      "C:\\Users\\NSinha\\AppData\\Local\\Temp\\ipykernel_27696\\3849522470.py:1: SettingWithCopyWarning: \n",
      "A value is trying to be set on a copy of a slice from a DataFrame\n",
      "\n",
      "See the caveats in the documentation: https://pandas.pydata.org/pandas-docs/stable/user_guide/indexing.html#returning-a-view-versus-a-copy\n",
      "  sch_age.dropna(subset = ['ethnicity'], inplace = True)\n"
     ]
    }
   ],
   "source": [
    "sch_age.dropna(subset = ['ethnicity'], inplace = True)"
   ]
  },
  {
   "cell_type": "code",
   "execution_count": 28,
   "metadata": {
    "id": "t24ZZL9KBF0h"
   },
   "outputs": [
    {
     "name": "stderr",
     "output_type": "stream",
     "text": [
      "C:\\Users\\NSinha\\AppData\\Local\\Temp\\ipykernel_27696\\3074318165.py:1: SettingWithCopyWarning: \n",
      "A value is trying to be set on a copy of a slice from a DataFrame.\n",
      "Try using .loc[row_indexer,col_indexer] = value instead\n",
      "\n",
      "See the caveats in the documentation: https://pandas.pydata.org/pandas-docs/stable/user_guide/indexing.html#returning-a-view-versus-a-copy\n",
      "  sch_age['ethnicity'] = sch_age['ethnicity'].astype(str)\n"
     ]
    }
   ],
   "source": [
    "sch_age['ethnicity'] = sch_age['ethnicity'].astype(str)"
   ]
  },
  {
   "cell_type": "code",
   "execution_count": 29,
   "metadata": {
    "id": "UjmleCwksUr5"
   },
   "outputs": [
    {
     "data": {
      "text/plain": [
       "Index(['school_year_id', 'stn', 'idoe_corporation_id', 'corporation_name',\n",
       "       'idoe_school_id', 'school_name', 'birth_date',\n",
       "       'primary_exceptionality_code', 'primary_exceptionality',\n",
       "       'socio_econ_status', 'ethnicity', 'age', 'idea-eligibility'],\n",
       "      dtype='object')"
      ]
     },
     "execution_count": 29,
     "metadata": {},
     "output_type": "execute_result"
    }
   ],
   "source": [
    "sch_age.columns"
   ]
  },
  {
   "cell_type": "code",
   "execution_count": 30,
   "metadata": {
    "id": "pcV4z3qcmT6v"
   },
   "outputs": [],
   "source": [
    "sch_age = sch_age.astype({'idoe_corporation_id': 'str', 'stn': 'str'}) # converted int to string datatype"
   ]
  },
  {
   "cell_type": "markdown",
   "metadata": {
    "id": "QpetYsM0ZOg0"
   },
   "source": [
    "##Total enrollment form PE"
   ]
  },
  {
   "cell_type": "code",
   "execution_count": 31,
   "metadata": {
    "id": "CsjhSAUlm4np"
   },
   "outputs": [],
   "source": [
    "#sch_age.info()"
   ]
  },
  {
   "cell_type": "code",
   "execution_count": 32,
   "metadata": {
    "id": "v18mIHZ46hrD"
   },
   "outputs": [],
   "source": [
    "pe_total_enrolled = sch_age['idoe_corporation_id'].value_counts().reindex(all_cops, fill_value=0).reset_index()\n",
    "pe_total_enrolled.columns = ['idoe_corporation_id', 'pe_total_enrolled']\n",
    "#pe_total_enrolled"
   ]
  },
  {
   "cell_type": "markdown",
   "metadata": {
    "id": "tBJsHObGZXoj"
   },
   "source": [
    "Enrollment By Race/Ethnicity from PE"
   ]
  },
  {
   "cell_type": "code",
   "execution_count": 33,
   "metadata": {
    "id": "i-sgyvxCybBY"
   },
   "outputs": [],
   "source": [
    "pe_total_enrolled_race = sch_age.groupby('idoe_corporation_id')['ethnicity'].value_counts().unstack(fill_value=0).reindex(all_cops, fill_value=0)\n",
    "pe_total_enrolled_race = pe_total_enrolled_race.reset_index()\n",
    "#pe_total_enrolled_race"
   ]
  },
  {
   "cell_type": "markdown",
   "metadata": {
    "id": "uEOtGHCHZhoz"
   },
   "source": [
    "Merged total enrollment and race enrollment regardles of SPED"
   ]
  },
  {
   "cell_type": "code",
   "execution_count": 34,
   "metadata": {
    "id": "TgMcGcVtp6bc"
   },
   "outputs": [],
   "source": [
    "# Merge the total enrollment with the race-specific enrollment\n",
    "pe_merged = pd.merge(pe_total_enrolled, pe_total_enrolled_race, on='idoe_corporation_id', how='left')\n",
    "\n"
   ]
  },
  {
   "cell_type": "code",
   "execution_count": 35,
   "metadata": {
    "id": "owoT7ULG8z8D"
   },
   "outputs": [],
   "source": [
    "#pe_merged"
   ]
  },
  {
   "cell_type": "markdown",
   "metadata": {
    "id": "GCq12XSALY_G"
   },
   "source": [
    "#indicator 9 all other student enrolled which means total enrolled minus target race enrolled from PE file\n",
    "need to count each race, then substract from total"
   ]
  },
  {
   "cell_type": "markdown",
   "metadata": {
    "id": "ggYZatfcKQce"
   },
   "source": [
    "# AM7 data"
   ]
  },
  {
   "cell_type": "code",
   "execution_count": 36,
   "metadata": {
    "id": "O-ISrwyV_GJ0"
   },
   "outputs": [],
   "source": [
    "am7_enrl = sch_age[sch_age['ethnicity'] == 'AM7']\n",
    "\n",
    "am7_enrl = am7_enrl.idoe_corporation_id.value_counts().reindex(all_cops, fill_value=0).reset_index()\n",
    "am7_enrl.columns = ['idoe_corporation_id', 'pe_am7_enrl']\n",
    "\n"
   ]
  },
  {
   "cell_type": "code",
   "execution_count": 37,
   "metadata": {
    "id": "9tV1rvugFhjd"
   },
   "outputs": [],
   "source": [
    "# Merge the two DataFrames on 'idoe_corporation_id'\n",
    "merged_enrl_am7 = pd.merge(pe_total_enrolled, am7_enrl, on='idoe_corporation_id', how='left')\n",
    "\n",
    "# Fill NaN values in 'am7_enrolled' with 0 (for corporations with no AM7 students)\n",
    "#merged_enrl_am7['pe_am7_enrl'].fillna(0, inplace=True)\n",
    "\n",
    "# Calculate \"All Other\" enrollment by subtracting 'am7_enrolled' from 'pe_total_enrolled'\n",
    "merged_enrl_am7['other_frm_pe_am7'] = merged_enrl_am7['pe_total_enrolled'] - merged_enrl_am7['pe_am7_enrl']"
   ]
  },
  {
   "cell_type": "code",
   "execution_count": 38,
   "metadata": {
    "id": "RyfgXM029Gfn"
   },
   "outputs": [],
   "source": [
    "merged_enrl_am7 = merged_enrl_am7.drop(columns = ['pe_am7_enrl', 'pe_total_enrolled'])\n",
    "merged_enrl_am7['other_frm_pe_am7'] = merged_enrl_am7['other_frm_pe_am7'].astype(int)\n",
    "#merged_enrl_am7.head()"
   ]
  },
  {
   "cell_type": "markdown",
   "metadata": {
    "id": "hQAmF4vdKZ1_"
   },
   "source": [
    "## merged AM7 data after substracting from total enrollment"
   ]
  },
  {
   "cell_type": "code",
   "execution_count": 39,
   "metadata": {
    "id": "2LMxWuXGHVhG"
   },
   "outputs": [],
   "source": [
    "pe_merged_am = pd.merge(pe_merged, merged_enrl_am7, on='idoe_corporation_id', how='left')\n",
    "#pe_merged_am.head()"
   ]
  },
  {
   "cell_type": "markdown",
   "metadata": {
    "id": "Kxs9nNZ_KpQF"
   },
   "source": [
    "# AS7 data"
   ]
  },
  {
   "cell_type": "code",
   "execution_count": 40,
   "metadata": {
    "id": "OHawpZdZSV2C"
   },
   "outputs": [],
   "source": [
    "as7_enrl = sch_age[sch_age['ethnicity'] == 'AS7']\n",
    "\n",
    "as7_enrl = as7_enrl.idoe_corporation_id.value_counts().reindex(all_cops, fill_value=0).reset_index()\n",
    "as7_enrl.columns = ['idoe_corporation_id', 'pe_as7_enrl']\n",
    "\n",
    "#merged\n",
    "merged_as7 = pd.merge(pe_total_enrolled, as7_enrl, on='idoe_corporation_id', how='left')\n",
    "\n",
    "merged_as7['other_frm_pe_as7'] = merged_as7['pe_total_enrolled'] - merged_as7['pe_as7_enrl']\n",
    "\n",
    "#drop columns\n",
    "merged_as7 = merged_as7.drop(columns = ['pe_as7_enrl', 'pe_total_enrolled'])\n",
    "merged_as7['other_frm_pe_as7'] = merged_as7['other_frm_pe_as7'].astype(int)\n",
    "pe_merged_as = pd.merge(pe_merged_am, merged_as7, on='idoe_corporation_id', how='left')\n",
    "#pe_merged_as.head()\n",
    "\n",
    "\n",
    "\n"
   ]
  },
  {
   "cell_type": "markdown",
   "metadata": {
    "id": "g4B-NBtQK-7M"
   },
   "source": [
    "#BL7 from other"
   ]
  },
  {
   "cell_type": "code",
   "execution_count": 41,
   "metadata": {
    "id": "Xxf_9iG0C-O1"
   },
   "outputs": [],
   "source": [
    "bl7_enrl = sch_age[sch_age['ethnicity'] == 'BL7']\n",
    "\n",
    "bl7_enrl = bl7_enrl.idoe_corporation_id.value_counts().reindex(all_cops, fill_value=0).reset_index()\n",
    "bl7_enrl.columns = ['idoe_corporation_id', 'pe_bl7_enrl']\n",
    "\n",
    "#merged\n",
    "merged_bl7 = pd.merge(pe_total_enrolled, bl7_enrl, on='idoe_corporation_id', how='left')\n",
    "\n",
    "merged_bl7['other_frm_pe_bl7'] = merged_bl7['pe_total_enrolled'] - merged_bl7['pe_bl7_enrl']\n",
    "\n",
    "#drop columns\n",
    "merged_bl7 = merged_bl7.drop(columns = ['pe_bl7_enrl', 'pe_total_enrolled'])\n",
    "merged_bl7['other_frm_pe_bl7'] = merged_bl7['other_frm_pe_bl7'].astype(int)\n",
    "pe_merged_bl = pd.merge(pe_merged_as, merged_bl7, on='idoe_corporation_id', how='left')\n",
    "#pe_merged_bl.head()"
   ]
  },
  {
   "cell_type": "markdown",
   "metadata": {
    "id": "MhbS6IbTNGop"
   },
   "source": [
    "#HI7 from others"
   ]
  },
  {
   "cell_type": "code",
   "execution_count": 42,
   "metadata": {
    "id": "R5jylestNKGZ"
   },
   "outputs": [],
   "source": [
    "HI7_enrl = sch_age[sch_age['ethnicity'] == 'HI7']\n",
    "\n",
    "HI7_enrl = HI7_enrl.idoe_corporation_id.value_counts().reindex(all_cops, fill_value=0).reset_index()\n",
    "HI7_enrl.columns = ['idoe_corporation_id', 'pe_HI7_enrl']\n",
    "\n",
    "#merged\n",
    "merged_HI7 = pd.merge(pe_total_enrolled, HI7_enrl, on='idoe_corporation_id', how='left')\n",
    "\n",
    "merged_HI7['other_frm_pe_HI7'] = merged_HI7['pe_total_enrolled'] - merged_HI7['pe_HI7_enrl']\n",
    "\n",
    "#drop columns\n",
    "merged_HI7 = merged_HI7.drop(columns = ['pe_HI7_enrl', 'pe_total_enrolled'])\n",
    "merged_HI7['other_frm_pe_HI7'] = merged_HI7['other_frm_pe_HI7'].astype(int)\n",
    "pe_merged_HI = pd.merge(pe_merged_bl, merged_HI7, on='idoe_corporation_id', how='left')\n",
    "#pe_merged_HI.head()"
   ]
  },
  {
   "cell_type": "markdown",
   "metadata": {
    "id": "MpZRLbnDR2WT"
   },
   "source": [
    "#other from MU7"
   ]
  },
  {
   "cell_type": "code",
   "execution_count": 43,
   "metadata": {
    "id": "OCXiWSrbD8oG"
   },
   "outputs": [],
   "source": [
    "MU7_enrl = sch_age[sch_age['ethnicity'] == 'MU7']\n",
    "\n",
    "MU7_enrl = MU7_enrl.idoe_corporation_id.value_counts().reindex(all_cops, fill_value=0).reset_index()\n",
    "MU7_enrl.columns = ['idoe_corporation_id', 'pe_MU7_enrl']\n",
    "\n",
    "#merged\n",
    "merged_MU7 = pd.merge(pe_total_enrolled, MU7_enrl, on='idoe_corporation_id', how='left')\n",
    "\n",
    "merged_MU7['other_frm_pe_MU7'] = merged_MU7['pe_total_enrolled'] - merged_MU7['pe_MU7_enrl']\n",
    "\n",
    "#drop columns\n",
    "merged_MU7 = merged_MU7.drop(columns = ['pe_MU7_enrl', 'pe_total_enrolled'])\n",
    "merged_MU7['other_frm_pe_MU7'] = merged_MU7['other_frm_pe_MU7'].astype(int)\n",
    "pe_merged_MU = pd.merge(pe_merged_HI, merged_MU7, on='idoe_corporation_id', how='left')\n",
    "#pe_merged_MU.head()"
   ]
  },
  {
   "cell_type": "markdown",
   "metadata": {
    "id": "mPLEzYnBSxul"
   },
   "source": [
    "#Other from PI7"
   ]
  },
  {
   "cell_type": "code",
   "execution_count": 44,
   "metadata": {
    "id": "ODTu99TvS2JY"
   },
   "outputs": [],
   "source": [
    "PI7_enrl = sch_age[sch_age['ethnicity'] == 'PI7']\n",
    "\n",
    "PI7_enrl = PI7_enrl.idoe_corporation_id.value_counts().reindex(all_cops, fill_value=0).reset_index()\n",
    "PI7_enrl.columns = ['idoe_corporation_id', 'pe_PI7_enrl']\n",
    "\n",
    "#merged\n",
    "merged_PI7 = pd.merge(pe_total_enrolled, PI7_enrl, on='idoe_corporation_id', how='left')\n",
    "\n",
    "merged_PI7['other_frm_pe_PI7'] = merged_PI7['pe_total_enrolled'] - merged_PI7['pe_PI7_enrl']\n",
    "\n",
    "#drop columns\n",
    "merged_PI7 = merged_PI7.drop(columns = ['pe_PI7_enrl', 'pe_total_enrolled'])\n",
    "merged_PI7['other_frm_pe_PI7'] = merged_PI7['other_frm_pe_PI7'].astype(int)\n",
    "pe_merged_PI = pd.merge(pe_merged_MU, merged_PI7, on='idoe_corporation_id', how='left')\n",
    "#pe_merged_PI.head()"
   ]
  },
  {
   "cell_type": "markdown",
   "metadata": {
    "id": "fYmoHiv-TFay"
   },
   "source": [
    "#Other from WH7"
   ]
  },
  {
   "cell_type": "code",
   "execution_count": 45,
   "metadata": {
    "id": "E5HZ-weSTTdm"
   },
   "outputs": [],
   "source": [
    "WH7_enrl = sch_age[sch_age['ethnicity'] == 'WH7']\n",
    "\n",
    "WH7_enrl = WH7_enrl.idoe_corporation_id.value_counts().reindex(all_cops, fill_value=0).reset_index()\n",
    "WH7_enrl.columns = ['idoe_corporation_id', 'pe_WH7_enrl']\n",
    "\n",
    "#merged\n",
    "merged_WH7 = pd.merge(pe_total_enrolled, WH7_enrl, on='idoe_corporation_id', how='left')\n",
    "\n",
    "merged_WH7['other_frm_pe_WH7'] = merged_WH7['pe_total_enrolled'] - merged_WH7['pe_WH7_enrl']\n",
    "\n",
    "#drop columns\n",
    "merged_WH7 = merged_WH7.drop(columns = ['pe_WH7_enrl', 'pe_total_enrolled'])\n",
    "merged_WH7['other_frm_pe_WH7'] = merged_WH7['other_frm_pe_WH7'].astype(int)\n",
    "pe_merged_WH = pd.merge(pe_merged_PI, merged_WH7, on='idoe_corporation_id', how='left')\n",
    "\n",
    "#pe_merged_WH.head()"
   ]
  },
  {
   "cell_type": "markdown",
   "metadata": {
    "id": "MfQ8oNfnMzZs"
   },
   "source": [
    "SE file data"
   ]
  },
  {
   "cell_type": "code",
   "execution_count": 46,
   "metadata": {
    "id": "YTb5AVwpM2Pc"
   },
   "outputs": [],
   "source": [
    "se = pd.read_excel('Excel Files/DRF-64 - Brandon Myers Special Education 2025 December Count 01232025.xlsx')"
   ]
  },
  {
   "cell_type": "code",
   "execution_count": 47,
   "metadata": {
    "id": "n8NGfDX6MS2s"
   },
   "outputs": [
    {
     "data": {
      "text/plain": [
       "(200529, 23)"
      ]
     },
     "execution_count": 47,
     "metadata": {},
     "output_type": "execute_result"
    }
   ],
   "source": [
    "se.shape"
   ]
  },
  {
   "cell_type": "code",
   "execution_count": 48,
   "metadata": {
    "id": "2i6T-EiOM23D"
   },
   "outputs": [],
   "source": [
    "se.columns = se.columns.str.lower()"
   ]
  },
  {
   "cell_type": "code",
   "execution_count": 49,
   "metadata": {
    "id": "51MnYHMlLuzy"
   },
   "outputs": [],
   "source": [
    "duplicated_stn = se.duplicated(keep = False)\n",
    "se1  = pd.concat([se[duplicated_stn],se[~duplicated_stn]]) # put duplicated on top\n"
   ]
  },
  {
   "cell_type": "code",
   "execution_count": 50,
   "metadata": {
    "id": "jxbbBRsAMWyL"
   },
   "outputs": [],
   "source": [
    "#drop duplicate\n",
    "se1.drop_duplicates(inplace = True)"
   ]
  },
  {
   "cell_type": "code",
   "execution_count": 51,
   "metadata": {
    "id": "LhrozIvWMPIb"
   },
   "outputs": [
    {
     "data": {
      "text/plain": [
       "(200515, 23)"
      ]
     },
     "execution_count": 51,
     "metadata": {},
     "output_type": "execute_result"
    }
   ],
   "source": [
    "se1.shape"
   ]
  },
  {
   "cell_type": "code",
   "execution_count": 52,
   "metadata": {
    "id": "c64_9qoVM3hV"
   },
   "outputs": [],
   "source": [
    "se1.replace('KG - Morning', 'KG', inplace = True)"
   ]
  },
  {
   "cell_type": "code",
   "execution_count": 53,
   "metadata": {
    "id": "l_WTt45jNNe-"
   },
   "outputs": [],
   "source": [
    "# columns convert float to integer\n",
    "cols = ['reporting_corporation', 'legal_corporation', 'primaryexceptionality', 'secondaryexceptionality', 'location', 'adm_type_id']\n",
    "se1[cols] = se1[cols].astype('Int64')"
   ]
  },
  {
   "cell_type": "code",
   "execution_count": 54,
   "metadata": {
    "id": "XyffDuXaNVst"
   },
   "outputs": [],
   "source": [
    "se1['grade'] = se1['grade'].astype(str)\n",
    "se1['grade'] = se1['grade'].str.strip()"
   ]
  },
  {
   "cell_type": "code",
   "execution_count": 55,
   "metadata": {
    "id": "t1d_8cVxNuXt"
   },
   "outputs": [],
   "source": [
    "pd.set_option(\"display.max_columns\", None)"
   ]
  },
  {
   "cell_type": "markdown",
   "metadata": {
    "id": "NI9MC976OGSm"
   },
   "source": [
    "####Excluded from the above list\n",
    "\n",
    "*   Choice Voucher\n",
    "*   Identified Unserved NonPublic/Homeschool Only\n",
    "*   Private Preschool\n",
    "*   Correctional Facility\n",
    "*   Parentally placed in Private School"
   ]
  },
  {
   "cell_type": "code",
   "execution_count": 56,
   "metadata": {
    "id": "jklg3zgkOHWl"
   },
   "outputs": [],
   "source": [
    "values_to_remove = ['Choice Voucher',\n",
    "                    'Identified Unserved NonPublic/Homeschool Only',\n",
    "                    'Private Preschool',\n",
    "                    'Correctional Facility',\n",
    "                    'Parentally placed in Private School'\n",
    "]\n",
    "\n",
    "se1= se1[~se1['programname'].isin(values_to_remove)]"
   ]
  },
  {
   "cell_type": "code",
   "execution_count": 57,
   "metadata": {
    "id": "NOWCuDWYOhrP"
   },
   "outputs": [],
   "source": [
    "#se1.programname.value_counts()"
   ]
  },
  {
   "cell_type": "code",
   "execution_count": 58,
   "metadata": {
    "id": "mHig5q6zPuhG"
   },
   "outputs": [],
   "source": [
    "se1.replace({'White':'WH7', 'Black':'BL7', 'Hispanic': 'HI7', 'Multiracial': 'MU7', 'Asian' : 'AS7', 'American Indian' : 'AM7', 'Native Hawaiian or Other Pacific Islander' : 'PI7'}, inplace = True)"
   ]
  },
  {
   "cell_type": "code",
   "execution_count": 59,
   "metadata": {
    "id": "fE4K9PpDP1Wx"
   },
   "outputs": [],
   "source": [
    "#se1.ethnicity.value_counts()"
   ]
  },
  {
   "cell_type": "markdown",
   "metadata": {
    "id": "Nw39cg0-RHHg"
   },
   "source": [
    "####Exclude location: 2, 3, 4, 10"
   ]
  },
  {
   "cell_type": "code",
   "execution_count": 60,
   "metadata": {
    "id": "6niEOpuERIMp"
   },
   "outputs": [],
   "source": [
    "se1 = se1[~se1['location'].isin([2, 3, 4, 10])]"
   ]
  },
  {
   "cell_type": "code",
   "execution_count": 61,
   "metadata": {
    "id": "TgCuEl7-RXDw"
   },
   "outputs": [],
   "source": [
    "#se1.location.value_counts()"
   ]
  },
  {
   "cell_type": "code",
   "execution_count": 62,
   "metadata": {
    "id": "xYcifLEmZ96R"
   },
   "outputs": [],
   "source": [
    "se1.rename(columns={'reporting_corporation' : 'idoe_corporation_id'}, inplace = True)"
   ]
  },
  {
   "cell_type": "markdown",
   "metadata": {
    "id": "pug_kWoCRs8p"
   },
   "source": [
    "##age 5- 21 or school age, and grade KG - 12"
   ]
  },
  {
   "cell_type": "code",
   "execution_count": 63,
   "metadata": {
    "id": "7J6adw9gRxhp"
   },
   "outputs": [],
   "source": [
    "se_sch_age = se1[\n",
    "    (se1['grade'].isin(['KG', '01', '02', '03', '04', '05', '06', '07', '08', '09', '10', '11', '12'])) &\n",
    "    (se1['age_on_01_dec_2024'] >= 5) &\n",
    "    (se1['age_on_01_dec_2024'] <= 21)\n",
    "]"
   ]
  },
  {
   "cell_type": "code",
   "execution_count": 64,
   "metadata": {
    "id": "v30OpqNTSLNS"
   },
   "outputs": [],
   "source": [
    "#se_sch_age.age_on_01_dec_2024.value_counts()"
   ]
  },
  {
   "cell_type": "code",
   "execution_count": 65,
   "metadata": {
    "id": "PTRr4hJAPld_"
   },
   "outputs": [],
   "source": [
    "#se_sch_age.programname.value_counts()"
   ]
  },
  {
   "cell_type": "code",
   "execution_count": 66,
   "metadata": {
    "id": "xsR6gR0TnaIB"
   },
   "outputs": [],
   "source": [
    "se_sch_age = se_sch_age.astype({'idoe_corporation_id': 'str'}) # converted int to str datatype"
   ]
  },
  {
   "cell_type": "markdown",
   "metadata": {
    "id": "7E_t5olifDn9"
   },
   "source": [
    "##SE total count or total Special ed count"
   ]
  },
  {
   "cell_type": "code",
   "execution_count": 67,
   "metadata": {
    "id": "KiA_hF53U0Ec"
   },
   "outputs": [],
   "source": [
    "se_total_count = se_sch_age['idoe_corporation_id'].value_counts().reindex(all_cops, fill_value=0).reset_index()\n",
    "se_total_count.columns = ['idoe_corporation_id', 'se_total_enrl']\n",
    "#se_total_count"
   ]
  },
  {
   "cell_type": "code",
   "execution_count": 68,
   "metadata": {
    "id": "arjKzBg1UA3j"
   },
   "outputs": [],
   "source": [
    "se_race_count = se_sch_age.groupby('idoe_corporation_id')['ethnicity'].value_counts().unstack(fill_value=0).reindex(all_cops, fill_value=0)\n",
    "se_race_count = se_race_count.reset_index()\n",
    "\n",
    "\n",
    "\n"
   ]
  },
  {
   "cell_type": "markdown",
   "metadata": {
    "id": "ZrW39efvfNsH"
   },
   "source": [
    "##merged total special ed and count by race/ethnicity of SPED"
   ]
  },
  {
   "cell_type": "code",
   "execution_count": 69,
   "metadata": {
    "id": "YJ8uQXVsUdcs"
   },
   "outputs": [],
   "source": [
    "#se_race_count.head()"
   ]
  },
  {
   "cell_type": "code",
   "execution_count": 70,
   "metadata": {
    "id": "LYvDCrKoZTEn"
   },
   "outputs": [],
   "source": [
    "merged_se = pd.merge(se_total_count, se_race_count, on='idoe_corporation_id', how='left')\n",
    "#merged_se.head()"
   ]
  },
  {
   "cell_type": "markdown",
   "metadata": {
    "id": "kggQGXCefioH"
   },
   "source": [
    "#Count other SPED enrollment (Total count minus target race) -- From SE File"
   ]
  },
  {
   "cell_type": "markdown",
   "metadata": {
    "id": "BB8-MhIkdyEA"
   },
   "source": [
    "#AM7 data from SE\n",
    "\n",
    "don't need to write that code each time for 7 races\n",
    "copy that code and replce it\n",
    "copy that code paste in the note pad and click on ctrl H replace AM to AS"
   ]
  },
  {
   "cell_type": "code",
   "execution_count": 71,
   "metadata": {
    "id": "Jn-ZduvnZTA_"
   },
   "outputs": [],
   "source": [
    "se_am7 = se_sch_age[se_sch_age['ethnicity'] == 'AM7']\n",
    "se_am7 = se_am7.idoe_corporation_id.value_counts().reindex(all_cops, fill_value=0).reset_index()\n",
    "se_am7.columns = ['idoe_corporation_id', 'se_am7_enrl']\n",
    "\n",
    "#merged\n",
    "merged_se_am7 = pd.merge(se_total_count, se_am7, on='idoe_corporation_id', how='left')\n",
    "merged_se_am7['other_frm_se_am7'] = merged_se_am7['se_total_enrl'] - merged_se_am7['se_am7_enrl']\n",
    "\n",
    "#drop columns\n",
    "merged_se_am7 = merged_se_am7.drop(columns = ['se_am7_enrl', 'se_total_enrl'])\n",
    "merged_se_am7['other_frm_se_am7'] = merged_se_am7['other_frm_se_am7'].astype(int)\n",
    "se_merged_am = pd.merge(merged_se, merged_se_am7, on='idoe_corporation_id', how='left')\n",
    "#se_merged_am.head()"
   ]
  },
  {
   "cell_type": "markdown",
   "metadata": {
    "id": "qvSudpm9d4Q8"
   },
   "source": [
    "#AS7 data from SE"
   ]
  },
  {
   "cell_type": "code",
   "execution_count": 72,
   "metadata": {
    "id": "Ig4_V-wJZS8_"
   },
   "outputs": [],
   "source": [
    "se_as7 = se_sch_age[se_sch_age['ethnicity'] == 'AS7']\n",
    "se_as7 = se_as7.idoe_corporation_id.value_counts().reindex(all_cops, fill_value=0).reset_index()\n",
    "se_as7.columns = ['idoe_corporation_id', 'se_as7_enrl']\n",
    "\n",
    "#merged\n",
    "merged_se_as7 = pd.merge(se_total_count, se_as7, on='idoe_corporation_id', how='left')\n",
    "merged_se_as7['other_frm_se_as7'] = merged_se_as7['se_total_enrl'] - merged_se_as7['se_as7_enrl']\n",
    "\n",
    "#drop columns\n",
    "merged_se_as7 = merged_se_as7.drop(columns = ['se_as7_enrl', 'se_total_enrl'])\n",
    "merged_se_as7['other_frm_se_as7'] = merged_se_as7['other_frm_se_as7'].astype(int)\n",
    "se_merged_as = pd.merge(se_merged_am, merged_se_as7, on='idoe_corporation_id', how='left')\n",
    "#se_merged_as.head()"
   ]
  },
  {
   "cell_type": "markdown",
   "metadata": {
    "id": "Af70Gcm2kO5Q"
   },
   "source": [
    "#BL7 data from SE"
   ]
  },
  {
   "cell_type": "code",
   "execution_count": 73,
   "metadata": {
    "id": "asZcjQUKZSzf"
   },
   "outputs": [],
   "source": [
    "se_bl7 = se_sch_age[se_sch_age['ethnicity'] == 'BL7']\n",
    "se_bl7 = se_bl7.idoe_corporation_id.value_counts().reindex(all_cops, fill_value=0).reset_index()\n",
    "se_bl7.columns = ['idoe_corporation_id', 'se_bl7_enrl']\n",
    "\n",
    "#merged\n",
    "merged_se_bl7 = pd.merge(se_total_count, se_bl7, on='idoe_corporation_id', how='left')\n",
    "merged_se_bl7['other_frm_se_bl7'] = merged_se_bl7['se_total_enrl'] - merged_se_bl7['se_bl7_enrl']\n",
    "\n",
    "#drop columns\n",
    "merged_se_bl7 = merged_se_bl7.drop(columns = ['se_bl7_enrl', 'se_total_enrl'])\n",
    "merged_se_bl7['other_frm_se_bl7'] = merged_se_bl7['other_frm_se_bl7'].astype(int)\n",
    "se_merged_bl = pd.merge(se_merged_as, merged_se_bl7, on='idoe_corporation_id', how='left')\n",
    "#se_merged_bl.head()"
   ]
  },
  {
   "cell_type": "markdown",
   "metadata": {
    "id": "CtcEIbRdqbRi"
   },
   "source": [
    "#HI7 from SE"
   ]
  },
  {
   "cell_type": "code",
   "execution_count": 74,
   "metadata": {
    "id": "tWHLuquoqlqr"
   },
   "outputs": [],
   "source": [
    "se_hi7 = se_sch_age[se_sch_age['ethnicity'] == 'HI7']\n",
    "se_hi7 = se_hi7.idoe_corporation_id.value_counts().reindex(all_cops, fill_value=0).reset_index()\n",
    "se_hi7.columns = ['idoe_corporation_id', 'se_hi7_enrl']\n",
    "\n",
    "#merged\n",
    "merged_se_hi7 = pd.merge(se_total_count, se_hi7, on='idoe_corporation_id', how='left')\n",
    "merged_se_hi7['other_frm_se_hi7'] = merged_se_hi7['se_total_enrl'] - merged_se_hi7['se_hi7_enrl']\n",
    "\n",
    "#drop columns\n",
    "merged_se_hi7 = merged_se_hi7.drop(columns = ['se_hi7_enrl', 'se_total_enrl'])\n",
    "merged_se_hi7['other_frm_se_hi7'] = merged_se_hi7['other_frm_se_hi7'].astype(int)\n",
    "se_merged_hi = pd.merge(se_merged_bl, merged_se_hi7, on='idoe_corporation_id', how='left')\n",
    "#se_merged_hi.head()"
   ]
  },
  {
   "cell_type": "markdown",
   "metadata": {
    "id": "-wVVwmVwrQbI"
   },
   "source": [
    "#MU data from SE"
   ]
  },
  {
   "cell_type": "code",
   "execution_count": 75,
   "metadata": {
    "id": "xb1tHOheqmI6"
   },
   "outputs": [],
   "source": [
    "se_mu7 = se_sch_age[se_sch_age['ethnicity'] == 'MU7']\n",
    "se_mu7 = se_mu7.idoe_corporation_id.value_counts().reindex(all_cops, fill_value=0).reset_index()\n",
    "se_mu7.columns = ['idoe_corporation_id', 'se_mu7_enrl']\n",
    "\n",
    "#merged\n",
    "merged_se_mu7 = pd.merge(se_total_count, se_mu7, on='idoe_corporation_id', how='left')\n",
    "merged_se_mu7['other_frm_se_mu7'] = merged_se_mu7['se_total_enrl'] - merged_se_mu7['se_mu7_enrl']\n",
    "\n",
    "#drop columns\n",
    "merged_se_mu7 = merged_se_mu7.drop(columns = ['se_mu7_enrl', 'se_total_enrl'])\n",
    "merged_se_mu7['other_frm_se_mu7'] = merged_se_mu7['other_frm_se_mu7'].astype(int)\n",
    "se_merged_mu = pd.merge(se_merged_hi, merged_se_mu7, on='idoe_corporation_id', how='left')\n",
    "#se_merged_mu.head()\n"
   ]
  },
  {
   "cell_type": "markdown",
   "metadata": {
    "id": "_qGwJ6VSrdkE"
   },
   "source": [
    "#PI data from SE"
   ]
  },
  {
   "cell_type": "code",
   "execution_count": 76,
   "metadata": {
    "id": "16MZ1NSargSk"
   },
   "outputs": [],
   "source": [
    "se_pi7 = se_sch_age[se_sch_age['ethnicity'] == 'PI7']\n",
    "se_pi7 = se_pi7.idoe_corporation_id.value_counts().reindex(all_cops, fill_value=0).reset_index()\n",
    "se_pi7.columns = ['idoe_corporation_id', 'se_pi7_enrl']\n",
    "\n",
    "#merged\n",
    "merged_se_pi7 = pd.merge(se_total_count, se_pi7, on='idoe_corporation_id', how='left')\n",
    "merged_se_pi7['other_frm_se_pi7'] = merged_se_pi7['se_total_enrl'] - merged_se_pi7['se_pi7_enrl']\n",
    "\n",
    "#drop columns\n",
    "merged_se_pi7 = merged_se_pi7.drop(columns = ['se_pi7_enrl', 'se_total_enrl'])\n",
    "merged_se_pi7['other_frm_se_pi7'] = merged_se_pi7['other_frm_se_pi7'].astype(int)\n",
    "se_merged_pi = pd.merge(se_merged_mu, merged_se_pi7, on='idoe_corporation_id', how='left')\n",
    "#se_merged_pi.head()"
   ]
  },
  {
   "cell_type": "markdown",
   "metadata": {
    "id": "1kmhkEF0rugd"
   },
   "source": [
    "#WH data from SE"
   ]
  },
  {
   "cell_type": "code",
   "execution_count": 77,
   "metadata": {
    "id": "CyIwlPzXrx7M"
   },
   "outputs": [],
   "source": [
    "se_wh7 = se_sch_age[se_sch_age['ethnicity'] == 'WH7']\n",
    "se_wh7 = se_wh7.idoe_corporation_id.value_counts().reindex(all_cops, fill_value=0).reset_index()\n",
    "se_wh7.columns = ['idoe_corporation_id', 'se_wh7_enrl']\n",
    "\n",
    "#merged\n",
    "merged_se_wh7 = pd.merge(se_total_count, se_wh7, on='idoe_corporation_id', how='left')\n",
    "merged_se_wh7['other_frm_se_wh7'] = merged_se_wh7['se_total_enrl'] - merged_se_wh7['se_wh7_enrl']\n",
    "\n",
    "#drop columns\n",
    "merged_se_wh7 = merged_se_wh7.drop(columns = ['se_wh7_enrl', 'se_total_enrl'])\n",
    "merged_se_wh7['other_frm_se_wh7'] = merged_se_wh7['other_frm_se_wh7'].astype(int)\n",
    "se_merged_wh = pd.merge(se_merged_pi, merged_se_wh7, on='idoe_corporation_id', how='left')\n",
    "#se_merged_wh.head()\n",
    "\n"
   ]
  },
  {
   "cell_type": "markdown",
   "metadata": {
    "id": "KooA1cvcspeP"
   },
   "source": [
    "#merged PE file to SE file for indicator 9 caculation"
   ]
  },
  {
   "cell_type": "code",
   "execution_count": 78,
   "metadata": {
    "id": "jKCVA5LXsBM9"
   },
   "outputs": [],
   "source": [
    "#se_merged_wh.head()"
   ]
  },
  {
   "cell_type": "markdown",
   "metadata": {
    "id": "b6fk04UOgLS5"
   },
   "source": [
    "##Rename race/ethnicity columns before merging to PE file"
   ]
  },
  {
   "cell_type": "code",
   "execution_count": 79,
   "metadata": {
    "id": "rRrbWDRmgWjJ"
   },
   "outputs": [],
   "source": [
    "se_merged = se_merged_wh.rename(columns = {'AM7': 'SE_AM7', 'AS7': 'SE_AS7', 'BL7': 'SE_BL7', 'HI7': 'SE_HI7', 'MU7': 'SE_MU7', 'PI7': 'SE_PI7', 'WH7': 'SE_WH7'})"
   ]
  },
  {
   "cell_type": "code",
   "execution_count": 80,
   "metadata": {
    "id": "zBY2P81igWnB"
   },
   "outputs": [],
   "source": [
    "#se_merged_wh.head()"
   ]
  },
  {
   "cell_type": "code",
   "execution_count": 81,
   "metadata": {
    "id": "ulomeVtehVFS"
   },
   "outputs": [],
   "source": [
    "all_merged = pd.merge(pe_merged_WH, se_merged, on='idoe_corporation_id', how='left')"
   ]
  },
  {
   "cell_type": "code",
   "execution_count": 82,
   "metadata": {
    "id": "86cXGVr0gKzp"
   },
   "outputs": [],
   "source": [
    "#all_merged.head()"
   ]
  },
  {
   "cell_type": "markdown",
   "metadata": {
    "id": "a0aElrA2-B8K"
   },
   "source": [
    "#Indicator 9 calculation\n",
    "\n",
    "Target Risk : Black student with disability / Black student enrolled\n",
    "\n",
    "Other Risk: All other Students with disability  divided by All other Students enrolled.\n",
    "\n",
    "Risk ratio =  Target Risk divided by Other Risk\n",
    "\n",
    "Black student with disability – N Size =  15\n",
    "\n",
    "Black student enrolled Cell Size = 15\n",
    "\n",
    "All other Students with disability  N Size = 15\n",
    "\n",
    "All other Students enrolled. cell Size = 15\n",
    "\n",
    "\n"
   ]
  },
  {
   "cell_type": "code",
   "execution_count": 83,
   "metadata": {
    "id": "mP8dtAJ2Quwi"
   },
   "outputs": [
    {
     "data": {
      "text/plain": [
       "(511, 31)"
      ]
     },
     "execution_count": 83,
     "metadata": {},
     "output_type": "execute_result"
    }
   ],
   "source": [
    "all_merged.shape"
   ]
  },
  {
   "cell_type": "markdown",
   "metadata": {
    "id": "V3GtkiZ6SBRz"
   },
   "source": [
    "##Risk ratio American Indian (AM7)"
   ]
  },
  {
   "cell_type": "code",
   "execution_count": 84,
   "metadata": {
    "id": "VDHKShmv-ZTV"
   },
   "outputs": [],
   "source": [
    "all_merged['risk_ratio_am7'] = (all_merged['SE_AM7'] * all_merged['other_frm_pe_am7']) / (all_merged['AM7'] * all_merged['other_frm_se_am7'])\n",
    "all_merged['risk_ratio_am7'] = all_merged['risk_ratio_am7'].replace([np.inf, -np.inf], np.nan)"
   ]
  },
  {
   "cell_type": "markdown",
   "metadata": {
    "id": "vh8PxheqSVkq"
   },
   "source": [
    "##Risk ratio Asian (AS7)"
   ]
  },
  {
   "cell_type": "code",
   "execution_count": 85,
   "metadata": {
    "id": "Wk4tIXgCRrFP"
   },
   "outputs": [],
   "source": [
    "all_merged['risk_ratio_as7'] = (all_merged['SE_AS7'] * all_merged['other_frm_pe_as7']) / (all_merged['AS7'] * all_merged['other_frm_se_as7'])\n",
    "all_merged['risk_ratio_as7'] = all_merged['risk_ratio_as7'].replace([np.inf, -np.inf], np.nan)"
   ]
  },
  {
   "cell_type": "markdown",
   "metadata": {
    "id": "FwV5jpEVVGhX"
   },
   "source": [
    "##Risk ratio Black(BL7)"
   ]
  },
  {
   "cell_type": "code",
   "execution_count": 86,
   "metadata": {
    "id": "hvxCdolCUqNl"
   },
   "outputs": [],
   "source": [
    "all_merged['risk_ratio_bl7'] = (all_merged['SE_BL7'] * all_merged['other_frm_pe_bl7']) / (all_merged['BL7'] * all_merged['other_frm_se_bl7'])\n",
    "all_merged['risk_ratio_bl7'] = all_merged['risk_ratio_bl7'].replace([np.inf, -np.inf], np.nan)"
   ]
  },
  {
   "cell_type": "markdown",
   "metadata": {
    "id": "YWzNO2lEWVNE"
   },
   "source": [
    "##Risk ratio Hispanic(HI7)"
   ]
  },
  {
   "cell_type": "code",
   "execution_count": 87,
   "metadata": {
    "id": "u_Z4OEAaWjR8"
   },
   "outputs": [],
   "source": [
    "all_merged['risk_ratio_hi7'] = (all_merged['SE_HI7'] * all_merged['other_frm_pe_HI7']) / (all_merged['HI7'] * all_merged['other_frm_se_hi7'])\n",
    "all_merged['risk_ratio_hi7'] = all_merged['risk_ratio_hi7'].replace([np.inf, -np.inf], np.nan)"
   ]
  },
  {
   "cell_type": "markdown",
   "metadata": {
    "id": "NiypiocbXke-"
   },
   "source": [
    "##Risk ratio Multiracial (Mu7)"
   ]
  },
  {
   "cell_type": "code",
   "execution_count": 88,
   "metadata": {
    "id": "BQrcuHhBX1Lf"
   },
   "outputs": [],
   "source": [
    "all_merged['risk_ratio_mu7'] = (all_merged['SE_MU7'] * all_merged['other_frm_pe_MU7']) / (all_merged['MU7'] * all_merged['other_frm_se_mu7'])\n",
    "all_merged['risk_ratio_mu7'] = all_merged['risk_ratio_mu7'].replace([np.inf, -np.inf], np.nan)"
   ]
  },
  {
   "cell_type": "markdown",
   "metadata": {
    "id": "OE-4zmFOZBhc"
   },
   "source": [
    "##Risk ratio Native Hawaiian or Other Pacific Islander(PI7)"
   ]
  },
  {
   "cell_type": "code",
   "execution_count": 89,
   "metadata": {
    "id": "nc5KpiDEX1gx"
   },
   "outputs": [],
   "source": [
    "all_merged['risk_ratio_pi7'] = (all_merged['SE_PI7'] * all_merged['other_frm_pe_PI7']) / (all_merged['PI7'] * all_merged['other_frm_se_pi7'])\n",
    "all_merged['risk_ratio_pi7'] = all_merged['risk_ratio_pi7'].replace([np.inf, -np.inf], np.nan)"
   ]
  },
  {
   "cell_type": "markdown",
   "metadata": {
    "id": "KEgG6gxbbTFY"
   },
   "source": [
    "##Risk ratio White(WH)"
   ]
  },
  {
   "cell_type": "code",
   "execution_count": 90,
   "metadata": {
    "id": "l-M7uztCaCsY"
   },
   "outputs": [],
   "source": [
    "all_merged['risk_ratio_wh7'] = (all_merged['SE_WH7'] * all_merged['other_frm_pe_WH7']) / (all_merged['WH7'] * all_merged['other_frm_se_wh7'])\n",
    "all_merged['risk_ratio_wh7'] = all_merged['risk_ratio_wh7'].replace([np.inf, -np.inf], np.nan)"
   ]
  },
  {
   "cell_type": "code",
   "execution_count": 91,
   "metadata": {
    "id": "65WjqZU-cBO6"
   },
   "outputs": [],
   "source": [
    "#all_merged.head()"
   ]
  },
  {
   "cell_type": "code",
   "execution_count": 92,
   "metadata": {
    "id": "oNI1UFSccmkm"
   },
   "outputs": [],
   "source": [
    "#all_merged.to_excel('all_merged_indicator_9_calc.xlsx', index = False)"
   ]
  },
  {
   "cell_type": "markdown",
   "metadata": {
    "id": "Lw3BIa6mysLK"
   },
   "source": [
    "#Data extraction for indicator 10 calculation\n",
    "\n",
    "Target risk : Black student with ED divided by black student enrolled\n",
    "\n",
    "Other risk : All other identified as ED divided by All other student enrolled\n",
    "\n",
    "Target risk : Black student with ED divided by black student enrolled\n",
    "\n",
    "Other risk : All other identified as ED divided by All other student enrolled\n",
    "\n",
    "Six specific disabilities:\n",
    "1.       Autism\n",
    "2.       Emotional Disturbance(ED)\n",
    "3.       Intellectual disability\n",
    "4.       Other health Impairments\n",
    "5.       Specific Learning Disability and\n",
    "6.     Speech or language impairment\n",
    "\n",
    "need to extract each specific disability with each target race. that data need to mege with pe_merged_WH\n"
   ]
  },
  {
   "cell_type": "markdown",
   "metadata": {
    "id": "IAQ6VyatLF_k"
   },
   "source": [
    "Run the disability code file, merge with se file to get disability code"
   ]
  },
  {
   "cell_type": "code",
   "execution_count": 93,
   "metadata": {
    "id": "eAU9d5FKLFXf"
   },
   "outputs": [],
   "source": [
    "disability = pd.read_excel('Excel Files/Disability_codes.xlsx')"
   ]
  },
  {
   "cell_type": "code",
   "execution_count": 94,
   "metadata": {
    "id": "KXtZFan6zw_L"
   },
   "outputs": [],
   "source": [
    "#disability.head(20)"
   ]
  },
  {
   "cell_type": "markdown",
   "metadata": {
    "id": "OUyDoZKEMLCJ"
   },
   "source": [
    "Converted full time and part time disability to Emotional disability\n",
    "mild, moderate, and severe intellectual disability to intellectual disability\n"
   ]
  },
  {
   "cell_type": "code",
   "execution_count": 95,
   "metadata": {
    "id": "PKJu0ohBMKGb"
   },
   "outputs": [],
   "source": [
    "disability.replace('Emotional Disability (Full-Time)', 'Emotional Disturbance', inplace = True)\n",
    "disability.replace('Emotional Disability (Part-Time)', 'Emotional Disturbance', inplace = True)"
   ]
  },
  {
   "cell_type": "code",
   "execution_count": 96,
   "metadata": {
    "id": "Aa62QG_N01ii"
   },
   "outputs": [],
   "source": [
    "disability.replace('Mild Intellectual Disability', 'Intellectual Disability', inplace = True)\n",
    "disability.replace('Moderate Intellectual Disability', 'Intellectual Disability', inplace = True)\n",
    "disability.replace('Severe Intellectual Disability', 'Intellectual Disability', inplace = True)"
   ]
  },
  {
   "cell_type": "code",
   "execution_count": 97,
   "metadata": {
    "id": "BdtcIQtGLraQ"
   },
   "outputs": [],
   "source": [
    "#disability.head(20)"
   ]
  },
  {
   "cell_type": "code",
   "execution_count": 98,
   "metadata": {
    "id": "io8UdNIFQsRp"
   },
   "outputs": [],
   "source": [
    "se_dis_sch_age = se_sch_age.merge(disability, right_on = 'Code', left_on = 'primaryexceptionality', how = 'left')"
   ]
  },
  {
   "cell_type": "code",
   "execution_count": 99,
   "metadata": {
    "id": "jYDGDoC1tWe3"
   },
   "outputs": [
    {
     "data": {
      "text/plain": [
       "Index(['schoolyear', 'submissionwindowid', 'idoe_corporation_id',\n",
       "       'reporting_corporation_name', 'legal_corporation',\n",
       "       'legal_corporation_name', 'idoe_school_id', 'school_name', 'stn',\n",
       "       'gender', 'ethnicity', 'birth_date', 'age_on_01_dec_2024', 'grade',\n",
       "       'programname', 'primaryexceptionality', 'secondaryexceptionality',\n",
       "       'primaryfundinglevel', 'secondaryfundinglevel', 'ideaeligibility',\n",
       "       'socio_econ_status_category', 'location', 'adm_type_id', 'Code',\n",
       "       'Disability'],\n",
       "      dtype='object')"
      ]
     },
     "execution_count": 99,
     "metadata": {},
     "output_type": "execute_result"
    }
   ],
   "source": [
    "se_dis_sch_age.columns"
   ]
  },
  {
   "cell_type": "code",
   "execution_count": 100,
   "metadata": {
    "id": "YQLm18hvkKvH"
   },
   "outputs": [],
   "source": [
    "#se_dis_sch_age.Disability.value_counts()"
   ]
  },
  {
   "cell_type": "code",
   "execution_count": 101,
   "metadata": {
    "colab": {
     "background_save": true
    },
    "id": "8MlYCrHHifbG"
   },
   "outputs": [],
   "source": [
    "from itertools import product\n",
    "ETHNICITY_CODES = {\n",
    "    'AM7': 'American Indian',\n",
    "    'HI7': 'Hispanic',\n",
    "    'AS7': 'Asian',\n",
    "    'MU7': 'Multiracial',\n",
    "    'BL7': 'Black',\n",
    "    'WH7': 'White',\n",
    "    'PI7': 'Other Pacific Islander'\n",
    "}\n",
    "\n",
    "DISABILITY_TYPES = [\n",
    "    'Autism Spectrum Disorder',\n",
    "    'Emotional Disturbance',\n",
    "    'Intellectual Disability',\n",
    "    'Other Health Impairment',\n",
    "    'Specific Learning Disability',\n",
    "    'Speech/Language Impairment'\n",
    "]\n",
    "\n",
    "\n",
    "\n",
    "# 3. Get unique corporation IDs\n",
    "corporation_ids = se_dis_sch_age['idoe_corporation_id'].unique()\n",
    "\n",
    "# 4. risk ratio function for corporation-level calculation\n",
    "def calculate_corporation_rr(corp_id, target_ethnicity, target_disability):\n",
    "    #Calculate risk ratio for a specific corporation#\n",
    "    # Filter data for this corporation\n",
    "    corp_sch_age = sch_age[sch_age['idoe_corporation_id'] == corp_id]\n",
    "    corp_disabilities = se_dis_sch_age[se_dis_sch_age['idoe_corporation_id'] == corp_id]\n",
    "\n",
    "    # Get sch_age counts\n",
    "    B = corp_sch_age[corp_sch_age['ethnicity'] == target_ethnicity].shape[0]\n",
    "    D = corp_sch_age[corp_sch_age['ethnicity'] != target_ethnicity].shape[0]\n",
    "\n",
    "    # Get disability counts\n",
    "    A = corp_disabilities[(corp_disabilities['ethnicity'] == target_ethnicity) &\n",
    "                         (corp_disabilities['Disability'] == target_disability)].shape[0]\n",
    "\n",
    "    C = corp_disabilities[(corp_disabilities['ethnicity'] != target_ethnicity) &\n",
    "                         (corp_disabilities['Disability'] == target_disability)].shape[0]\n",
    "\n",
    "    # Calculate risk ratio\n",
    "    try:\n",
    "        return (A * D) / (B * C) if (B * C) != 0 else float('nan')\n",
    "    except:\n",
    "        return float('nan')\n",
    "\n",
    "# 5. Calculate all combinations for all corporations\n",
    "results = []\n",
    "for corp_id in corporation_ids:\n",
    "    for eth_code, disability in product(ETHNICITY_CODES.keys(), DISABILITY_TYPES):\n",
    "        rr = calculate_corporation_rr(corp_id, eth_code, disability)\n",
    "        results.append({\n",
    "            'Corporation_ID': corp_id,\n",
    "            'Ethnicity_Code': eth_code,\n",
    "            'Ethnicity': ETHNICITY_CODES[eth_code],\n",
    "            'Disability': disability,\n",
    "            'Risk_Ratio': rr\n",
    "        })\n",
    "\n",
    "# 6. Create results DataFrame\n",
    "results_df = pd.DataFrame(results)\n",
    "\n",
    "# 7. Save comprehensive results\n",
    "results_df.to_csv('indicator_10_risk_ratios.csv', index=False)\n",
    "\n",
    "# 8. Create a summary pivot table\n",
    "pivot_summary = results_df.pivot_table(\n",
    "    index=['Corporation_ID', 'Ethnicity'],\n",
    "    columns='Disability',\n",
    "    values='Risk_Ratio'\n",
    ")\n",
    "\n",
    "# 9. Save and display summary\n",
    "# pivot_summary.to_csv('indicator_10_risk_ratios_summary.csv')\n",
    "# print(\"Top 10 Corporation Risk Ratios:\")\n",
    "# display(pivot_summary.head())\n"
   ]
  },
  {
   "cell_type": "markdown",
   "metadata": {
    "id": "dZ2v3Ofs90h8"
   },
   "source": [
    "#Validation of A, B, C, and D for random selection\n",
    "Changing Ethnicity and disabilites and verifying exact filter."
   ]
  },
  {
   "cell_type": "code",
   "execution_count": 102,
   "metadata": {
    "colab": {
     "background_save": true
    },
    "id": "llWtQhmoX1cu"
   },
   "outputs": [],
   "source": [
    "# se_am_autism = se_dis_sch_age[(se_dis_sch_age['ethnicity'] == 'MU7') & (se_dis_sch_age['Disability'] == 'Specific Learning Disability')]\n",
    "\n",
    "# ch1 = se_am_autism.query(\"idoe_corporation_id == 370\")\n",
    "#ch1 # A filtered numerator A filter accuratly"
   ]
  },
  {
   "cell_type": "markdown",
   "metadata": {
    "id": "-IyoFJtGIObs"
   },
   "source": [
    "Denominator validation (B)"
   ]
  },
  {
   "cell_type": "code",
   "execution_count": 103,
   "metadata": {
    "colab": {
     "background_save": true
    },
    "id": "JjinRfhP_UHG"
   },
   "outputs": [],
   "source": [
    "# filtered_sch_age = sch_age[\n",
    "#     (sch_age['idoe_corporation_id'] == 370) &\n",
    "#     (sch_age['ethnicity'] == 'AM7') &\n",
    "#     (sch_age['idea-eligibility'] == 'NonSPED')\n",
    "# ]"
   ]
  },
  {
   "cell_type": "code",
   "execution_count": 104,
   "metadata": {
    "colab": {
     "background_save": true
    },
    "id": "pezU4ccLYXPz",
    "outputId": "82f854b2-bd44-46cc-cde1-fb3e9b12f3ce"
   },
   "outputs": [],
   "source": [
    "#filtered_sch_age.ethnicity.value_counts()"
   ]
  },
  {
   "cell_type": "code",
   "execution_count": 105,
   "metadata": {
    "colab": {
     "background_save": true
    },
    "id": "D12srRpibkZd",
    "outputId": "9bde6c1a-d2de-406f-f088-58043143e786"
   },
   "outputs": [],
   "source": [
    "# check leading speces\n",
    "leading_spaces = sch_age['ethnicity'].str.startswith(' ').any()\n",
    "#print(f\"leading spcaces: {leading_spaces}\")\n"
   ]
  },
  {
   "cell_type": "code",
   "execution_count": 106,
   "metadata": {
    "colab": {
     "background_save": true
    },
    "id": "zL34dWmD8_WJ",
    "outputId": "ccecfaf1-390c-4aa7-b2de-1440b1d95247"
   },
   "outputs": [],
   "source": [
    "#print(se_am_autism['idoe_corporation_id'].unique())"
   ]
  },
  {
   "cell_type": "code",
   "execution_count": 107,
   "metadata": {
    "colab": {
     "background_save": true
    },
    "id": "VpBmldDd9UFS"
   },
   "outputs": [],
   "source": [
    "#se_am_autism.info()"
   ]
  },
  {
   "cell_type": "markdown",
   "metadata": {
    "id": "OKKMUo0j-b1c"
   },
   "source": [
    "#Verification from main data source"
   ]
  },
  {
   "cell_type": "code",
   "execution_count": 108,
   "metadata": {
    "colab": {
     "background_save": true
    },
    "id": "yfHsPI4Y7Kp4"
   },
   "outputs": [],
   "source": [
    "#ch2 = se_dis_sch_age.query(\"idoe_corporation_id == 370\")\n",
    "#ch2"
   ]
  },
  {
   "cell_type": "markdown",
   "metadata": {
    "id": "WwUjBAje3Nb5"
   },
   "source": [
    "#Denominator and Numerator data\n",
    "Meets the minimum cell and n size"
   ]
  },
  {
   "cell_type": "code",
   "execution_count": 109,
   "metadata": {
    "colab": {
     "background_save": true
    },
    "id": "L_yAqkwY3WxK",
    "outputId": "98744cbe-1718-4f3d-b7ee-119377e7b8e5"
   },
   "outputs": [
    {
     "ename": "KeyError",
     "evalue": "'meets_criteria'",
     "output_type": "error",
     "traceback": [
      "\u001b[31m---------------------------------------------------------------------------\u001b[39m",
      "\u001b[31mKeyError\u001b[39m                                  Traceback (most recent call last)",
      "\u001b[36mFile \u001b[39m\u001b[32m~\\AppData\\Roaming\\Python\\Python313\\site-packages\\pandas\\core\\indexes\\base.py:3805\u001b[39m, in \u001b[36mIndex.get_loc\u001b[39m\u001b[34m(self, key)\u001b[39m\n\u001b[32m   3804\u001b[39m \u001b[38;5;28;01mtry\u001b[39;00m:\n\u001b[32m-> \u001b[39m\u001b[32m3805\u001b[39m     \u001b[38;5;28;01mreturn\u001b[39;00m \u001b[38;5;28;43mself\u001b[39;49m\u001b[43m.\u001b[49m\u001b[43m_engine\u001b[49m\u001b[43m.\u001b[49m\u001b[43mget_loc\u001b[49m\u001b[43m(\u001b[49m\u001b[43mcasted_key\u001b[49m\u001b[43m)\u001b[49m\n\u001b[32m   3806\u001b[39m \u001b[38;5;28;01mexcept\u001b[39;00m \u001b[38;5;167;01mKeyError\u001b[39;00m \u001b[38;5;28;01mas\u001b[39;00m err:\n",
      "\u001b[36mFile \u001b[39m\u001b[32mindex.pyx:167\u001b[39m, in \u001b[36mpandas._libs.index.IndexEngine.get_loc\u001b[39m\u001b[34m()\u001b[39m\n",
      "\u001b[36mFile \u001b[39m\u001b[32mindex.pyx:196\u001b[39m, in \u001b[36mpandas._libs.index.IndexEngine.get_loc\u001b[39m\u001b[34m()\u001b[39m\n",
      "\u001b[36mFile \u001b[39m\u001b[32mpandas\\\\_libs\\\\hashtable_class_helper.pxi:7081\u001b[39m, in \u001b[36mpandas._libs.hashtable.PyObjectHashTable.get_item\u001b[39m\u001b[34m()\u001b[39m\n",
      "\u001b[36mFile \u001b[39m\u001b[32mpandas\\\\_libs\\\\hashtable_class_helper.pxi:7089\u001b[39m, in \u001b[36mpandas._libs.hashtable.PyObjectHashTable.get_item\u001b[39m\u001b[34m()\u001b[39m\n",
      "\u001b[31mKeyError\u001b[39m: 'meets_criteria'",
      "\nThe above exception was the direct cause of the following exception:\n",
      "\u001b[31mKeyError\u001b[39m                                  Traceback (most recent call last)",
      "\u001b[36mCell\u001b[39m\u001b[36m \u001b[39m\u001b[32mIn[109]\u001b[39m\u001b[32m, line 80\u001b[39m\n\u001b[32m      1\u001b[39m \u001b[38;5;66;03m# from itertools import product\u001b[39;00m\n\u001b[32m      2\u001b[39m \u001b[38;5;66;03m# ETHNICITY_CODES = {\u001b[39;00m\n\u001b[32m      3\u001b[39m \u001b[38;5;66;03m#     'AM7': 'American Indian',\u001b[39;00m\n\u001b[32m   (...)\u001b[39m\u001b[32m     78\u001b[39m \n\u001b[32m     79\u001b[39m \u001b[38;5;66;03m# 8. Create filtered version (only valid calculations)\u001b[39;00m\n\u001b[32m---> \u001b[39m\u001b[32m80\u001b[39m valid_results = results_df[\u001b[43mresults_df\u001b[49m\u001b[43m[\u001b[49m\u001b[33;43m'\u001b[39;49m\u001b[33;43mmeets_criteria\u001b[39;49m\u001b[33;43m'\u001b[39;49m\u001b[43m]\u001b[49m].copy()\n\u001b[32m     81\u001b[39m \u001b[38;5;66;03m#valid_results.to_csv('valid_corporation_risk_ratios.csv', index=False)\u001b[39;00m\n\u001b[32m     82\u001b[39m \n\u001b[32m     83\u001b[39m \u001b[38;5;66;03m#print(\"\\nSample of valid results:\")\u001b[39;00m\n\u001b[32m     84\u001b[39m \u001b[38;5;66;03m#display(valid_results.head())\u001b[39;00m\n",
      "\u001b[36mFile \u001b[39m\u001b[32m~\\AppData\\Roaming\\Python\\Python313\\site-packages\\pandas\\core\\frame.py:4102\u001b[39m, in \u001b[36mDataFrame.__getitem__\u001b[39m\u001b[34m(self, key)\u001b[39m\n\u001b[32m   4100\u001b[39m \u001b[38;5;28;01mif\u001b[39;00m \u001b[38;5;28mself\u001b[39m.columns.nlevels > \u001b[32m1\u001b[39m:\n\u001b[32m   4101\u001b[39m     \u001b[38;5;28;01mreturn\u001b[39;00m \u001b[38;5;28mself\u001b[39m._getitem_multilevel(key)\n\u001b[32m-> \u001b[39m\u001b[32m4102\u001b[39m indexer = \u001b[38;5;28;43mself\u001b[39;49m\u001b[43m.\u001b[49m\u001b[43mcolumns\u001b[49m\u001b[43m.\u001b[49m\u001b[43mget_loc\u001b[49m\u001b[43m(\u001b[49m\u001b[43mkey\u001b[49m\u001b[43m)\u001b[49m\n\u001b[32m   4103\u001b[39m \u001b[38;5;28;01mif\u001b[39;00m is_integer(indexer):\n\u001b[32m   4104\u001b[39m     indexer = [indexer]\n",
      "\u001b[36mFile \u001b[39m\u001b[32m~\\AppData\\Roaming\\Python\\Python313\\site-packages\\pandas\\core\\indexes\\base.py:3812\u001b[39m, in \u001b[36mIndex.get_loc\u001b[39m\u001b[34m(self, key)\u001b[39m\n\u001b[32m   3807\u001b[39m     \u001b[38;5;28;01mif\u001b[39;00m \u001b[38;5;28misinstance\u001b[39m(casted_key, \u001b[38;5;28mslice\u001b[39m) \u001b[38;5;129;01mor\u001b[39;00m (\n\u001b[32m   3808\u001b[39m         \u001b[38;5;28misinstance\u001b[39m(casted_key, abc.Iterable)\n\u001b[32m   3809\u001b[39m         \u001b[38;5;129;01mand\u001b[39;00m \u001b[38;5;28many\u001b[39m(\u001b[38;5;28misinstance\u001b[39m(x, \u001b[38;5;28mslice\u001b[39m) \u001b[38;5;28;01mfor\u001b[39;00m x \u001b[38;5;129;01min\u001b[39;00m casted_key)\n\u001b[32m   3810\u001b[39m     ):\n\u001b[32m   3811\u001b[39m         \u001b[38;5;28;01mraise\u001b[39;00m InvalidIndexError(key)\n\u001b[32m-> \u001b[39m\u001b[32m3812\u001b[39m     \u001b[38;5;28;01mraise\u001b[39;00m \u001b[38;5;167;01mKeyError\u001b[39;00m(key) \u001b[38;5;28;01mfrom\u001b[39;00m\u001b[38;5;250m \u001b[39m\u001b[34;01merr\u001b[39;00m\n\u001b[32m   3813\u001b[39m \u001b[38;5;28;01mexcept\u001b[39;00m \u001b[38;5;167;01mTypeError\u001b[39;00m:\n\u001b[32m   3814\u001b[39m     \u001b[38;5;66;03m# If we have a listlike key, _check_indexing_error will raise\u001b[39;00m\n\u001b[32m   3815\u001b[39m     \u001b[38;5;66;03m#  InvalidIndexError. Otherwise we fall through and re-raise\u001b[39;00m\n\u001b[32m   3816\u001b[39m     \u001b[38;5;66;03m#  the TypeError.\u001b[39;00m\n\u001b[32m   3817\u001b[39m     \u001b[38;5;28mself\u001b[39m._check_indexing_error(key)\n",
      "\u001b[31mKeyError\u001b[39m: 'meets_criteria'"
     ]
    }
   ],
   "source": [
    "# from itertools import product\n",
    "# ETHNICITY_CODES = {\n",
    "#     'AM7': 'American Indian',\n",
    "#     'HI7': 'Hispanic',\n",
    "#     'AS7': 'Asian',\n",
    "#     'MU7': 'Multiracial',\n",
    "#     'BL7': 'Black',\n",
    "#     'WH7': 'White',\n",
    "#     'PI7': 'Other Pacific Islander'\n",
    "# }\n",
    "\n",
    "# DISABILITY_TYPES = [\n",
    "#     'Autism Spectrum Disorder',\n",
    "#     'Emotional Disturbance',\n",
    "#     'Intellectual Disability',\n",
    "#     'Other Health Impairment',\n",
    "#     'Specific Learning Disability',\n",
    "#     'Speech/Language Impairment'\n",
    "# ]\n",
    "\n",
    "# MIN_CELL_SIZE = 15  # Your threshold for both numerator and denominator\n",
    "\n",
    "# # 3. Calculate corporation-level risk ratios with components\n",
    "# def calculate_corporation_rr(corp_id, target_eth, target_dis):\n",
    "#     \"\"\"Calculate with all components and size checks\"\"\"\n",
    "#     # Filter to corporation\n",
    "#     corp_enroll =sch_age[sch_age['idoe_corporation_id'] == corp_id]\n",
    "#     corp_dis = se_dis_sch_age[se_dis_sch_age['idoe_corporation_id'] == corp_id]\n",
    "\n",
    "#     # Calculate components\n",
    "#     A = corp_dis[(corp_dis['ethnicity'] == target_eth) &\n",
    "#                 (corp_dis['Disability'] == target_dis)].shape[0]\n",
    "#     B = corp_enroll[corp_enroll['ethnicity'] == target_eth].shape[0]\n",
    "#     C = corp_dis[(corp_dis['ethnicity'] != target_eth) &\n",
    "#                 (corp_dis['Disability'] == target_dis)].shape[0]\n",
    "#     D = corp_enroll[corp_enroll['ethnicity'] != target_eth].shape[0]\n",
    "\n",
    "#     # Check cell size criteria\n",
    "#     meets_criteria = all(x >= MIN_CELL_SIZE for x in [A, B, C, D])\n",
    "\n",
    "#     # Calculate risk ratio if criteria met\n",
    "#     rr = (A * D) / (B * C) if meets_criteria and (B * C) != 0 else float('nan')\n",
    "\n",
    "#     return {\n",
    "#         'A': A, 'B': B, 'C': C, 'D': D,\n",
    "#         'meets_criteria': meets_criteria,\n",
    "#         'Risk_Ratio': rr\n",
    "#     }\n",
    "\n",
    "# # 4. Process all combinations\n",
    "# results = []\n",
    "# for corp_id in se_dis_sch_age['idoe_corporation_id'].unique():\n",
    "#     for eth_code, disability in product(ETHNICITY_CODES.keys(), DISABILITY_TYPES):\n",
    "#         calc = calculate_corporation_rr(corp_id, eth_code, disability)\n",
    "\n",
    "#         results.append({\n",
    "#             'Corporation_ID': corp_id,\n",
    "#             'Ethnicity_Code': eth_code,\n",
    "#             'Ethnicity': ETHNICITY_CODES[eth_code],\n",
    "#             'Disability': disability,\n",
    "#             **calc  # Unpacks all calculated values\n",
    "#         })\n",
    "\n",
    "# # 5. Create DataFrame\n",
    "# results_df = pd.DataFrame(results)\n",
    "\n",
    "# # 6. Analysis of meeting criteria\n",
    "# criteria_met = results_df['meets_criteria'].sum()\n",
    "# total_combinations = len(results_df)\n",
    "# print(f\"\\nCell size criteria met in {criteria_met}/{total_combinations} cases ({criteria_met/total_combinations:.1%})\")\n",
    "\n",
    "# # 7. Save detailed results\n",
    "# output_cols = [\n",
    "#     'Corporation_ID', 'Ethnicity', 'Disability',\n",
    "#     'A', 'B', 'C', 'D', 'meets_criteria', 'Risk_Ratio'\n",
    "# ]\n",
    "# results_df[output_cols].to_csv('corporation_rr_with_components.csv', index=False)\n",
    "\n",
    "# 8. Create filtered version (only valid calculations)\n",
    "valid_results = results_df[results_df['meets_criteria']].copy()\n",
    "#valid_results.to_csv('valid_corporation_risk_ratios.csv', index=False)\n",
    "\n",
    "#print(\"\\nSample of valid results:\")\n",
    "#display(valid_results.head())\n"
   ]
  },
  {
   "cell_type": "markdown",
   "metadata": {
    "id": "CzSeAu-Y8hAU"
   },
   "source": [
    "#Fail to meet the minimum n and cell sizes"
   ]
  },
  {
   "cell_type": "code",
   "execution_count": null,
   "metadata": {
    "id": "7pdAMnPx74y-"
   },
   "outputs": [],
   "source": [
    "# from itertools import product\n",
    "# ETHNICITY_CODES = {\n",
    "#     'AM7': 'American Indian',\n",
    "#     'HI7': 'Hispanic',\n",
    "#     'AS7': 'Asian',\n",
    "#     'MU7': 'Multiracial',\n",
    "#     'BL7': 'Black',\n",
    "#     'WH7': 'White',\n",
    "#     'PI7': 'Other Pacific Islander'\n",
    "# }\n",
    "\n",
    "# DISABILITY_TYPES = [\n",
    "#     'Autism Spectrum Disorder',\n",
    "#     'Emotional Disturbance',\n",
    "#     'Intellectual Disability',\n",
    "#     'Other Health Impairment',\n",
    "#     'Specific Learning Disability',\n",
    "#     'Speech/Language Impairment'\n",
    "# ]\n",
    "\n",
    "\n",
    "\n",
    "# def calculate_with_flags(corp_id, eth, dis):\n",
    "#     \"\"\"Calculate components and flag any that fail size criteria\"\"\"\n",
    "#     # Filter to corporation\n",
    "#     corp_enroll = sch_age[sch_age['idoe_corporation_id'] == corp_id]\n",
    "#     corp_dis = se_dis_sch_age[se_dis_sch_age['idoe_corporation_id'] == corp_id]\n",
    "\n",
    "#     # Calculate components\n",
    "#     A = corp_dis[(corp_dis['ethnicity'] == eth) & (corp_dis['Disability'] == dis)].shape[0]\n",
    "#     B = corp_enroll[corp_enroll['ethnicity'] == eth].shape[0]\n",
    "#     C = corp_dis[(corp_dis['ethnicity'] != eth) & (corp_dis['Disability'] == dis)].shape[0]\n",
    "#     D = corp_enroll[corp_enroll['ethnicity'] != eth].shape[0]\n",
    "\n",
    "#     # Flag components that fail criteria\n",
    "#     flags = {\n",
    "#         'A_Valid': A >= MIN_CELL_SIZE,\n",
    "#         'B_Valid': B >= MIN_CELL_SIZE,\n",
    "#         'C_Valid': C >= MIN_CELL_SIZE,\n",
    "#         'D_Valid': D >= MIN_CELL_SIZE,\n",
    "#     }\n",
    "\n",
    "#     # Overall validity\n",
    "#     meets_criteria = all(flags.values())\n",
    "\n",
    "#     # Calculate RR only if valid\n",
    "#     rr = (A * D) / (B * C) if meets_criteria and (B * C) != 0 else float('nan')\n",
    "\n",
    "#     return {\n",
    "#         'A': A, 'B': B, 'C': C, 'D': D,\n",
    "#         **flags,\n",
    "#         'All_Components_Valid': meets_criteria,\n",
    "#         'Risk_Ratio': rr,\n",
    "#         'Note': \"\" if meets_criteria else \"Excluded - Fails cell size criteria\"\n",
    "#     }\n",
    "\n",
    "# # Process all combinations\n",
    "# flagged_results = []\n",
    "# for corp_id in se_dis_sch_age['idoe_corporation_id'].unique():\n",
    "#     for eth, dis in product(ETHNICITY_CODES.keys(), DISABILITY_TYPES):\n",
    "#         res = calculate_with_flags(corp_id, eth, dis)\n",
    "#         flagged_results.append({\n",
    "#             'Corporation_ID': corp_id,\n",
    "#             'Ethnicity_Code': eth,\n",
    "#             'Ethnicity': ETHNICITY_CODES[eth],\n",
    "#             'Disability': dis,\n",
    "#             **res\n",
    "#         })\n",
    "\n",
    "# # Create DataFrame\n",
    "# flagged_df = pd.DataFrame(flagged_results)\n",
    "\n",
    "# # Highlight problematic corporations\n",
    "# problem_corporations = flagged_df[~flagged_df['All_Components_Valid']]['Corporation_ID'].unique()\n",
    "# print(f\"Corporations needing review ({len(problem_corporations)}): {sorted(problem_corporations)}\")\n",
    "\n",
    "# # Save with conditional formatting hints\n",
    "# with pd.ExcelWriter('flagged_risk_ratios.xlsx') as writer:\n",
    "#     # Full data\n",
    "#     flagged_df.to_excel(writer, sheet_name='All Calculations', index=False)\n",
    "\n",
    "#     # Valid only\n",
    "#     valid_df = flagged_df[flagged_df['All_Components_Valid']]\n",
    "#     valid_df.to_excel(writer, sheet_name='Valid Calculations', index=False)\n",
    "\n",
    "#     # Problem cases\n",
    "#     problem_df = flagged_df[~flagged_df['All_Components_Valid']]\n",
    "#     problem_df.to_excel(writer, sheet_name='Needs Review', index=False)\n",
    "\n",
    "#print(\"Output saved to 'flagged_risk_ratios.xlsx' with separate tabs\")\n"
   ]
  },
  {
   "cell_type": "markdown",
   "metadata": {
    "id": "MpNPo_VwDxZD"
   },
   "source": [
    "All RR - that data used in the final submission"
   ]
  },
  {
   "cell_type": "code",
   "execution_count": null,
   "metadata": {
    "id": "jHGgLbfADw1b"
   },
   "outputs": [],
   "source": [
    "# from itertools import product\n",
    "# ETHNICITY_CODES = {\n",
    "#     'AM7': 'American Indian',\n",
    "#     'HI7': 'Hispanic',\n",
    "#     'AS7': 'Asian',\n",
    "#     'MU7': 'Multiracial',\n",
    "#     'BL7': 'Black',\n",
    "#     'WH7': 'White',\n",
    "#     'PI7': 'Other Pacific Islander'\n",
    "# }\n",
    "\n",
    "# DISABILITY_TYPES = [\n",
    "#     'Autism Spectrum Disorder',\n",
    "#     'Emotional Disturbance',\n",
    "#     'Intellectual Disability',\n",
    "#     'Other Health Impairment',\n",
    "#     'Specific Learning Disability',\n",
    "#     'Speech/Language Impairment'\n",
    "# ]\n",
    "\n",
    "\n",
    "# # 2. Configuration\n",
    "# MIN_CELL_SIZE = 15  # Your threshold\n",
    "\n",
    "# # 3. Enhanced calculation function\n",
    "# def calculate_rr_with_components(corp_id, eth, dis):\n",
    "#     corp_enroll = sch_age[sch_age['idoe_corporation_id'] == corp_id]\n",
    "#     corp_dis = se_dis_sch_age[se_dis_sch_age['idoe_corporation_id'] == corp_id]\n",
    "\n",
    "#     # Calculate components\n",
    "#     A = corp_dis[(corp_dis['ethnicity'] == eth) & (corp_dis['Disability'] == dis)].shape[0]\n",
    "#     B = corp_enroll[corp_enroll['ethnicity'] == eth].shape[0]\n",
    "#     C = corp_dis[(corp_dis['ethnicity'] != eth) & (corp_dis['Disability'] == dis)].shape[0]\n",
    "#     D = corp_enroll[corp_enroll['ethnicity'] != eth].shape[0]\n",
    "\n",
    "#     # Check criteria\n",
    "#     valid_A = A >= MIN_CELL_SIZE\n",
    "#     valid_B = B >= MIN_CELL_SIZE\n",
    "#     valid_C = C >= MIN_CELL_SIZE\n",
    "#     valid_D = D >= MIN_CELL_SIZE\n",
    "#     meets_criteria = all([valid_A, valid_B, valid_C, valid_D])\n",
    "\n",
    "#     # Calculate RR only if meets criteria\n",
    "#     rr = (A * D) / (B * C) if meets_criteria and (B * C) != 0 else float('nan')\n",
    "\n",
    "#     return {\n",
    "#         'A': A, 'B': B, 'C': C, 'D': D,\n",
    "#         'meets_criteria': meets_criteria,\n",
    "#         'valid_A': valid_A, 'valid_B': valid_B, 'valid_C': valid_C, 'valid_D': valid_D,\n",
    "#         'Risk_Ratio': rr\n",
    "#     }\n",
    "\n",
    "# # 4. Process all combinations (keeping ALL results)\n",
    "# full_results = []\n",
    "# for corp_id in se_dis_sch_age['idoe_corporation_id'].unique():\n",
    "#     for eth, dis in product(ETHNICITY_CODES.keys(), DISABILITY_TYPES):\n",
    "#         res = calculate_rr_with_components(corp_id, eth, dis)\n",
    "#         full_results.append({\n",
    "#             'Corporation_ID': corp_id,\n",
    "#             'Ethnicity': ETHNICITY_CODES[eth],\n",
    "#             'Disability': dis,\n",
    "#             **res\n",
    "#         })\n",
    "\n",
    "# # 5. Create DataFrames\n",
    "# all_results_df = pd.DataFrame(full_results)  # Contains ALL calculations\n",
    "# valid_results_df = all_results_df[all_results_df['meets_criteria']].copy()  # Only valid\n",
    "\n",
    "# # 6. Analysis reports\n",
    "# print(\"Data Quality Report:\")\n",
    "# print(f\"Total calculations: {len(all_results_df)}\")\n",
    "# print(f\"Valid calculations (meets all criteria): {len(valid_results_df)} ({len(valid_results_df)/len(all_results_df):.1%})\")\n",
    "# print(\"\\nBreakdown of failing criteria:\")\n",
    "# criteria_report = all_results_df[['valid_A', 'valid_B', 'valid_C', 'valid_D']].apply(lambda x: x.value_counts())\n",
    "# display(criteria_report)\n",
    "\n",
    "# # 7. round risk ratio 4 after decimal, A, B, C, D should be whole number\n",
    "# valid_results_df = valid_results_df.round({\n",
    "#     'A': 0, 'B': 0, 'C': 0, 'D': 0, 'Risk_Ratio': 4\n",
    "# })\n",
    "\n",
    "# # Save outputs\n",
    "# all_results_df.to_csv('ALL_corporation_RR_calculations.csv', index=False)  # All attempts\n",
    "# valid_results_df.to_csv('VALID_corporation_risk_ratios.csv', index=False)  # Only valid\n",
    "\n",
    "# # 8. Optional: Create troubleshooting file\n",
    "# problem_cases = all_results_df[~all_results_df['meets_criteria']]\n",
    "# problem_cases.to_csv('corporations_needing_review.csv', index=False)\n"
   ]
  },
  {
   "cell_type": "markdown",
   "metadata": {
    "id": "PxSEWIQfsDz2"
   },
   "source": [
    "#Risk Ratio validation"
   ]
  },
  {
   "cell_type": "code",
   "execution_count": null,
   "metadata": {
    "id": "YC64ZIDEsC--"
   },
   "outputs": [],
   "source": [
    "#Validation Function\n",
    "# rr_validation = pd.read_csv('ALL_corporation_RR_calculations.csv')\n",
    "# def valdiate_row(row):\n",
    "#   try:\n",
    "#     #Recalculate from component\n",
    "#     recalculated_rr = (row['A'] * row['D']) / (row['B'] * row['C'])\n",
    "#     #handle divsion by zero errors\n",
    "#     if pd.isna(recalculated_rr) and pd.isna(row['Risk_Ratio']):\n",
    "#       return True\n",
    "#       #Compare with tolrence for floating point differences\n",
    "#       return abs(recalculated_rr - row['Risk_Ratio']) < 0.000001\n",
    "#   except:\n",
    "#     return False\n",
    "\n",
    "# #Apply validation\n",
    "# rr_validation['Validation_Result'] = rr_validation.apply(valdiate_row, axis=1)\n"
   ]
  },
  {
   "cell_type": "markdown",
   "metadata": {
    "id": "wt2lc8AyjuQe"
   },
   "source": [
    "#Numerator and denominator validation"
   ]
  },
  {
   "cell_type": "code",
   "execution_count": null,
   "metadata": {
    "id": "4kZSk1FOlEbU"
   },
   "outputs": [],
   "source": [
    "sch_age.info()"
   ]
  },
  {
   "cell_type": "code",
   "execution_count": null,
   "metadata": {
    "id": "6ytvVoAalcZl"
   },
   "outputs": [],
   "source": [
    "se_dis_sch_age.info()"
   ]
  },
  {
   "cell_type": "code",
   "execution_count": null,
   "metadata": {
    "id": "x56OCNgXyH3S"
   },
   "outputs": [],
   "source": [
    "# import pandas as pd\n",
    "\n",
    "# # 1. Load data with explicit dtype for IDs to avoid mixed-type issues\n",
    "# enrollment = pd.read_csv('sch_age.csv', dtype={'idoe_corporation_id': str, 'stn': str})\n",
    "# disabilities = pd.read_csv('se_dis_sch_age.csv', dtype={'idoe_corporation_id': str, 'STn': str})\n",
    "\n",
    "# # 2. Validation function for Corporation X and Ethnicity Y\n",
    "# def validate_counts(corp_id, eth_code):\n",
    "#     print(f\"\\n Validation for Corporation {corp_id}, Ethnicity {eth_code} ({ETHNICITY_CODES[eth_code]})\")\n",
    "\n",
    "#     # Get ACTUAL enrollment (B) from raw data\n",
    "#     actual_B = enrollment[\n",
    "#         (enrollment['idoe_corporation_id'] == corp_id) &\n",
    "#         (enrollment['ethnicity'] == eth_code)\n",
    "#     ].shape[0]\n",
    "\n",
    "#     # Get what the RR calculation was using\n",
    "#     calc_B = flagged_df[\n",
    "#         (flagged_df['Corporation_ID'] == corp_id) &\n",
    "#         (flagged_df['Ethnicity_Code'] == eth_code)\n",
    "#     ]['B'].values[0] if not flagged_df[\n",
    "#         (flagged_df['Corporation_ID'] == corp_id) &\n",
    "#         (flagged_df['Ethnicity_Code'] == eth_code)\n",
    "#     ].empty else 0\n",
    "\n",
    "#     print(f\"• Enrollment from raw data: {actual_B}\")\n",
    "#     print(f\"• Enrollment used in calc: {calc_B}\")\n",
    "#     print(f\"• Match: {actual_B == calc_B}\")\n",
    "\n",
    "# # 3. Spot-check problematic cases\n",
    "# print(\"🛠️ Debugging Enrollment Counts (B values):\")\n",
    "\n",
    "# # Case 1: Check a corporation where you noticed discrepancies\n",
    "# validate_counts('123', 'BL7')  # Replace with actual problematic corp ID\n",
    "\n",
    "# # Case 2: Check a case that worked correctly\n",
    "# validate_counts('456', 'WH7')  # Replace with known good corp ID\n",
    "\n",
    "# # 4. Recalculate B values with verification\n",
    "# def recalculate_B_values():\n",
    "#     \"\"\"Recompute enrollment counts with verification checks\"\"\"\n",
    "#     for corp_id in disabilities['idoe_corporation_id'].unique():\n",
    "#         corp_enroll = enrollment[enrollment['idoe_corporation_id'] == corp_id]\n",
    "\n",
    "#         for eth_code in ETHNICITY_CODES:\n",
    "#             # New calculation\n",
    "#             true_count = corp_enroll[corp_enroll['ethnicity'] == eth_code].shape[0]\n",
    "\n",
    "#             # Update all relevant rows in flagged_df\n",
    "#             mask = (flagged_df['Corporation_ID'] == corp_id) & (flagged_df['Ethnicity_Code'] == eth_code)\n",
    "#             flagged_df.loc[mask, 'B'] = true_count\n",
    "\n",
    "#             # Revalidate\n",
    "#             if not mask.any():\n",
    "#                 print(f\" No entries for Corp {corp_id}, Ethnicity {eth_code}\")\n",
    "\n",
    "#     print(\" B values recalculated and verified\")\n",
    "\n",
    "# # 5. Execute recalculation\n",
    "# recalculate_B_values()\n",
    "\n",
    "# # 6. Recheck previously problematic cases\n",
    "# print(\"\\n Post-fix verification:\")\n",
    "# validate_counts('123', 'BL7')  # Same corp as before\n",
    "\n",
    "# # 7. Save corrected data\n",
    "# flagged_df.to_csv('corrected_risk_ratios.csv', index=False)\n",
    "# print(\"\\n Saved corrected data to 'corrected_risk_ratios.csv'\")\n",
    "\n",
    "# # Check for duplicate student IDs that might affect counts\n",
    "#    print(f\"Duplicate STn in enrollment: {enrollment['STn'].duplicated().sum()}\")\n",
    "\n",
    "#    # Check ethnicity value distribution\n",
    "#    print(enrollment['ethnicity'].value_counts())\n",
    "\n",
    "# # Deep dive into specific corporation\n",
    "#    corp = '123'  # Problematic corporation\n",
    "#    print(\"\\nEnrollment records for Corp\", corp)\n",
    "#    display(enrollment[enrollment['idoe_corporation_id'] == corp]['ethnicity'].value_counts())\n",
    "\n",
    "#    print(\"\\nDisability records for Corp\", corp)\n",
    "#    display(disabilities[disabilities['idoe_corporation_id'] == corp]['ethnicity'].value_counts())\n",
    "\n",
    "# Expected output\n",
    "\n",
    "#  Debugging Enrollment Counts (B values):\n",
    "\n",
    "#  Validation for Corporation 123, Ethnicity BL7 (Black)\n",
    "# • Enrollment from raw data: 42\n",
    "# • Enrollment used in calc: 38\n",
    "# • Match: False\n",
    "\n",
    "# B values recalculated and verified\n",
    "\n",
    "# Post-fix verification:\n",
    "#  Validation for Corporation 123, Ethnicity BL7 (Black)\n",
    "# • Enrollment from raw data: 42\n",
    "# • Enrollment used in calc: 42\n",
    "# • Match: True\n",
    "\n"
   ]
  },
  {
   "cell_type": "code",
   "execution_count": null,
   "metadata": {
    "id": "87d4_uACrsob"
   },
   "outputs": [],
   "source": [
    "# df = pd.read_csv('ALL_corporation_RR_calculations.csv')\n",
    "\n",
    "# # Validation function\n",
    "# def validate_row(row):\n",
    "#     try:\n",
    "#         # Recalculate from components\n",
    "#         recalculated_rr = (row['A'] * row['D']) / (row['B'] * row['C'])\n",
    "\n",
    "#         # Handle division by zero\n",
    "#         if pd.isna(recalculated_rr) and pd.isna(row['Risk_Ratio']):\n",
    "#             return True\n",
    "\n",
    "#         # Compare with tolerance for floating point differences\n",
    "#         return abs(recalculated_rr - row['Risk_Ratio']) < 0.000001\n",
    "#     except:\n",
    "#         return False\n",
    "\n",
    "# # Apply validation\n",
    "# df['Validation_Result'] = df.apply(validate_row, axis=1)\n",
    "\n",
    "# # Check discrepancies\n",
    "# discrepancies = df[~df['Validation_Result']]\n",
    "# print(f\"Found {len(discrepancies)} discrepancies out of {len(df)} calculations\")\n",
    "\n",
    "# # Save validation report\n",
    "# df.to_csv('VALIDATED_corporation_RR.csv', index=False)\n",
    "\n",
    "# Spot check specific cases:\n",
    "# # Function for manual spot-checking\n",
    "# def spot_check(corp_id, ethnicity, disability):\n",
    "#     subset = df[\n",
    "#         (df['Corporation_ID'] == corp_id) &\n",
    "#         (df['Ethnicity'] == ethnicity) &\n",
    "#         (df['Disability'] == disability)\n",
    "#     ]\n",
    "#     if len(subset) == 0:\n",
    "#         print(\"No matching records found\")\n",
    "#         return\n",
    "\n",
    "#     row = subset.iloc[0]\n",
    "#     print(f\"\\n Spot Check for {ethnicity} students with {disability} at Corporation {corp_id}:\")\n",
    "#     print(f\"A (numerator): {row['A']} {ethnicity} students with {disability}\")\n",
    "#     print(f\"B (denominator): {row['B']} total {ethnicity} students\")\n",
    "#     print(f\"C: {row['C']} non-{ethnicity} students with {disability}\")\n",
    "#     print(f\"D: {row['D']} total non-{ethnicity} students\")\n",
    "#     print(f\"\\nCalculation: ({row['A']} × {row['D']}) / ({row['B']} × {row['C']})\")\n",
    "#     print(f\"Stored RR: {row['Risk_Ratio']:.4f}\")\n",
    "#     print(f\"Recalculated: {(row['A'] * row['D']) / (row['B'] * row['C']):.4f}\")\n",
    "\n",
    "# # Example usage - check a known case\n",
    "# spot_check(corp_id=123, ethnicity='Black', disability='autism')\n",
    "\n",
    "# Statistical sanity check\n",
    "# # 1. Check RR distribution\n",
    "# print(\"\\n Risk Ratio Distribution:\")\n",
    "# print(df['Risk_Ratio'].describe())\n",
    "\n",
    "# # 2. Verify extreme values\n",
    "# print(\"\\n🔝 Top 10 Highest Risk Ratios:\")\n",
    "# print(df.nlargest(10, 'Risk_Ratio')[['Corporation_ID', 'Ethnicity', 'Disability', 'Risk_Ratio']])\n",
    "\n",
    "# # 3. Check zeros/infinities\n",
    "# print(\"\\n Special Cases:\")\n",
    "# print(f\"Zero RR: {len(df[df['Risk_Ratio'] == 0])} cases\")\n",
    "# print(f\"Infinite RR: {len(df[df['Risk_Ratio'] == float('inf')])} cases\")\n",
    "# print(f\"NaN RR: {len(df[pd.isna(df['Risk_Ratio'])])} cases\")\n",
    "\n",
    "# Visualization for outliers\n",
    "# import matplotlib.pyplot as plt\n",
    "\n",
    "# plt.figure(figsize=(10, 6))\n",
    "# plt.scatter(df['A'], df['Risk_Ratio'], alpha=0.5)\n",
    "# plt.xlabel('Numerator (A)')\n",
    "# plt.ylabel('Risk Ratio')\n",
    "# plt.title('Risk Ratio vs. Numerator Size')\n",
    "# plt.yscale('log')  # Helps visualize wide ranges\n",
    "# plt.grid(True)\n",
    "# plt.savefig('rr_validation_plot.png')\n",
    "# plt.show()\n",
    "\n",
    "# Export validation report\n",
    "\n",
    "# with pd.ExcelWriter('validation_report.xlsx') as writer:\n",
    "#     # All calculations with validation flag\n",
    "#     df.to_excel(writer, sheet_name='All Calculations', index=False)\n",
    "\n",
    "#     # Discrepancies only\n",
    "#     discrepancies.to_excel(writer, sheet_name='Discrepancies', index=False)\n",
    "\n",
    "#     # Summary stats\n",
    "#     pd.DataFrame({\n",
    "#         'Validation Metric': ['Total Calculations', 'Valid Calculations', 'Invalid Calculations'],\n",
    "#         'Count': [len(df), len(df[df['Validation_Result']]), len(discrepancies)]\n",
    "#     }).to_excel(writer, sheet_name='Summary', index=False)\n",
    "\n",
    "# print(\" Validation report saved to validation_report.xlsx\")\n"
   ]
  },
  {
   "cell_type": "code",
   "execution_count": 110,
   "metadata": {
    "id": "NS3qli2KY_BD"
   },
   "outputs": [
    {
     "name": "stdout",
     "output_type": "stream",
     "text": [
      "Data Quality Report:\n",
      "Total calculations: 17682\n",
      "Valid calculations (meets all criteria): 4398 (24.9%)\n",
      "\n",
      "Breakdown of failing criteria:\n"
     ]
    },
    {
     "data": {
      "text/html": [
       "<div>\n",
       "<style scoped>\n",
       "    .dataframe tbody tr th:only-of-type {\n",
       "        vertical-align: middle;\n",
       "    }\n",
       "\n",
       "    .dataframe tbody tr th {\n",
       "        vertical-align: top;\n",
       "    }\n",
       "\n",
       "    .dataframe thead th {\n",
       "        text-align: right;\n",
       "    }\n",
       "</style>\n",
       "<table border=\"1\" class=\"dataframe\">\n",
       "  <thead>\n",
       "    <tr style=\"text-align: right;\">\n",
       "      <th></th>\n",
       "      <th>valid_A</th>\n",
       "      <th>valid_B</th>\n",
       "      <th>valid_C</th>\n",
       "      <th>valid_D</th>\n",
       "    </tr>\n",
       "  </thead>\n",
       "  <tbody>\n",
       "    <tr>\n",
       "      <th>False</th>\n",
       "      <td>12684</td>\n",
       "      <td>8742</td>\n",
       "      <td>1866</td>\n",
       "      <td>120</td>\n",
       "    </tr>\n",
       "    <tr>\n",
       "      <th>True</th>\n",
       "      <td>4998</td>\n",
       "      <td>8940</td>\n",
       "      <td>15816</td>\n",
       "      <td>17562</td>\n",
       "    </tr>\n",
       "  </tbody>\n",
       "</table>\n",
       "</div>"
      ],
      "text/plain": [
       "       valid_A  valid_B  valid_C  valid_D\n",
       "False    12684     8742     1866      120\n",
       "True      4998     8940    15816    17562"
      ]
     },
     "metadata": {},
     "output_type": "display_data"
    }
   ],
   "source": [
    "from itertools import product\n",
    "ETHNICITY_CODES = {\n",
    "    'AM7': 'American Indian',\n",
    "    'HI7': 'Hispanic',\n",
    "    'AS7': 'Asian',\n",
    "    'MU7': 'Multiracial',\n",
    "    'BL7': 'Black',\n",
    "    'WH7': 'White',\n",
    "    'PI7': 'Other Pacific Islander'\n",
    "}\n",
    "\n",
    "DISABILITY_TYPES = [\n",
    "    'Autism Spectrum Disorder',\n",
    "    'Emotional Disturbance',\n",
    "    'Intellectual Disability',\n",
    "    'Other Health Impairment',\n",
    "    'Specific Learning Disability',\n",
    "    'Speech/Language Impairment'\n",
    "]\n",
    "\n",
    "\n",
    "# # 2. Configuration\n",
    "MIN_CELL_SIZE = 15  # Your threshold\n",
    "\n",
    "# 3. Enhanced calculation function\n",
    "def calculate_rr_with_components(corp_id, eth, dis):\n",
    "    corp_enroll = sch_age[sch_age['idoe_corporation_id'] == corp_id]\n",
    "    corp_dis = se_dis_sch_age[se_dis_sch_age['idoe_corporation_id'] == corp_id]\n",
    "\n",
    "    # Calculate components\n",
    "    A = corp_dis[(corp_dis['ethnicity'] == eth)].shape[0]\n",
    "    B = corp_enroll[corp_enroll['ethnicity'] == eth].shape[0]\n",
    "    C = corp_dis[(corp_dis['ethnicity'] != eth)].shape[0]\n",
    "    D = corp_enroll[corp_enroll['ethnicity'] != eth].shape[0]\n",
    "\n",
    "    # Check criteria\n",
    "    valid_A = A >= MIN_CELL_SIZE\n",
    "    valid_B = B >= MIN_CELL_SIZE\n",
    "    valid_C = C >= MIN_CELL_SIZE\n",
    "    valid_D = D >= MIN_CELL_SIZE\n",
    "    meets_criteria = all([valid_A, valid_B, valid_C, valid_D])\n",
    "\n",
    "    # Calculate RR only if meets criteria\n",
    "    rr = (A * D) / (B * C) if meets_criteria and (B * C) != 0 else float('nan')\n",
    "\n",
    "    return {\n",
    "        'A': A, 'B': B, 'C': C, 'D': D,\n",
    "        'meets_criteria': meets_criteria,\n",
    "        'valid_A': valid_A, 'valid_B': valid_B, 'valid_C': valid_C, 'valid_D': valid_D,\n",
    "        'Risk_Ratio': rr\n",
    "    }\n",
    "\n",
    "# # 4. Process all combinations (keeping ALL results)\n",
    "full_results = []\n",
    "for corp_id in se_dis_sch_age['idoe_corporation_id'].unique():\n",
    "    for eth, dis in product(ETHNICITY_CODES.keys(), DISABILITY_TYPES):\n",
    "        res = calculate_rr_with_components(corp_id, eth, dis)\n",
    "        full_results.append({\n",
    "            'Corporation_ID': corp_id,\n",
    "            'Ethnicity': ETHNICITY_CODES[eth],\n",
    "            'Disability': dis,\n",
    "            **res\n",
    "        })\n",
    "\n",
    "# # 5. Create DataFrames\n",
    "all_results_df = pd.DataFrame(full_results)  # Contains ALL calculations\n",
    "valid_results_df = all_results_df[all_results_df['meets_criteria']].copy()  # Only valid\n",
    "\n",
    "# 6. Analysis reports\n",
    "print(\"Data Quality Report:\")\n",
    "print(f\"Total calculations: {len(all_results_df)}\")\n",
    "print(f\"Valid calculations (meets all criteria): {len(valid_results_df)} ({len(valid_results_df)/len(all_results_df):.1%})\")\n",
    "print(\"\\nBreakdown of failing criteria:\")\n",
    "criteria_report = all_results_df[['valid_A', 'valid_B', 'valid_C', 'valid_D']].apply(lambda x: x.value_counts())\n",
    "display(criteria_report)\n",
    "\n",
    "# 7. round risk ratio 4 after decimal, A, B, C, D should be whole number\n",
    "valid_results_df = valid_results_df.round({\n",
    "    'A': 0, 'B': 0, 'C': 0, 'D': 0, 'Risk_Ratio': 4\n",
    "})\n",
    "\n",
    "# Save outputs\n",
    "all_results_df.to_csv('Indicator_9_RR_calculations.csv', index=False)  # All attempts\n",
    "#valid_results_df.to_csv('VALID_corporation_risk_ratios.csv', index=False)  # Only valid\n",
    "\n",
    "# 8. Optional: Create troubleshooting file\n",
    "problem_cases = all_results_df[~all_results_df['meets_criteria']]\n",
    "problem_cases.to_csv('corporations_needing_review.csv', index=False)\n"
   ]
  },
  {
   "cell_type": "code",
   "execution_count": null,
   "metadata": {},
   "outputs": [],
   "source": []
  }
 ],
 "metadata": {
  "colab": {
   "authorship_tag": "ABX9TyOxqKqd8YgiE+YZFhW0wAxP",
   "provenance": [
    {
     "file_id": "11x5HsjYmyorXDkIbAjqQpzL0wGLGVsqC",
     "timestamp": 1742392465199
    }
   ]
  },
  "kernelspec": {
   "display_name": "Python 3 (ipykernel)",
   "language": "python",
   "name": "python3"
  },
  "language_info": {
   "codemirror_mode": {
    "name": "ipython",
    "version": 3
   },
   "file_extension": ".py",
   "mimetype": "text/x-python",
   "name": "python",
   "nbconvert_exporter": "python",
   "pygments_lexer": "ipython3",
   "version": "3.13.0"
  }
 },
 "nbformat": 4,
 "nbformat_minor": 4
}
