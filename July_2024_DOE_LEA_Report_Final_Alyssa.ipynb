{
  "nbformat": 4,
  "nbformat_minor": 0,
  "metadata": {
    "colab": {
      "provenance": [],
      "authorship_tag": "ABX9TyPqaEPsRHSwW60aOgTKHAZc",
      "include_colab_link": true
    },
    "kernelspec": {
      "name": "python3",
      "display_name": "Python 3"
    },
    "language_info": {
      "name": "python"
    }
  },
  "cells": [
    {
      "cell_type": "markdown",
      "metadata": {
        "id": "view-in-github",
        "colab_type": "text"
      },
      "source": [
        "<a href=\"https://colab.research.google.com/github/Sinha123456/Work-Projects/blob/main/July_2024_DOE_LEA_Report_Final_Alyssa.ipynb\" target=\"_parent\"><img src=\"https://colab.research.google.com/assets/colab-badge.svg\" alt=\"Open In Colab\"/></a>"
      ]
    },
    {
      "cell_type": "markdown",
      "source": [
        "Requirement: 10% sample distributed equally by LEA of a data\n",
        "\n",
        "Change of requirement: 10% of the full data set"
      ],
      "metadata": {
        "id": "tyZLB93LMTHe"
      }
    },
    {
      "cell_type": "markdown",
      "source": [
        "###Tried methods for index comparison Notes for future refrence\n",
        "expected_counts_aligned = expected_counts.reindex(sampled_counts.index, fill_value=0)\n",
        "is_equally_distributed = (sampled_counts == expected_counts_aligned).all()\n",
        "\n",
        "print(\"\\nIs the data equally distributed at 10%? \", is_equally_distributed)\n",
        "(got the error, didn't work)\n",
        "####Sort the Series: If the order of the indices is different, sort both Series before comparing:\n",
        "sampled_counts_sorted = sampled_counts.sort_index()\n",
        "expected_counts_sorted = expected_counts.sort_index()\n",
        "\n",
        "is_equally_distributed = (sampled_counts_sorted == expected_counts_sorted).all()\n",
        "\n",
        "print(\"\\nIs the data equally distributed at 10%? \", is_equally_distributed)\n",
        "\n",
        "Didn't work as well\n",
        "\n",
        "####Check for Non-matching Indices: You can also check the indices of both Series to debug them:"
      ],
      "metadata": {
        "id": "ZMzMaPv5W4s2"
      }
    },
    {
      "cell_type": "code",
      "execution_count": null,
      "metadata": {
        "id": "LjVqUNwSD7Co",
        "colab": {
          "base_uri": "https://localhost:8080/"
        },
        "outputId": "040bb82d-ccbb-48f0-d6fe-6c16c2c73c34"
      },
      "outputs": [
        {
          "output_type": "stream",
          "name": "stdout",
          "text": [
            "Mounted at /content/drive\n"
          ]
        }
      ],
      "source": [
        "from google.colab import drive\n",
        "drive.mount('/content/drive')\n",
        "# import libraries\n",
        "import pandas as pd\n",
        "import numpy as np\n",
        "from pandas import Series, DataFrame\n",
        "import matplotlib.pyplot as plt\n",
        "import seaborn as sns\n",
        "import warnings\n",
        "warnings.filterwarnings('ignore')"
      ]
    },
    {
      "cell_type": "markdown",
      "source": [
        "#Short Method for random sample of whole data set\n",
        "changed requirement"
      ],
      "metadata": {
        "id": "9v-hZwjaUEFH"
      }
    },
    {
      "cell_type": "code",
      "source": [
        "df = pd.read_excel('/content/drive/MyDrive/Colab Notebooks/Copy of July 2024  DOE LEA Report Final (002).xlsx')\n",
        "#df.head()"
      ],
      "metadata": {
        "id": "_iEKBPMHPTMy"
      },
      "execution_count": 1,
      "outputs": []
    },
    {
      "cell_type": "code",
      "source": [
        "df.shape"
      ],
      "metadata": {
        "colab": {
          "base_uri": "https://localhost:8080/"
        },
        "id": "DmOXROsdPlmg",
        "outputId": "3f8a902d-b330-441b-dc31-5da31486e190"
      },
      "execution_count": null,
      "outputs": [
        {
          "output_type": "execute_result",
          "data": {
            "text/plain": [
              "(796, 15)"
            ]
          },
          "metadata": {},
          "execution_count": 3
        }
      ]
    },
    {
      "cell_type": "code",
      "source": [
        "#10 % random sample from total dataset\n",
        "df1 = df.sample(frac=0.1, random_state=1)\n",
        "df1.shape"
      ],
      "metadata": {
        "colab": {
          "base_uri": "https://localhost:8080/"
        },
        "id": "DCRLHMqxPIcq",
        "outputId": "6c255f84-f99d-4196-dc5b-ff1820e2b598"
      },
      "execution_count": null,
      "outputs": [
        {
          "output_type": "execute_result",
          "data": {
            "text/plain": [
              "(80, 15)"
            ]
          },
          "metadata": {},
          "execution_count": 5
        }
      ]
    },
    {
      "cell_type": "code",
      "source": [
        "#df1"
      ],
      "metadata": {
        "id": "ZyMXp_44P0GI"
      },
      "execution_count": 2,
      "outputs": []
    },
    {
      "cell_type": "code",
      "source": [
        "df1['SchoolDistrictName'].value_counts()\n"
      ],
      "metadata": {
        "colab": {
          "base_uri": "https://localhost:8080/",
          "height": 1000
        },
        "id": "sBObW8yQQSnU",
        "outputId": "9563e301-21c0-42f3-b4ac-c590881f4631"
      },
      "execution_count": null,
      "outputs": [
        {
          "output_type": "execute_result",
          "data": {
            "text/plain": [
              "SchoolDistrictName\n",
              "M S D Wayne Township                5\n",
              "Carmel Clay Schools                 4\n",
              "Fort Wayne Community Schools        3\n",
              "Indianapolis Public Schools         3\n",
              "Porter County Education Services    2\n",
              "Michigan City Area Schools          2\n",
              "Hamilton Southeastern Schools       2\n",
              "Brownsburg Community Sch Corp       2\n",
              "M S D Washington Township           2\n",
              "Evansville Vanderburgh Sch Corp     2\n",
              "Tippecanoe School Corp              2\n",
              "Avon Community School Corp          2\n",
              "Greenwood Community Sch Corp        2\n",
              "M S D Lawrence Township             2\n",
              "Clark-Pleasant Com School Corp      2\n",
              "Perry Township Schools              2\n",
              "John Glenn School Corporation       1\n",
              "Lake Station Community Schools      1\n",
              "Plainfield Community Sch Corp       1\n",
              "M S D Warren Township               1\n",
              "Warrick County School Corp          1\n",
              "Northwest Allen County Schools      1\n",
              "Mitchell Community Schools          1\n",
              "Lafayette School Corporation        1\n",
              "Peru Community Schools              1\n",
              "Hamilton Heights School Corp        1\n",
              "Logansport Community Sch Corp       1\n",
              "Elkhart Community Schools           1\n",
              "Oak Hill United School Corp         1\n",
              "Whitley County Cons Schools         1\n",
              "Vigo County School Corp             1\n",
              "M S D Bluffton-Harrison             1\n",
              "North Spencer County Sch Corp       1\n",
              "Gary Community School Corp          1\n",
              "Seymour Community Schools           1\n",
              "Lawrenceburg Com School Corp        1\n",
              "Franklin Township Com Sch Corp      1\n",
              "West Clark Community Schools        1\n",
              "Eastern Greene Schools              1\n",
              "Penn-Harris-Madison Sch Corp        1\n",
              "Clay Community Schools              1\n",
              "Kokomo School Corporation           1\n",
              "M S D Pike Township                 1\n",
              "Richland-Bean Blossom C S C         1\n",
              "East Noble School Corp              1\n",
              "Linton-Stockton School Corp         1\n",
              "Greater Clark County Schools        1\n",
              "Bartholomew Con School Corp         1\n",
              "North Lawrence Com Schools          1\n",
              "Delphi Community School Corp        1\n",
              "Wawasee Community School Corp       1\n",
              "New Albany-Floyd County Con Sch     1\n",
              "South Bend Community Sch Corp       1\n",
              "Mt Vernon Community Sch Corp        1\n",
              "Anderson Community School Corp      1\n",
              "Spencer-Owen Community Schools      1\n",
              "School Town Of Speedway             1\n",
              "Name: count, dtype: int64"
            ],
            "text/html": [
              "<div>\n",
              "<style scoped>\n",
              "    .dataframe tbody tr th:only-of-type {\n",
              "        vertical-align: middle;\n",
              "    }\n",
              "\n",
              "    .dataframe tbody tr th {\n",
              "        vertical-align: top;\n",
              "    }\n",
              "\n",
              "    .dataframe thead th {\n",
              "        text-align: right;\n",
              "    }\n",
              "</style>\n",
              "<table border=\"1\" class=\"dataframe\">\n",
              "  <thead>\n",
              "    <tr style=\"text-align: right;\">\n",
              "      <th></th>\n",
              "      <th>count</th>\n",
              "    </tr>\n",
              "    <tr>\n",
              "      <th>SchoolDistrictName</th>\n",
              "      <th></th>\n",
              "    </tr>\n",
              "  </thead>\n",
              "  <tbody>\n",
              "    <tr>\n",
              "      <th>M S D Wayne Township</th>\n",
              "      <td>5</td>\n",
              "    </tr>\n",
              "    <tr>\n",
              "      <th>Carmel Clay Schools</th>\n",
              "      <td>4</td>\n",
              "    </tr>\n",
              "    <tr>\n",
              "      <th>Fort Wayne Community Schools</th>\n",
              "      <td>3</td>\n",
              "    </tr>\n",
              "    <tr>\n",
              "      <th>Indianapolis Public Schools</th>\n",
              "      <td>3</td>\n",
              "    </tr>\n",
              "    <tr>\n",
              "      <th>Porter County Education Services</th>\n",
              "      <td>2</td>\n",
              "    </tr>\n",
              "    <tr>\n",
              "      <th>Michigan City Area Schools</th>\n",
              "      <td>2</td>\n",
              "    </tr>\n",
              "    <tr>\n",
              "      <th>Hamilton Southeastern Schools</th>\n",
              "      <td>2</td>\n",
              "    </tr>\n",
              "    <tr>\n",
              "      <th>Brownsburg Community Sch Corp</th>\n",
              "      <td>2</td>\n",
              "    </tr>\n",
              "    <tr>\n",
              "      <th>M S D Washington Township</th>\n",
              "      <td>2</td>\n",
              "    </tr>\n",
              "    <tr>\n",
              "      <th>Evansville Vanderburgh Sch Corp</th>\n",
              "      <td>2</td>\n",
              "    </tr>\n",
              "    <tr>\n",
              "      <th>Tippecanoe School Corp</th>\n",
              "      <td>2</td>\n",
              "    </tr>\n",
              "    <tr>\n",
              "      <th>Avon Community School Corp</th>\n",
              "      <td>2</td>\n",
              "    </tr>\n",
              "    <tr>\n",
              "      <th>Greenwood Community Sch Corp</th>\n",
              "      <td>2</td>\n",
              "    </tr>\n",
              "    <tr>\n",
              "      <th>M S D Lawrence Township</th>\n",
              "      <td>2</td>\n",
              "    </tr>\n",
              "    <tr>\n",
              "      <th>Clark-Pleasant Com School Corp</th>\n",
              "      <td>2</td>\n",
              "    </tr>\n",
              "    <tr>\n",
              "      <th>Perry Township Schools</th>\n",
              "      <td>2</td>\n",
              "    </tr>\n",
              "    <tr>\n",
              "      <th>John Glenn School Corporation</th>\n",
              "      <td>1</td>\n",
              "    </tr>\n",
              "    <tr>\n",
              "      <th>Lake Station Community Schools</th>\n",
              "      <td>1</td>\n",
              "    </tr>\n",
              "    <tr>\n",
              "      <th>Plainfield Community Sch Corp</th>\n",
              "      <td>1</td>\n",
              "    </tr>\n",
              "    <tr>\n",
              "      <th>M S D Warren Township</th>\n",
              "      <td>1</td>\n",
              "    </tr>\n",
              "    <tr>\n",
              "      <th>Warrick County School Corp</th>\n",
              "      <td>1</td>\n",
              "    </tr>\n",
              "    <tr>\n",
              "      <th>Northwest Allen County Schools</th>\n",
              "      <td>1</td>\n",
              "    </tr>\n",
              "    <tr>\n",
              "      <th>Mitchell Community Schools</th>\n",
              "      <td>1</td>\n",
              "    </tr>\n",
              "    <tr>\n",
              "      <th>Lafayette School Corporation</th>\n",
              "      <td>1</td>\n",
              "    </tr>\n",
              "    <tr>\n",
              "      <th>Peru Community Schools</th>\n",
              "      <td>1</td>\n",
              "    </tr>\n",
              "    <tr>\n",
              "      <th>Hamilton Heights School Corp</th>\n",
              "      <td>1</td>\n",
              "    </tr>\n",
              "    <tr>\n",
              "      <th>Logansport Community Sch Corp</th>\n",
              "      <td>1</td>\n",
              "    </tr>\n",
              "    <tr>\n",
              "      <th>Elkhart Community Schools</th>\n",
              "      <td>1</td>\n",
              "    </tr>\n",
              "    <tr>\n",
              "      <th>Oak Hill United School Corp</th>\n",
              "      <td>1</td>\n",
              "    </tr>\n",
              "    <tr>\n",
              "      <th>Whitley County Cons Schools</th>\n",
              "      <td>1</td>\n",
              "    </tr>\n",
              "    <tr>\n",
              "      <th>Vigo County School Corp</th>\n",
              "      <td>1</td>\n",
              "    </tr>\n",
              "    <tr>\n",
              "      <th>M S D Bluffton-Harrison</th>\n",
              "      <td>1</td>\n",
              "    </tr>\n",
              "    <tr>\n",
              "      <th>North Spencer County Sch Corp</th>\n",
              "      <td>1</td>\n",
              "    </tr>\n",
              "    <tr>\n",
              "      <th>Gary Community School Corp</th>\n",
              "      <td>1</td>\n",
              "    </tr>\n",
              "    <tr>\n",
              "      <th>Seymour Community Schools</th>\n",
              "      <td>1</td>\n",
              "    </tr>\n",
              "    <tr>\n",
              "      <th>Lawrenceburg Com School Corp</th>\n",
              "      <td>1</td>\n",
              "    </tr>\n",
              "    <tr>\n",
              "      <th>Franklin Township Com Sch Corp</th>\n",
              "      <td>1</td>\n",
              "    </tr>\n",
              "    <tr>\n",
              "      <th>West Clark Community Schools</th>\n",
              "      <td>1</td>\n",
              "    </tr>\n",
              "    <tr>\n",
              "      <th>Eastern Greene Schools</th>\n",
              "      <td>1</td>\n",
              "    </tr>\n",
              "    <tr>\n",
              "      <th>Penn-Harris-Madison Sch Corp</th>\n",
              "      <td>1</td>\n",
              "    </tr>\n",
              "    <tr>\n",
              "      <th>Clay Community Schools</th>\n",
              "      <td>1</td>\n",
              "    </tr>\n",
              "    <tr>\n",
              "      <th>Kokomo School Corporation</th>\n",
              "      <td>1</td>\n",
              "    </tr>\n",
              "    <tr>\n",
              "      <th>M S D Pike Township</th>\n",
              "      <td>1</td>\n",
              "    </tr>\n",
              "    <tr>\n",
              "      <th>Richland-Bean Blossom C S C</th>\n",
              "      <td>1</td>\n",
              "    </tr>\n",
              "    <tr>\n",
              "      <th>East Noble School Corp</th>\n",
              "      <td>1</td>\n",
              "    </tr>\n",
              "    <tr>\n",
              "      <th>Linton-Stockton School Corp</th>\n",
              "      <td>1</td>\n",
              "    </tr>\n",
              "    <tr>\n",
              "      <th>Greater Clark County Schools</th>\n",
              "      <td>1</td>\n",
              "    </tr>\n",
              "    <tr>\n",
              "      <th>Bartholomew Con School Corp</th>\n",
              "      <td>1</td>\n",
              "    </tr>\n",
              "    <tr>\n",
              "      <th>North Lawrence Com Schools</th>\n",
              "      <td>1</td>\n",
              "    </tr>\n",
              "    <tr>\n",
              "      <th>Delphi Community School Corp</th>\n",
              "      <td>1</td>\n",
              "    </tr>\n",
              "    <tr>\n",
              "      <th>Wawasee Community School Corp</th>\n",
              "      <td>1</td>\n",
              "    </tr>\n",
              "    <tr>\n",
              "      <th>New Albany-Floyd County Con Sch</th>\n",
              "      <td>1</td>\n",
              "    </tr>\n",
              "    <tr>\n",
              "      <th>South Bend Community Sch Corp</th>\n",
              "      <td>1</td>\n",
              "    </tr>\n",
              "    <tr>\n",
              "      <th>Mt Vernon Community Sch Corp</th>\n",
              "      <td>1</td>\n",
              "    </tr>\n",
              "    <tr>\n",
              "      <th>Anderson Community School Corp</th>\n",
              "      <td>1</td>\n",
              "    </tr>\n",
              "    <tr>\n",
              "      <th>Spencer-Owen Community Schools</th>\n",
              "      <td>1</td>\n",
              "    </tr>\n",
              "    <tr>\n",
              "      <th>School Town Of Speedway</th>\n",
              "      <td>1</td>\n",
              "    </tr>\n",
              "  </tbody>\n",
              "</table>\n",
              "</div><br><label><b>dtype:</b> int64</label>"
            ]
          },
          "metadata": {},
          "execution_count": 10
        }
      ]
    },
    {
      "cell_type": "code",
      "source": [
        "df['SchoolDistrictName'].value_counts()"
      ],
      "metadata": {
        "colab": {
          "base_uri": "https://localhost:8080/",
          "height": 489
        },
        "id": "E7FGu1QKRCnp",
        "outputId": "70152962-ad3c-4949-aefc-9c7e14e17298"
      },
      "execution_count": null,
      "outputs": [
        {
          "output_type": "execute_result",
          "data": {
            "text/plain": [
              "SchoolDistrictName\n",
              "Indianapolis Public Schools         54\n",
              "Fort Wayne Community Schools        27\n",
              "M S D Wayne Township                24\n",
              "M S D Lawrence Township             22\n",
              "Perry Township Schools              22\n",
              "                                    ..\n",
              "Eastern Pulaski Com Sch Corp         1\n",
              "East Noble School Corp               1\n",
              "West Lafayette Com School Corp       1\n",
              "Delaware Community School Corp       1\n",
              "Mt. Vernon Community School Corp     1\n",
              "Name: count, Length: 182, dtype: int64"
            ],
            "text/html": [
              "<div>\n",
              "<style scoped>\n",
              "    .dataframe tbody tr th:only-of-type {\n",
              "        vertical-align: middle;\n",
              "    }\n",
              "\n",
              "    .dataframe tbody tr th {\n",
              "        vertical-align: top;\n",
              "    }\n",
              "\n",
              "    .dataframe thead th {\n",
              "        text-align: right;\n",
              "    }\n",
              "</style>\n",
              "<table border=\"1\" class=\"dataframe\">\n",
              "  <thead>\n",
              "    <tr style=\"text-align: right;\">\n",
              "      <th></th>\n",
              "      <th>count</th>\n",
              "    </tr>\n",
              "    <tr>\n",
              "      <th>SchoolDistrictName</th>\n",
              "      <th></th>\n",
              "    </tr>\n",
              "  </thead>\n",
              "  <tbody>\n",
              "    <tr>\n",
              "      <th>Indianapolis Public Schools</th>\n",
              "      <td>54</td>\n",
              "    </tr>\n",
              "    <tr>\n",
              "      <th>Fort Wayne Community Schools</th>\n",
              "      <td>27</td>\n",
              "    </tr>\n",
              "    <tr>\n",
              "      <th>M S D Wayne Township</th>\n",
              "      <td>24</td>\n",
              "    </tr>\n",
              "    <tr>\n",
              "      <th>M S D Lawrence Township</th>\n",
              "      <td>22</td>\n",
              "    </tr>\n",
              "    <tr>\n",
              "      <th>Perry Township Schools</th>\n",
              "      <td>22</td>\n",
              "    </tr>\n",
              "    <tr>\n",
              "      <th>...</th>\n",
              "      <td>...</td>\n",
              "    </tr>\n",
              "    <tr>\n",
              "      <th>Eastern Pulaski Com Sch Corp</th>\n",
              "      <td>1</td>\n",
              "    </tr>\n",
              "    <tr>\n",
              "      <th>East Noble School Corp</th>\n",
              "      <td>1</td>\n",
              "    </tr>\n",
              "    <tr>\n",
              "      <th>West Lafayette Com School Corp</th>\n",
              "      <td>1</td>\n",
              "    </tr>\n",
              "    <tr>\n",
              "      <th>Delaware Community School Corp</th>\n",
              "      <td>1</td>\n",
              "    </tr>\n",
              "    <tr>\n",
              "      <th>Mt. Vernon Community School Corp</th>\n",
              "      <td>1</td>\n",
              "    </tr>\n",
              "  </tbody>\n",
              "</table>\n",
              "<p>182 rows × 1 columns</p>\n",
              "</div><br><label><b>dtype:</b> int64</label>"
            ]
          },
          "metadata": {},
          "execution_count": 11
        }
      ]
    },
    {
      "cell_type": "code",
      "source": [
        "df['SchoolDistrictName'].unique().shape"
      ],
      "metadata": {
        "colab": {
          "base_uri": "https://localhost:8080/"
        },
        "id": "cO8hfdQVRF3-",
        "outputId": "d4b10920-a565-4369-809b-2d4bf50fd778"
      },
      "execution_count": null,
      "outputs": [
        {
          "output_type": "execute_result",
          "data": {
            "text/plain": [
              "(182,)"
            ]
          },
          "metadata": {},
          "execution_count": 15
        }
      ]
    },
    {
      "cell_type": "code",
      "source": [
        "df1.to_excel('ten_pct_sample_frm_ttl_ppl.xlsx', index = False)"
      ],
      "metadata": {
        "id": "o5uf0ck4P6B5"
      },
      "execution_count": null,
      "outputs": []
    },
    {
      "cell_type": "code",
      "source": [
        "df1 = pd.read_excel('/content/drive/MyDrive/Colab Notebooks/Copy of July 2024  DOE LEA Report Final (002).xlsx')\n",
        "# df1.head()"
      ],
      "metadata": {
        "id": "w1QRl0h4D9KH"
      },
      "execution_count": 3,
      "outputs": []
    },
    {
      "cell_type": "markdown",
      "source": [
        "# 10 % of Random sample of each LEA which are equally distributed\n",
        "First requirement"
      ],
      "metadata": {
        "id": "1xEliHR6UUxd"
      }
    },
    {
      "cell_type": "code",
      "source": [],
      "metadata": {
        "id": "tmnbw-_5Uul0"
      },
      "execution_count": null,
      "outputs": []
    },
    {
      "cell_type": "code",
      "source": [
        "def sample_lea(df1, lea_col, sample_fraction=0.1):\n",
        "    samples = []\n",
        "    grouped = df1.groupby(lea_col)\n",
        "\n",
        "    for name, group in grouped:\n",
        "        # Get the number of samples to take\n",
        "        n_samples = int(len(group) * sample_fraction)\n",
        "\n",
        "        # Randomly sample from the group\n",
        "        sample = group.sample(n=n_samples, random_state=1)  # Setting random_state for reproducibility\n",
        "        samples.append(sample)\n",
        "\n",
        "    # Concatenate all sampled data\n",
        "    return pd.concat(samples)\n",
        "\n",
        "# Create the random sample\n",
        "sampled_data = sample_lea(df1, 'SchoolDistrictName', sample_fraction=0.1)\n",
        "\n",
        "# Display the sampled data\n",
        "#print(sampled_data)\n"
      ],
      "metadata": {
        "id": "sBwREufeD9cB"
      },
      "execution_count": 4,
      "outputs": []
    },
    {
      "cell_type": "code",
      "source": [
        "import pandas as pd\n",
        "\n",
        "def sample_lea(df1, lea_col, sample_fraction=0.1):\n",
        "    samples = []\n",
        "    grouped = df1.groupby(lea_col)\n",
        "\n",
        "    for name, group in grouped:\n",
        "        # Get the number of samples to take\n",
        "        n_samples = int(len(group) * sample_fraction)\n",
        "\n",
        "        # Randomly sample from the group\n",
        "        sample = group.sample(n=n_samples, random_state=1)  # Setting random_state for reproducibility\n",
        "        samples.append(sample)\n",
        "\n",
        "    # Concatenate all sampled data\n",
        "    sampled_data = pd.concat(samples)\n",
        "\n",
        "    # Get the original counts of each group\n",
        "    original_counts = df1[lea_col].value_counts()\n",
        "    # Get the sampled counts of each group\n",
        "    sampled_counts = sampled_data[lea_col].value_counts()\n",
        "\n",
        "    # Calculate expected counts\n",
        "    expected_counts = (original_counts * sample_fraction).round().astype(int)\n",
        "\n",
        "    # Display the counts\n",
        "    print(\"Original counts:\\n\", original_counts)\n",
        "    print(\"\\nSampled counts:\\n\", sampled_counts)\n",
        "    print(\"\\nExpected counts:\\n\", expected_counts)\n",
        "\n",
        "    # Check if all groups are sampled with the expected count\n",
        "    is_equally_distributed = (sampled_counts == expected_counts).all()\n",
        "    print(\"\\nIs the data equally distributed at 10%? \", is_equally_distributed)\n",
        "\n",
        "    return sampled_data\n",
        "\n",
        "# Create the random sample\n",
        "sampled_data = sample_lea(df1, 'SchoolDistrictName', sample_fraction=0.1)\n",
        "\n",
        "# Note: The detailed print statements will help you verify the distribution visually."
      ],
      "metadata": {
        "id": "1488HK8OJeU_"
      },
      "execution_count": null,
      "outputs": []
    },
    {
      "cell_type": "code",
      "source": [
        "original_counts = df1['SchoolDistrictName'].value_counts()\n",
        "original_counts"
      ],
      "metadata": {
        "colab": {
          "base_uri": "https://localhost:8080/",
          "height": 489
        },
        "id": "t0G3TzadJ4HU",
        "outputId": "818fa1b5-ec03-4be8-aa84-4d58978e6e00"
      },
      "execution_count": null,
      "outputs": [
        {
          "output_type": "execute_result",
          "data": {
            "text/plain": [
              "SchoolDistrictName\n",
              "Indianapolis Public Schools         54\n",
              "Fort Wayne Community Schools        27\n",
              "M S D Wayne Township                24\n",
              "M S D Lawrence Township             22\n",
              "Perry Township Schools              22\n",
              "                                    ..\n",
              "Eastern Pulaski Com Sch Corp         1\n",
              "East Noble School Corp               1\n",
              "West Lafayette Com School Corp       1\n",
              "Delaware Community School Corp       1\n",
              "Mt. Vernon Community School Corp     1\n",
              "Name: count, Length: 182, dtype: int64"
            ],
            "text/html": [
              "<div>\n",
              "<style scoped>\n",
              "    .dataframe tbody tr th:only-of-type {\n",
              "        vertical-align: middle;\n",
              "    }\n",
              "\n",
              "    .dataframe tbody tr th {\n",
              "        vertical-align: top;\n",
              "    }\n",
              "\n",
              "    .dataframe thead th {\n",
              "        text-align: right;\n",
              "    }\n",
              "</style>\n",
              "<table border=\"1\" class=\"dataframe\">\n",
              "  <thead>\n",
              "    <tr style=\"text-align: right;\">\n",
              "      <th></th>\n",
              "      <th>count</th>\n",
              "    </tr>\n",
              "    <tr>\n",
              "      <th>SchoolDistrictName</th>\n",
              "      <th></th>\n",
              "    </tr>\n",
              "  </thead>\n",
              "  <tbody>\n",
              "    <tr>\n",
              "      <th>Indianapolis Public Schools</th>\n",
              "      <td>54</td>\n",
              "    </tr>\n",
              "    <tr>\n",
              "      <th>Fort Wayne Community Schools</th>\n",
              "      <td>27</td>\n",
              "    </tr>\n",
              "    <tr>\n",
              "      <th>M S D Wayne Township</th>\n",
              "      <td>24</td>\n",
              "    </tr>\n",
              "    <tr>\n",
              "      <th>M S D Lawrence Township</th>\n",
              "      <td>22</td>\n",
              "    </tr>\n",
              "    <tr>\n",
              "      <th>Perry Township Schools</th>\n",
              "      <td>22</td>\n",
              "    </tr>\n",
              "    <tr>\n",
              "      <th>...</th>\n",
              "      <td>...</td>\n",
              "    </tr>\n",
              "    <tr>\n",
              "      <th>Eastern Pulaski Com Sch Corp</th>\n",
              "      <td>1</td>\n",
              "    </tr>\n",
              "    <tr>\n",
              "      <th>East Noble School Corp</th>\n",
              "      <td>1</td>\n",
              "    </tr>\n",
              "    <tr>\n",
              "      <th>West Lafayette Com School Corp</th>\n",
              "      <td>1</td>\n",
              "    </tr>\n",
              "    <tr>\n",
              "      <th>Delaware Community School Corp</th>\n",
              "      <td>1</td>\n",
              "    </tr>\n",
              "    <tr>\n",
              "      <th>Mt. Vernon Community School Corp</th>\n",
              "      <td>1</td>\n",
              "    </tr>\n",
              "  </tbody>\n",
              "</table>\n",
              "<p>182 rows × 1 columns</p>\n",
              "</div><br><label><b>dtype:</b> int64</label>"
            ]
          },
          "metadata": {},
          "execution_count": 9
        }
      ]
    },
    {
      "cell_type": "code",
      "source": [
        "sampled_counts = sampled_data['SchoolDistrictName'].value_counts()\n",
        "sampled_counts"
      ],
      "metadata": {
        "colab": {
          "base_uri": "https://localhost:8080/",
          "height": 711
        },
        "id": "sSBwwOiiKDSS",
        "outputId": "b3c63da5-29a2-47af-cab9-3c12337a636c"
      },
      "execution_count": null,
      "outputs": [
        {
          "output_type": "execute_result",
          "data": {
            "text/plain": [
              "SchoolDistrictName\n",
              "Indianapolis Public Schools        5\n",
              "M S D Lawrence Township            2\n",
              "Perry Township Schools             2\n",
              "Fort Wayne Community Schools       2\n",
              "M S D Wayne Township               2\n",
              "M S D Washington Township          1\n",
              "Tippecanoe School Corp             1\n",
              "South Bend Community Sch Corp      1\n",
              "Northwest Allen County Schools     1\n",
              "New Albany-Floyd County Con Sch    1\n",
              "Anderson Community School Corp     1\n",
              "M S D Pike Township                1\n",
              "Bartholomew Con School Corp        1\n",
              "Hamilton Southeastern Schools      1\n",
              "Franklin Township Com Sch Corp     1\n",
              "Evansville Vanderburgh Sch Corp    1\n",
              "Elkhart Community Schools          1\n",
              "Carmel Clay Schools                1\n",
              "Vigo County School Corp            1\n",
              "Name: count, dtype: int64"
            ],
            "text/html": [
              "<div>\n",
              "<style scoped>\n",
              "    .dataframe tbody tr th:only-of-type {\n",
              "        vertical-align: middle;\n",
              "    }\n",
              "\n",
              "    .dataframe tbody tr th {\n",
              "        vertical-align: top;\n",
              "    }\n",
              "\n",
              "    .dataframe thead th {\n",
              "        text-align: right;\n",
              "    }\n",
              "</style>\n",
              "<table border=\"1\" class=\"dataframe\">\n",
              "  <thead>\n",
              "    <tr style=\"text-align: right;\">\n",
              "      <th></th>\n",
              "      <th>count</th>\n",
              "    </tr>\n",
              "    <tr>\n",
              "      <th>SchoolDistrictName</th>\n",
              "      <th></th>\n",
              "    </tr>\n",
              "  </thead>\n",
              "  <tbody>\n",
              "    <tr>\n",
              "      <th>Indianapolis Public Schools</th>\n",
              "      <td>5</td>\n",
              "    </tr>\n",
              "    <tr>\n",
              "      <th>M S D Lawrence Township</th>\n",
              "      <td>2</td>\n",
              "    </tr>\n",
              "    <tr>\n",
              "      <th>Perry Township Schools</th>\n",
              "      <td>2</td>\n",
              "    </tr>\n",
              "    <tr>\n",
              "      <th>Fort Wayne Community Schools</th>\n",
              "      <td>2</td>\n",
              "    </tr>\n",
              "    <tr>\n",
              "      <th>M S D Wayne Township</th>\n",
              "      <td>2</td>\n",
              "    </tr>\n",
              "    <tr>\n",
              "      <th>M S D Washington Township</th>\n",
              "      <td>1</td>\n",
              "    </tr>\n",
              "    <tr>\n",
              "      <th>Tippecanoe School Corp</th>\n",
              "      <td>1</td>\n",
              "    </tr>\n",
              "    <tr>\n",
              "      <th>South Bend Community Sch Corp</th>\n",
              "      <td>1</td>\n",
              "    </tr>\n",
              "    <tr>\n",
              "      <th>Northwest Allen County Schools</th>\n",
              "      <td>1</td>\n",
              "    </tr>\n",
              "    <tr>\n",
              "      <th>New Albany-Floyd County Con Sch</th>\n",
              "      <td>1</td>\n",
              "    </tr>\n",
              "    <tr>\n",
              "      <th>Anderson Community School Corp</th>\n",
              "      <td>1</td>\n",
              "    </tr>\n",
              "    <tr>\n",
              "      <th>M S D Pike Township</th>\n",
              "      <td>1</td>\n",
              "    </tr>\n",
              "    <tr>\n",
              "      <th>Bartholomew Con School Corp</th>\n",
              "      <td>1</td>\n",
              "    </tr>\n",
              "    <tr>\n",
              "      <th>Hamilton Southeastern Schools</th>\n",
              "      <td>1</td>\n",
              "    </tr>\n",
              "    <tr>\n",
              "      <th>Franklin Township Com Sch Corp</th>\n",
              "      <td>1</td>\n",
              "    </tr>\n",
              "    <tr>\n",
              "      <th>Evansville Vanderburgh Sch Corp</th>\n",
              "      <td>1</td>\n",
              "    </tr>\n",
              "    <tr>\n",
              "      <th>Elkhart Community Schools</th>\n",
              "      <td>1</td>\n",
              "    </tr>\n",
              "    <tr>\n",
              "      <th>Carmel Clay Schools</th>\n",
              "      <td>1</td>\n",
              "    </tr>\n",
              "    <tr>\n",
              "      <th>Vigo County School Corp</th>\n",
              "      <td>1</td>\n",
              "    </tr>\n",
              "  </tbody>\n",
              "</table>\n",
              "</div><br><label><b>dtype:</b> int64</label>"
            ]
          },
          "metadata": {},
          "execution_count": 10
        }
      ]
    },
    {
      "cell_type": "code",
      "source": [
        "expected_counts = (original_counts * 0.1).round().astype(int)\n",
        "expected_counts"
      ],
      "metadata": {
        "colab": {
          "base_uri": "https://localhost:8080/",
          "height": 489
        },
        "id": "0aCJbS3TK1pg",
        "outputId": "6c77204a-7c1f-4a8d-e317-cb5b32a1855d"
      },
      "execution_count": null,
      "outputs": [
        {
          "output_type": "execute_result",
          "data": {
            "text/plain": [
              "SchoolDistrictName\n",
              "Indianapolis Public Schools         5\n",
              "Fort Wayne Community Schools        3\n",
              "M S D Wayne Township                2\n",
              "M S D Lawrence Township             2\n",
              "Perry Township Schools              2\n",
              "                                   ..\n",
              "Eastern Pulaski Com Sch Corp        0\n",
              "East Noble School Corp              0\n",
              "West Lafayette Com School Corp      0\n",
              "Delaware Community School Corp      0\n",
              "Mt. Vernon Community School Corp    0\n",
              "Name: count, Length: 182, dtype: int64"
            ],
            "text/html": [
              "<div>\n",
              "<style scoped>\n",
              "    .dataframe tbody tr th:only-of-type {\n",
              "        vertical-align: middle;\n",
              "    }\n",
              "\n",
              "    .dataframe tbody tr th {\n",
              "        vertical-align: top;\n",
              "    }\n",
              "\n",
              "    .dataframe thead th {\n",
              "        text-align: right;\n",
              "    }\n",
              "</style>\n",
              "<table border=\"1\" class=\"dataframe\">\n",
              "  <thead>\n",
              "    <tr style=\"text-align: right;\">\n",
              "      <th></th>\n",
              "      <th>count</th>\n",
              "    </tr>\n",
              "    <tr>\n",
              "      <th>SchoolDistrictName</th>\n",
              "      <th></th>\n",
              "    </tr>\n",
              "  </thead>\n",
              "  <tbody>\n",
              "    <tr>\n",
              "      <th>Indianapolis Public Schools</th>\n",
              "      <td>5</td>\n",
              "    </tr>\n",
              "    <tr>\n",
              "      <th>Fort Wayne Community Schools</th>\n",
              "      <td>3</td>\n",
              "    </tr>\n",
              "    <tr>\n",
              "      <th>M S D Wayne Township</th>\n",
              "      <td>2</td>\n",
              "    </tr>\n",
              "    <tr>\n",
              "      <th>M S D Lawrence Township</th>\n",
              "      <td>2</td>\n",
              "    </tr>\n",
              "    <tr>\n",
              "      <th>Perry Township Schools</th>\n",
              "      <td>2</td>\n",
              "    </tr>\n",
              "    <tr>\n",
              "      <th>...</th>\n",
              "      <td>...</td>\n",
              "    </tr>\n",
              "    <tr>\n",
              "      <th>Eastern Pulaski Com Sch Corp</th>\n",
              "      <td>0</td>\n",
              "    </tr>\n",
              "    <tr>\n",
              "      <th>East Noble School Corp</th>\n",
              "      <td>0</td>\n",
              "    </tr>\n",
              "    <tr>\n",
              "      <th>West Lafayette Com School Corp</th>\n",
              "      <td>0</td>\n",
              "    </tr>\n",
              "    <tr>\n",
              "      <th>Delaware Community School Corp</th>\n",
              "      <td>0</td>\n",
              "    </tr>\n",
              "    <tr>\n",
              "      <th>Mt. Vernon Community School Corp</th>\n",
              "      <td>0</td>\n",
              "    </tr>\n",
              "  </tbody>\n",
              "</table>\n",
              "<p>182 rows × 1 columns</p>\n",
              "</div><br><label><b>dtype:</b> int64</label>"
            ]
          },
          "metadata": {},
          "execution_count": 11
        }
      ]
    },
    {
      "cell_type": "code",
      "source": [
        "print(\"sample_counts indices:\", sampled_counts.index)  ## check the indices of both counts\n",
        "print(\"expected_counts indices:\", expected_counts.index)"
      ],
      "metadata": {
        "colab": {
          "base_uri": "https://localhost:8080/"
        },
        "id": "QmRQhZIbTF0L",
        "outputId": "74266b22-5654-4170-c529-97cf8f3d6cec"
      },
      "execution_count": null,
      "outputs": [
        {
          "output_type": "stream",
          "name": "stdout",
          "text": [
            "sample_counts indices: Index(['Indianapolis Public Schools', 'M S D Lawrence Township',\n",
            "       'Perry Township Schools', 'Fort Wayne Community Schools',\n",
            "       'M S D Wayne Township', 'M S D Washington Township',\n",
            "       'Tippecanoe School Corp', 'South Bend Community Sch Corp',\n",
            "       'Northwest Allen County Schools', 'New Albany-Floyd County Con Sch',\n",
            "       'Anderson Community School Corp', 'M S D Pike Township',\n",
            "       'Bartholomew Con School Corp', 'Hamilton Southeastern Schools',\n",
            "       'Franklin Township Com Sch Corp', 'Evansville Vanderburgh Sch Corp',\n",
            "       'Elkhart Community Schools', 'Carmel Clay Schools',\n",
            "       'Vigo County School Corp'],\n",
            "      dtype='object', name='SchoolDistrictName')\n",
            "expected_counts indices: Index(['Indianapolis Public Schools', 'Fort Wayne Community Schools',\n",
            "       'M S D Wayne Township', 'M S D Lawrence Township',\n",
            "       'Perry Township Schools', 'Bartholomew Con School Corp',\n",
            "       'Evansville Vanderburgh Sch Corp', 'M S D Washington Township',\n",
            "       'Anderson Community School Corp', 'South Bend Community Sch Corp',\n",
            "       ...\n",
            "       'South Spencer County Sch Corp', 'Hanover Community School Corp',\n",
            "       'Knox Community School Corp', 'Spencer-Owen Community Schools',\n",
            "       'School City Of Hobart', 'Eastern Pulaski Com Sch Corp',\n",
            "       'East Noble School Corp', 'West Lafayette Com School Corp',\n",
            "       'Delaware Community School Corp', 'Mt. Vernon Community School Corp'],\n",
            "      dtype='object', name='SchoolDistrictName', length=182)\n"
          ]
        }
      ]
    },
    {
      "cell_type": "code",
      "source": [
        "#Direct Comparison with Common Indices: If you only want to compare the values that are present in both Series,\n",
        "#can use the intersection of the indices:\n",
        "\n",
        "common_indices = sampled_counts.index.intersection(expected_counts.index)\n",
        "is_equally_distributed = (sampled_counts.loc[common_indices]) == expected_counts.loc[common_indices]\n",
        "\n",
        "print(\"\\nIs the data equally distributed at 10%? \", is_equally_distributed)"
      ],
      "metadata": {
        "colab": {
          "base_uri": "https://localhost:8080/"
        },
        "id": "79nPaEwCUUCL",
        "outputId": "9766c51a-26a0-422c-ce35-9d2d0340cf87"
      },
      "execution_count": null,
      "outputs": [
        {
          "output_type": "stream",
          "name": "stdout",
          "text": [
            "\n",
            "Is the data equally distributed at 10%?  SchoolDistrictName\n",
            "Indianapolis Public Schools         True\n",
            "M S D Lawrence Township             True\n",
            "Perry Township Schools              True\n",
            "Fort Wayne Community Schools       False\n",
            "M S D Wayne Township                True\n",
            "M S D Washington Township          False\n",
            "Tippecanoe School Corp              True\n",
            "South Bend Community Sch Corp      False\n",
            "Northwest Allen County Schools      True\n",
            "New Albany-Floyd County Con Sch     True\n",
            "Anderson Community School Corp     False\n",
            "M S D Pike Township                 True\n",
            "Bartholomew Con School Corp        False\n",
            "Hamilton Southeastern Schools       True\n",
            "Franklin Township Com Sch Corp     False\n",
            "Evansville Vanderburgh Sch Corp    False\n",
            "Elkhart Community Schools           True\n",
            "Carmel Clay Schools                False\n",
            "Vigo County School Corp             True\n",
            "Name: count, dtype: bool\n"
          ]
        }
      ]
    },
    {
      "cell_type": "markdown",
      "source": [
        "\n"
      ],
      "metadata": {
        "id": "RQLVd0WKQA_P"
      }
    },
    {
      "cell_type": "code",
      "source": [],
      "metadata": {
        "id": "F46OwSZJWpxm"
      },
      "execution_count": null,
      "outputs": []
    },
    {
      "cell_type": "code",
      "source": [
        "#convert sample data into dataframe\n",
        "df2 = pd.DataFrame(sampled_data)\n",
        "# df2.head()"
      ],
      "metadata": {
        "id": "1DZtresmD9qI"
      },
      "execution_count": 5,
      "outputs": []
    },
    {
      "cell_type": "code",
      "source": [
        "df2.to_excel('ten_percent_eqly_dist_lea.xlsx', index = False)"
      ],
      "metadata": {
        "id": "7lrnRJuqLeXs"
      },
      "execution_count": null,
      "outputs": []
    }
  ]
}