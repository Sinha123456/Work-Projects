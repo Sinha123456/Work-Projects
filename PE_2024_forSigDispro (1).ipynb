{
  "nbformat": 4,
  "nbformat_minor": 0,
  "metadata": {
    "colab": {
      "provenance": []
    },
    "kernelspec": {
      "name": "python3",
      "display_name": "Python 3"
    },
    "language_info": {
      "name": "python"
    }
  },
  "cells": [
    {
      "cell_type": "code",
      "execution_count": 55,
      "metadata": {
        "colab": {
          "base_uri": "https://localhost:8080/"
        },
        "id": "cJMDpDMZAF2k",
        "outputId": "0335fc40-22d9-4a85-d9cf-d13d7e99eb76"
      },
      "outputs": [
        {
          "output_type": "stream",
          "name": "stdout",
          "text": [
            "Drive already mounted at /content/drive/; to attempt to forcibly remount, call drive.mount(\"/content/drive/\", force_remount=True).\n"
          ]
        }
      ],
      "source": [
        "from google.colab import drive\n",
        "drive.mount('/content/drive/')\n",
        "import pandas as pd\n",
        "import numpy as np\n",
        "import matplotlib.pyplot as plt\n",
        "import seaborn as sns\n",
        "import warnings\n",
        "import datetime"
      ]
    },
    {
      "cell_type": "code",
      "source": [
        "df1 = pd.read_excel(\"/content/drive/MyDrive/Colab Notebooks/DRF-80 - Brandon Myers 2024-25 PublicEnrollment 01292025.xlsx\")"
      ],
      "metadata": {
        "id": "6k1eR8c5D1bi"
      },
      "execution_count": 56,
      "outputs": []
    },
    {
      "cell_type": "code",
      "source": [
        "#df1.head()"
      ],
      "metadata": {
        "id": "k0OKPvQROIoK"
      },
      "execution_count": 57,
      "outputs": []
    },
    {
      "cell_type": "code",
      "source": [
        "master_corp = pd.read_excel(\"/content/drive/MyDrive/Colab Notebooks/corp_no_from_sig_dispro_calc.xlsx\")"
      ],
      "metadata": {
        "id": "k3et0N3SQpE_"
      },
      "execution_count": 58,
      "outputs": []
    },
    {
      "cell_type": "markdown",
      "source": [
        "#### LEA from Sig dispor calculator\n",
        "\n",
        "\n",
        "\n"
      ],
      "metadata": {
        "id": "FXaCOUsfdinP"
      }
    },
    {
      "cell_type": "code",
      "source": [
        "all_cops = master_corp['Reporting Corp'].unique()"
      ],
      "metadata": {
        "id": "QJd1rjZRSgq2"
      },
      "execution_count": 59,
      "outputs": []
    },
    {
      "cell_type": "code",
      "source": [
        "#df1.PRIMARY_EXCEPTIONALITY.value_counts()"
      ],
      "metadata": {
        "id": "EeDpf_ejK7K9"
      },
      "execution_count": 60,
      "outputs": []
    },
    {
      "cell_type": "code",
      "source": [
        "pd.set_option('display.max_columns', None)"
      ],
      "metadata": {
        "id": "ayiwexY3HuZS"
      },
      "execution_count": 61,
      "outputs": []
    },
    {
      "cell_type": "code",
      "source": [
        "#df1.head()"
      ],
      "metadata": {
        "id": "Mdy47kRMEhmW"
      },
      "execution_count": 62,
      "outputs": []
    },
    {
      "cell_type": "code",
      "source": [
        "#df1.info()"
      ],
      "metadata": {
        "id": "_Mw380R1IK6O"
      },
      "execution_count": 63,
      "outputs": []
    },
    {
      "cell_type": "code",
      "source": [
        "# cols = ['REPORTING_CORPORATION', 'PrimaryExceptionality','SecondaryExceptionality', 'SecondaryFundingLevel', 'Location', 'ADM_TYPE_ID', 'LEGAL_CORPORATION']\n",
        "# df1[cols] = df1[cols].fillna(0).astype(int)"
      ],
      "metadata": {
        "id": "jb-t6kWUINKu"
      },
      "execution_count": 64,
      "outputs": []
    },
    {
      "cell_type": "code",
      "source": [
        "df1.columns = df1.columns.str.lower()"
      ],
      "metadata": {
        "id": "NI30Ck7rOVNT"
      },
      "execution_count": 65,
      "outputs": []
    },
    {
      "cell_type": "code",
      "source": [
        "df1['stn'].duplicated(keep = False).sum()"
      ],
      "metadata": {
        "colab": {
          "base_uri": "https://localhost:8080/"
        },
        "id": "4dFS54QBQStn",
        "outputId": "cbbed776-0dc5-4d02-d240-251c9bd172e3"
      },
      "execution_count": 66,
      "outputs": [
        {
          "output_type": "execute_result",
          "data": {
            "text/plain": [
              "np.int64(0)"
            ]
          },
          "metadata": {},
          "execution_count": 66
        }
      ]
    },
    {
      "cell_type": "code",
      "source": [
        "# duplicated_stn = df1.duplicated(keep = False)\n",
        "# df2 = pd.concat([df1[duplicated_stn], df1[~duplicated_stn]])"
      ],
      "metadata": {
        "id": "PkDadUBGOXYh"
      },
      "execution_count": 67,
      "outputs": []
    },
    {
      "cell_type": "markdown",
      "source": [
        "### Saving Duplicate stn in excel"
      ],
      "metadata": {
        "id": "5_s4mIBzJCHV"
      }
    },
    {
      "cell_type": "code",
      "source": [
        "# 'stn' is the column containing student identification numbers\n",
        "#duplicated_stn_rows = df1[df1.duplicated(subset=['stn'], keep=False)]\n",
        "\n",
        "# Save to Excel\n",
        "#duplicated_stn_rows.to_excel('duplicated_stn_with_all_fields.xlsx', index=False)"
      ],
      "metadata": {
        "id": "VsGVkEZ1X__F"
      },
      "execution_count": 68,
      "outputs": []
    },
    {
      "cell_type": "code",
      "source": [
        "df1.shape"
      ],
      "metadata": {
        "colab": {
          "base_uri": "https://localhost:8080/"
        },
        "id": "O9Pf-yiPSrAJ",
        "outputId": "428a1886-ff23-47d1-876f-bee560f970f5"
      },
      "execution_count": 69,
      "outputs": [
        {
          "output_type": "execute_result",
          "data": {
            "text/plain": [
              "(1040190, 11)"
            ]
          },
          "metadata": {},
          "execution_count": 69
        }
      ]
    },
    {
      "cell_type": "code",
      "source": [
        "#df1.nunique()"
      ],
      "metadata": {
        "id": "LJElRbtFrHp2"
      },
      "execution_count": 70,
      "outputs": []
    },
    {
      "cell_type": "code",
      "source": [
        "df1.describe()"
      ],
      "metadata": {
        "colab": {
          "base_uri": "https://localhost:8080/",
          "height": 300
        },
        "id": "E6IUAX5wrcox",
        "outputId": "1bba0733-abfb-4ae6-a2c8-7f840bbd6005"
      },
      "execution_count": 71,
      "outputs": [
        {
          "output_type": "execute_result",
          "data": {
            "text/plain": [
              "       school_year_id  idoe_corporation_id  primary_exceptionality_code\n",
              "count       1040190.0         1.040190e+06                 1.040190e+06\n",
              "mean           2025.0         4.684827e+03                -5.959188e+00\n",
              "std               0.0         2.547192e+03                 7.176160e+00\n",
              "min            2025.0         1.500000e+01                -9.000000e+00\n",
              "25%            2025.0         3.005000e+03                -9.000000e+00\n",
              "50%            2025.0         4.720000e+03                -9.000000e+00\n",
              "75%            2025.0         6.560000e+03                -9.000000e+00\n",
              "max            2025.0         9.995000e+03                 1.700000e+01"
            ],
            "text/html": [
              "\n",
              "  <div id=\"df-8570e3e3-54f1-41b4-a0b8-2dc385eff032\" class=\"colab-df-container\">\n",
              "    <div>\n",
              "<style scoped>\n",
              "    .dataframe tbody tr th:only-of-type {\n",
              "        vertical-align: middle;\n",
              "    }\n",
              "\n",
              "    .dataframe tbody tr th {\n",
              "        vertical-align: top;\n",
              "    }\n",
              "\n",
              "    .dataframe thead th {\n",
              "        text-align: right;\n",
              "    }\n",
              "</style>\n",
              "<table border=\"1\" class=\"dataframe\">\n",
              "  <thead>\n",
              "    <tr style=\"text-align: right;\">\n",
              "      <th></th>\n",
              "      <th>school_year_id</th>\n",
              "      <th>idoe_corporation_id</th>\n",
              "      <th>primary_exceptionality_code</th>\n",
              "    </tr>\n",
              "  </thead>\n",
              "  <tbody>\n",
              "    <tr>\n",
              "      <th>count</th>\n",
              "      <td>1040190.0</td>\n",
              "      <td>1.040190e+06</td>\n",
              "      <td>1.040190e+06</td>\n",
              "    </tr>\n",
              "    <tr>\n",
              "      <th>mean</th>\n",
              "      <td>2025.0</td>\n",
              "      <td>4.684827e+03</td>\n",
              "      <td>-5.959188e+00</td>\n",
              "    </tr>\n",
              "    <tr>\n",
              "      <th>std</th>\n",
              "      <td>0.0</td>\n",
              "      <td>2.547192e+03</td>\n",
              "      <td>7.176160e+00</td>\n",
              "    </tr>\n",
              "    <tr>\n",
              "      <th>min</th>\n",
              "      <td>2025.0</td>\n",
              "      <td>1.500000e+01</td>\n",
              "      <td>-9.000000e+00</td>\n",
              "    </tr>\n",
              "    <tr>\n",
              "      <th>25%</th>\n",
              "      <td>2025.0</td>\n",
              "      <td>3.005000e+03</td>\n",
              "      <td>-9.000000e+00</td>\n",
              "    </tr>\n",
              "    <tr>\n",
              "      <th>50%</th>\n",
              "      <td>2025.0</td>\n",
              "      <td>4.720000e+03</td>\n",
              "      <td>-9.000000e+00</td>\n",
              "    </tr>\n",
              "    <tr>\n",
              "      <th>75%</th>\n",
              "      <td>2025.0</td>\n",
              "      <td>6.560000e+03</td>\n",
              "      <td>-9.000000e+00</td>\n",
              "    </tr>\n",
              "    <tr>\n",
              "      <th>max</th>\n",
              "      <td>2025.0</td>\n",
              "      <td>9.995000e+03</td>\n",
              "      <td>1.700000e+01</td>\n",
              "    </tr>\n",
              "  </tbody>\n",
              "</table>\n",
              "</div>\n",
              "    <div class=\"colab-df-buttons\">\n",
              "\n",
              "  <div class=\"colab-df-container\">\n",
              "    <button class=\"colab-df-convert\" onclick=\"convertToInteractive('df-8570e3e3-54f1-41b4-a0b8-2dc385eff032')\"\n",
              "            title=\"Convert this dataframe to an interactive table.\"\n",
              "            style=\"display:none;\">\n",
              "\n",
              "  <svg xmlns=\"http://www.w3.org/2000/svg\" height=\"24px\" viewBox=\"0 -960 960 960\">\n",
              "    <path d=\"M120-120v-720h720v720H120Zm60-500h600v-160H180v160Zm220 220h160v-160H400v160Zm0 220h160v-160H400v160ZM180-400h160v-160H180v160Zm440 0h160v-160H620v160ZM180-180h160v-160H180v160Zm440 0h160v-160H620v160Z\"/>\n",
              "  </svg>\n",
              "    </button>\n",
              "\n",
              "  <style>\n",
              "    .colab-df-container {\n",
              "      display:flex;\n",
              "      gap: 12px;\n",
              "    }\n",
              "\n",
              "    .colab-df-convert {\n",
              "      background-color: #E8F0FE;\n",
              "      border: none;\n",
              "      border-radius: 50%;\n",
              "      cursor: pointer;\n",
              "      display: none;\n",
              "      fill: #1967D2;\n",
              "      height: 32px;\n",
              "      padding: 0 0 0 0;\n",
              "      width: 32px;\n",
              "    }\n",
              "\n",
              "    .colab-df-convert:hover {\n",
              "      background-color: #E2EBFA;\n",
              "      box-shadow: 0px 1px 2px rgba(60, 64, 67, 0.3), 0px 1px 3px 1px rgba(60, 64, 67, 0.15);\n",
              "      fill: #174EA6;\n",
              "    }\n",
              "\n",
              "    .colab-df-buttons div {\n",
              "      margin-bottom: 4px;\n",
              "    }\n",
              "\n",
              "    [theme=dark] .colab-df-convert {\n",
              "      background-color: #3B4455;\n",
              "      fill: #D2E3FC;\n",
              "    }\n",
              "\n",
              "    [theme=dark] .colab-df-convert:hover {\n",
              "      background-color: #434B5C;\n",
              "      box-shadow: 0px 1px 3px 1px rgba(0, 0, 0, 0.15);\n",
              "      filter: drop-shadow(0px 1px 2px rgba(0, 0, 0, 0.3));\n",
              "      fill: #FFFFFF;\n",
              "    }\n",
              "  </style>\n",
              "\n",
              "    <script>\n",
              "      const buttonEl =\n",
              "        document.querySelector('#df-8570e3e3-54f1-41b4-a0b8-2dc385eff032 button.colab-df-convert');\n",
              "      buttonEl.style.display =\n",
              "        google.colab.kernel.accessAllowed ? 'block' : 'none';\n",
              "\n",
              "      async function convertToInteractive(key) {\n",
              "        const element = document.querySelector('#df-8570e3e3-54f1-41b4-a0b8-2dc385eff032');\n",
              "        const dataTable =\n",
              "          await google.colab.kernel.invokeFunction('convertToInteractive',\n",
              "                                                    [key], {});\n",
              "        if (!dataTable) return;\n",
              "\n",
              "        const docLinkHtml = 'Like what you see? Visit the ' +\n",
              "          '<a target=\"_blank\" href=https://colab.research.google.com/notebooks/data_table.ipynb>data table notebook</a>'\n",
              "          + ' to learn more about interactive tables.';\n",
              "        element.innerHTML = '';\n",
              "        dataTable['output_type'] = 'display_data';\n",
              "        await google.colab.output.renderOutput(dataTable, element);\n",
              "        const docLink = document.createElement('div');\n",
              "        docLink.innerHTML = docLinkHtml;\n",
              "        element.appendChild(docLink);\n",
              "      }\n",
              "    </script>\n",
              "  </div>\n",
              "\n",
              "\n",
              "<div id=\"df-31e38e2d-9d7c-405f-a1b5-1667b7c02abe\">\n",
              "  <button class=\"colab-df-quickchart\" onclick=\"quickchart('df-31e38e2d-9d7c-405f-a1b5-1667b7c02abe')\"\n",
              "            title=\"Suggest charts\"\n",
              "            style=\"display:none;\">\n",
              "\n",
              "<svg xmlns=\"http://www.w3.org/2000/svg\" height=\"24px\"viewBox=\"0 0 24 24\"\n",
              "     width=\"24px\">\n",
              "    <g>\n",
              "        <path d=\"M19 3H5c-1.1 0-2 .9-2 2v14c0 1.1.9 2 2 2h14c1.1 0 2-.9 2-2V5c0-1.1-.9-2-2-2zM9 17H7v-7h2v7zm4 0h-2V7h2v10zm4 0h-2v-4h2v4z\"/>\n",
              "    </g>\n",
              "</svg>\n",
              "  </button>\n",
              "\n",
              "<style>\n",
              "  .colab-df-quickchart {\n",
              "      --bg-color: #E8F0FE;\n",
              "      --fill-color: #1967D2;\n",
              "      --hover-bg-color: #E2EBFA;\n",
              "      --hover-fill-color: #174EA6;\n",
              "      --disabled-fill-color: #AAA;\n",
              "      --disabled-bg-color: #DDD;\n",
              "  }\n",
              "\n",
              "  [theme=dark] .colab-df-quickchart {\n",
              "      --bg-color: #3B4455;\n",
              "      --fill-color: #D2E3FC;\n",
              "      --hover-bg-color: #434B5C;\n",
              "      --hover-fill-color: #FFFFFF;\n",
              "      --disabled-bg-color: #3B4455;\n",
              "      --disabled-fill-color: #666;\n",
              "  }\n",
              "\n",
              "  .colab-df-quickchart {\n",
              "    background-color: var(--bg-color);\n",
              "    border: none;\n",
              "    border-radius: 50%;\n",
              "    cursor: pointer;\n",
              "    display: none;\n",
              "    fill: var(--fill-color);\n",
              "    height: 32px;\n",
              "    padding: 0;\n",
              "    width: 32px;\n",
              "  }\n",
              "\n",
              "  .colab-df-quickchart:hover {\n",
              "    background-color: var(--hover-bg-color);\n",
              "    box-shadow: 0 1px 2px rgba(60, 64, 67, 0.3), 0 1px 3px 1px rgba(60, 64, 67, 0.15);\n",
              "    fill: var(--button-hover-fill-color);\n",
              "  }\n",
              "\n",
              "  .colab-df-quickchart-complete:disabled,\n",
              "  .colab-df-quickchart-complete:disabled:hover {\n",
              "    background-color: var(--disabled-bg-color);\n",
              "    fill: var(--disabled-fill-color);\n",
              "    box-shadow: none;\n",
              "  }\n",
              "\n",
              "  .colab-df-spinner {\n",
              "    border: 2px solid var(--fill-color);\n",
              "    border-color: transparent;\n",
              "    border-bottom-color: var(--fill-color);\n",
              "    animation:\n",
              "      spin 1s steps(1) infinite;\n",
              "  }\n",
              "\n",
              "  @keyframes spin {\n",
              "    0% {\n",
              "      border-color: transparent;\n",
              "      border-bottom-color: var(--fill-color);\n",
              "      border-left-color: var(--fill-color);\n",
              "    }\n",
              "    20% {\n",
              "      border-color: transparent;\n",
              "      border-left-color: var(--fill-color);\n",
              "      border-top-color: var(--fill-color);\n",
              "    }\n",
              "    30% {\n",
              "      border-color: transparent;\n",
              "      border-left-color: var(--fill-color);\n",
              "      border-top-color: var(--fill-color);\n",
              "      border-right-color: var(--fill-color);\n",
              "    }\n",
              "    40% {\n",
              "      border-color: transparent;\n",
              "      border-right-color: var(--fill-color);\n",
              "      border-top-color: var(--fill-color);\n",
              "    }\n",
              "    60% {\n",
              "      border-color: transparent;\n",
              "      border-right-color: var(--fill-color);\n",
              "    }\n",
              "    80% {\n",
              "      border-color: transparent;\n",
              "      border-right-color: var(--fill-color);\n",
              "      border-bottom-color: var(--fill-color);\n",
              "    }\n",
              "    90% {\n",
              "      border-color: transparent;\n",
              "      border-bottom-color: var(--fill-color);\n",
              "    }\n",
              "  }\n",
              "</style>\n",
              "\n",
              "  <script>\n",
              "    async function quickchart(key) {\n",
              "      const quickchartButtonEl =\n",
              "        document.querySelector('#' + key + ' button');\n",
              "      quickchartButtonEl.disabled = true;  // To prevent multiple clicks.\n",
              "      quickchartButtonEl.classList.add('colab-df-spinner');\n",
              "      try {\n",
              "        const charts = await google.colab.kernel.invokeFunction(\n",
              "            'suggestCharts', [key], {});\n",
              "      } catch (error) {\n",
              "        console.error('Error during call to suggestCharts:', error);\n",
              "      }\n",
              "      quickchartButtonEl.classList.remove('colab-df-spinner');\n",
              "      quickchartButtonEl.classList.add('colab-df-quickchart-complete');\n",
              "    }\n",
              "    (() => {\n",
              "      let quickchartButtonEl =\n",
              "        document.querySelector('#df-31e38e2d-9d7c-405f-a1b5-1667b7c02abe button');\n",
              "      quickchartButtonEl.style.display =\n",
              "        google.colab.kernel.accessAllowed ? 'block' : 'none';\n",
              "    })();\n",
              "  </script>\n",
              "</div>\n",
              "\n",
              "    </div>\n",
              "  </div>\n"
            ],
            "application/vnd.google.colaboratory.intrinsic+json": {
              "type": "dataframe",
              "summary": "{\n  \"name\": \"df1\",\n  \"rows\": 8,\n  \"fields\": [\n    {\n      \"column\": \"school_year_id\",\n      \"properties\": {\n        \"dtype\": \"number\",\n        \"std\": 367149.7174956599,\n        \"min\": 0.0,\n        \"max\": 1040190.0,\n        \"num_unique_values\": 3,\n        \"samples\": [\n          1040190.0,\n          2025.0,\n          0.0\n        ],\n        \"semantic_type\": \"\",\n        \"description\": \"\"\n      }\n    },\n    {\n      \"column\": \"idoe_corporation_id\",\n      \"properties\": {\n        \"dtype\": \"number\",\n        \"std\": 366182.18398950185,\n        \"min\": 15.0,\n        \"max\": 1040190.0,\n        \"num_unique_values\": 8,\n        \"samples\": [\n          4684.826603793537,\n          4720.0,\n          1040190.0\n        ],\n        \"semantic_type\": \"\",\n        \"description\": \"\"\n      }\n    },\n    {\n      \"column\": \"primary_exceptionality_code\",\n      \"properties\": {\n        \"dtype\": \"number\",\n        \"std\": 367763.59966695134,\n        \"min\": -9.0,\n        \"max\": 1040190.0,\n        \"num_unique_values\": 5,\n        \"samples\": [\n          -5.9591882252280834,\n          17.0,\n          7.176160216646652\n        ],\n        \"semantic_type\": \"\",\n        \"description\": \"\"\n      }\n    }\n  ]\n}"
            }
          },
          "metadata": {},
          "execution_count": 71
        }
      ]
    },
    {
      "cell_type": "code",
      "source": [
        "# exclude_programs = ['Parentally placed in Private School', 'Choice Voucher', 'Private Preschool', 'Correctional Facility', 'Identified Unserved NonPublic/HomeSchool Only']\n",
        "# df2 = df2[~df2['programname'].isin(exclude_programs)]"
      ],
      "metadata": {
        "id": "_JWKSqACs-Dd"
      },
      "execution_count": 72,
      "outputs": []
    },
    {
      "cell_type": "code",
      "source": [
        "#df2.programname.value_counts() # check the accurate excluded program"
      ],
      "metadata": {
        "id": "1OHAuuakQyt1"
      },
      "execution_count": 73,
      "outputs": []
    },
    {
      "cell_type": "code",
      "source": [
        "#df1.info()"
      ],
      "metadata": {
        "id": "_kZ5bmIJjYtl"
      },
      "execution_count": 74,
      "outputs": []
    },
    {
      "cell_type": "markdown",
      "source": [
        "### Calculate the birthdate"
      ],
      "metadata": {
        "id": "awNMaRkntD1X"
      }
    },
    {
      "cell_type": "code",
      "source": [
        "from datetime import date\n",
        "df1['age'] = (date.today().year - pd.to_datetime(df1['birth_date']).dt.year)"
      ],
      "metadata": {
        "id": "QUFfdfhhMxgL"
      },
      "execution_count": 75,
      "outputs": []
    },
    {
      "cell_type": "markdown",
      "source": [
        "### check the age"
      ],
      "metadata": {
        "id": "Bw_OHkidnIRE"
      }
    },
    {
      "cell_type": "code",
      "source": [
        "#df1.age.value_counts()"
      ],
      "metadata": {
        "id": "SBHJMq84nK--"
      },
      "execution_count": 76,
      "outputs": []
    },
    {
      "cell_type": "markdown",
      "source": [
        "###Ethnicity algin with fedral requirment."
      ],
      "metadata": {
        "id": "xP2pfTKhi5M8"
      }
    },
    {
      "cell_type": "code",
      "source": [
        "df1 = df1.replace({'White':'WH7', 'Black':'BL7', 'Hispanic': 'HI7', 'Multiracial': 'MU7', 'Asian' : 'AS7', 'American Indian' : 'AM7', 'Native Hawaiian or Other Pacific Islander' : 'PI7'})"
      ],
      "metadata": {
        "id": "xHAKUcD9irnr"
      },
      "execution_count": 77,
      "outputs": []
    },
    {
      "cell_type": "code",
      "source": [
        "#df1.ethnicity.value_counts()"
      ],
      "metadata": {
        "id": "kVK9rUmejAgb"
      },
      "execution_count": 78,
      "outputs": []
    },
    {
      "cell_type": "code",
      "source": [
        "age_3_21 = df1[(df1['age'] >= 3) &\n",
        "               (df1['age'] <= 21)]\n"
      ],
      "metadata": {
        "id": "XjEvMM6ttA3v"
      },
      "execution_count": 79,
      "outputs": []
    },
    {
      "cell_type": "code",
      "source": [
        "#age_3_21.age.value_counts()"
      ],
      "metadata": {
        "id": "sWqyWwWchwzL"
      },
      "execution_count": 80,
      "outputs": []
    },
    {
      "cell_type": "markdown",
      "source": [
        "####Age from 3 to 21"
      ],
      "metadata": {
        "id": "XzGHDX4Msj2u"
      }
    },
    {
      "cell_type": "code",
      "source": [
        "#age_3_21 = df3[(df3['age_on_01_dec_2024'] >= 3) &\n",
        "               (df3['age_on_01_dec_2024'] <= 21)]"
      ],
      "metadata": {
        "id": "UxtFGJgmr2Op",
        "colab": {
          "base_uri": "https://localhost:8080/",
          "height": 106
        },
        "outputId": "e12cbad8-7cab-481d-d6d7-f97e8bacf066"
      },
      "execution_count": 81,
      "outputs": [
        {
          "output_type": "error",
          "ename": "IndentationError",
          "evalue": "unexpected indent (<ipython-input-81-6be38aff8ee4>, line 2)",
          "traceback": [
            "\u001b[0;36m  File \u001b[0;32m\"<ipython-input-81-6be38aff8ee4>\"\u001b[0;36m, line \u001b[0;32m2\u001b[0m\n\u001b[0;31m    (df3['age_on_01_dec_2024'] <= 21)]\u001b[0m\n\u001b[0m    ^\u001b[0m\n\u001b[0;31mIndentationError\u001b[0m\u001b[0;31m:\u001b[0m unexpected indent\n"
          ]
        }
      ]
    },
    {
      "cell_type": "code",
      "source": [
        "#age_3_21.head(1)"
      ],
      "metadata": {
        "id": "-xgvLEKUsvTX"
      },
      "execution_count": null,
      "outputs": []
    },
    {
      "cell_type": "markdown",
      "source": [
        "### Data for Comparison identification sheet\n",
        "\n",
        "Total Student enrollment (3-21) Race/ethnicity"
      ],
      "metadata": {
        "id": "UNBxinicXRgl"
      }
    },
    {
      "cell_type": "code",
      "source": [
        "ttl_stu_enrl_3_21 = age_3_21.groupby('idoe_corporation_id')['ethnicity'].value_counts().unstack(fill_value=0).sort_values(by = 'idoe_corporation_id').reindex(all_cops, fill_value=0)"
      ],
      "metadata": {
        "id": "hvmf_607sZBq"
      },
      "execution_count": null,
      "outputs": []
    },
    {
      "cell_type": "markdown",
      "source": [
        "## Save the total student enrollment age 3-21 in excel."
      ],
      "metadata": {
        "id": "bSGWbXpSbxFK"
      }
    },
    {
      "cell_type": "code",
      "source": [
        "#ttl_stu_enrl_3_21.to_excel('ttl_stu_enrl_3_21.xlsx')\n",
        "#ttl_stu_enrl_3_21"
      ],
      "metadata": {
        "id": "u3KDq33LrHfT"
      },
      "execution_count": null,
      "outputs": []
    },
    {
      "cell_type": "code",
      "source": [
        "#Flag SPED eligibility from primary exceptionality column\n",
        "df1['idea-eligibility'] = np.where(df1['primary_exceptionality'].isnull(), \"NonSPED\", \"SPED\")"
      ],
      "metadata": {
        "id": "8E5fRoFRmVuC"
      },
      "execution_count": null,
      "outputs": []
    },
    {
      "cell_type": "code",
      "source": [
        "df1['idea-eligibility'].value_counts()"
      ],
      "metadata": {
        "id": "kQrA86nynPP8"
      },
      "execution_count": null,
      "outputs": []
    },
    {
      "cell_type": "code",
      "source": [
        "df1.shape"
      ],
      "metadata": {
        "id": "pQeZr4dmnuca"
      },
      "execution_count": null,
      "outputs": []
    },
    {
      "cell_type": "markdown",
      "source": [
        "####Comparison Placement sheet -- School Age IDEA enrollment(5 -21)"
      ],
      "metadata": {
        "id": "3JAkUz7biDzt"
      }
    },
    {
      "cell_type": "code",
      "source": [
        "idea_sch_age = df1[\n",
        "    (df1['age'] >= 5) &\n",
        "    (df1['age'] <= 21) &\n",
        "    (df1['idea-eligibility'] == 'SPED')\n",
        "]"
      ],
      "metadata": {
        "id": "7C7YgsKooUKP"
      },
      "execution_count": null,
      "outputs": []
    },
    {
      "cell_type": "code",
      "source": [
        "idea_sch_age['idea-eligibility'].value_counts()"
      ],
      "metadata": {
        "id": "52zR2XzCzAu3"
      },
      "execution_count": null,
      "outputs": []
    },
    {
      "cell_type": "code",
      "source": [
        "#df1.head(1)"
      ],
      "metadata": {
        "id": "FXF6jYwQqAAM"
      },
      "execution_count": null,
      "outputs": []
    },
    {
      "cell_type": "code",
      "source": [
        "comparison_placement_idea_sch_age = idea_sch_age.groupby('idoe_corporation_id')['ethnicity'].value_counts().unstack(fill_value=0).sort_values(by = 'idoe_corporation_id').reindex(all_cops, fill_value=0)"
      ],
      "metadata": {
        "id": "dmAM4JaByBFx"
      },
      "execution_count": null,
      "outputs": []
    },
    {
      "cell_type": "markdown",
      "source": [
        "###saved the file for comparison placement sheet:\n",
        "\n",
        "Comparison group : IDEA enrollment (school age)"
      ],
      "metadata": {
        "id": "oYgTC0ECPVx1"
      }
    },
    {
      "cell_type": "code",
      "source": [
        "comparison_placement_idea_sch_age.to_excel('comparison_placement_idea_sch_age.xlsx')\n",
        "#comparison_placement_idea_sch_age"
      ],
      "metadata": {
        "id": "JVmS88N6PVC0"
      },
      "execution_count": null,
      "outputs": []
    },
    {
      "cell_type": "markdown",
      "source": [
        "## save the excel file: Comparison Placement sheet\n",
        "\n",
        "Comparison group: School age IDEA enbrollment"
      ],
      "metadata": {
        "id": "c0g2S3Y1ybYn"
      }
    },
    {
      "cell_type": "markdown",
      "source": [
        "####STN are duplicated because reporting corporations and leagal corporations are different are different\n",
        "\n",
        "Removing the Duplicated stn"
      ],
      "metadata": {
        "id": "FsUk_r8QTy1-"
      }
    },
    {
      "cell_type": "code",
      "source": [],
      "metadata": {
        "id": "TgMcGcVtp6bc"
      },
      "execution_count": null,
      "outputs": []
    },
    {
      "cell_type": "code",
      "source": [
        "#\n",
        "\n"
      ],
      "metadata": {
        "id": "OHawpZdZSV2C"
      },
      "execution_count": null,
      "outputs": []
    }
  ]
}