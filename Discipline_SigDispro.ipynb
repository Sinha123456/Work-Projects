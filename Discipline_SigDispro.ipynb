{
  "nbformat": 4,
  "nbformat_minor": 0,
  "metadata": {
    "colab": {
      "provenance": [],
      "authorship_tag": "ABX9TyMJ3ZcRNa/amcrS7+WNJtER",
      "include_colab_link": true
    },
    "kernelspec": {
      "name": "python3",
      "display_name": "Python 3"
    },
    "language_info": {
      "name": "python"
    }
  },
  "cells": [
    {
      "cell_type": "markdown",
      "metadata": {
        "id": "view-in-github",
        "colab_type": "text"
      },
      "source": [
        "<a href=\"https://colab.research.google.com/github/Sinha123456/Work-Projects/blob/main/Discipline_SigDispro.ipynb\" target=\"_parent\"><img src=\"https://colab.research.google.com/assets/colab-badge.svg\" alt=\"Open In Colab\"/></a>"
      ]
    },
    {
      "cell_type": "code",
      "execution_count": null,
      "metadata": {
        "id": "z7ZW_nYpO_Ml"
      },
      "outputs": [],
      "source": [
        "from google.colab import drive\n",
        "drive.mount('/content/drive')\n",
        "import pandas as pd\n",
        "import numpy as np\n",
        "import matplotlib.pyplot as plt\n",
        "import seaborn as sns\n",
        "from datetime import date"
      ]
    },
    {
      "cell_type": "markdown",
      "source": [
        "#### LEA from Sig dispor calculator"
      ],
      "metadata": {
        "id": "-pQ5COU4dyJd"
      }
    },
    {
      "cell_type": "code",
      "source": [
        "master_corp = pd.read_excel('/content/drive/MyDrive/Colab Notebooks/corp_no_from_sig_dispro_calc.xlsx')"
      ],
      "metadata": {
        "id": "puNJxOaud3QY"
      },
      "execution_count": null,
      "outputs": []
    },
    {
      "cell_type": "code",
      "source": [
        "all_corps = master_corp['Reporting Corp'].unique()"
      ],
      "metadata": {
        "id": "vGnGljUIeO6m"
      },
      "execution_count": null,
      "outputs": []
    },
    {
      "cell_type": "code",
      "source": [
        "df1 = pd.read_excel(\"/content/drive/MyDrive/Colab Notebooks/ES/DOE - Sinha 2023-24 ES 11142024.xlsx\")\n",
        "#df1.head(1)"
      ],
      "metadata": {
        "id": "zv7oneppPc96"
      },
      "execution_count": null,
      "outputs": []
    },
    {
      "cell_type": "code",
      "source": [
        "df1.shape"
      ],
      "metadata": {
        "id": "jikMVReuPdBf"
      },
      "execution_count": null,
      "outputs": []
    },
    {
      "cell_type": "code",
      "source": [
        "#df1.info()"
      ],
      "metadata": {
        "id": "zLjRZN6CPdFH"
      },
      "execution_count": null,
      "outputs": []
    },
    {
      "cell_type": "code",
      "source": [
        "df1.columns = df1.columns.str.lower()\n",
        "#df1.head(1)"
      ],
      "metadata": {
        "id": "_wosElEtPdMb"
      },
      "execution_count": null,
      "outputs": []
    },
    {
      "cell_type": "code",
      "source": [
        "df1.nunique()"
      ],
      "metadata": {
        "id": "QV96X-pTRkv3"
      },
      "execution_count": null,
      "outputs": []
    },
    {
      "cell_type": "code",
      "source": [
        "df1.sort_values(by = \"stn\", ascending = False)\n",
        "#df1.head(5)"
      ],
      "metadata": {
        "id": "GnyL5OK9RkrN"
      },
      "execution_count": null,
      "outputs": []
    },
    {
      "cell_type": "code",
      "source": [
        "duplicated_mask = df1.duplicated(keep = False)\n"
      ],
      "metadata": {
        "id": "bOtnOe_mRknh"
      },
      "execution_count": null,
      "outputs": []
    },
    {
      "cell_type": "code",
      "source": [
        "#duplicated_mask # it's bollean value"
      ],
      "metadata": {
        "id": "t9OdwW5hdFtl"
      },
      "execution_count": null,
      "outputs": []
    },
    {
      "cell_type": "code",
      "source": [
        "duplicated_mask.sum()"
      ],
      "metadata": {
        "id": "xhERuYUMdB8A"
      },
      "execution_count": null,
      "outputs": []
    },
    {
      "cell_type": "code",
      "source": [
        "df1_sorted = pd.concat([df1[duplicated_mask], df1[~duplicated_mask]])\n"
      ],
      "metadata": {
        "id": "fpR46IrRUBbv"
      },
      "execution_count": null,
      "outputs": []
    },
    {
      "cell_type": "code",
      "source": [
        "#df1_sorted.head(20)"
      ],
      "metadata": {
        "id": "NK2j1DLhdzFr"
      },
      "execution_count": null,
      "outputs": []
    },
    {
      "cell_type": "code",
      "source": [
        "#df1.query(\"stn == 'N00008313'\")"
      ],
      "metadata": {
        "id": "8-TlR9bfeXgv"
      },
      "execution_count": null,
      "outputs": []
    },
    {
      "cell_type": "code",
      "source": [
        "pd.set_option(\"display.max_columns\", None)"
      ],
      "metadata": {
        "id": "gkMFNt32UBX2"
      },
      "execution_count": null,
      "outputs": []
    },
    {
      "cell_type": "code",
      "source": [
        "df1_sorted.shape"
      ],
      "metadata": {
        "id": "2Ml1x1pYUBT_"
      },
      "execution_count": null,
      "outputs": []
    },
    {
      "cell_type": "code",
      "source": [
        "#df1_sorted.head(5)"
      ],
      "metadata": {
        "id": "tOzJyDr9Rki8"
      },
      "execution_count": null,
      "outputs": []
    },
    {
      "cell_type": "code",
      "source": [
        "#df1.query(\"stn == '028913079'\")"
      ],
      "metadata": {
        "id": "LmNiqw_7Rkby"
      },
      "execution_count": null,
      "outputs": []
    },
    {
      "cell_type": "code",
      "source": [
        "df2 = df1.drop_duplicates(subset = [\"stn\", \"incident_date\"], keep = \"first\")\n",
        "df2.shape"
      ],
      "metadata": {
        "id": "ITYv7iywZ_um"
      },
      "execution_count": null,
      "outputs": []
    },
    {
      "cell_type": "code",
      "source": [
        "#df2.query(\"stn == '004110110'\")"
      ],
      "metadata": {
        "id": "-KmtfOd1d46X"
      },
      "execution_count": null,
      "outputs": []
    },
    {
      "cell_type": "code",
      "source": [
        "#calculate age from birthdate column\n",
        "from datetime import date\n",
        "df2['Age'] = (date.today().year -pd.to_datetime(df2['birth_date']).dt.year)"
      ],
      "metadata": {
        "id": "K5ax-3dXgS_4"
      },
      "execution_count": null,
      "outputs": []
    },
    {
      "cell_type": "code",
      "source": [
        "df3 = df2.query(\"Age >=3 and Age <= 21\")"
      ],
      "metadata": {
        "id": "uIx5r5evz_pd"
      },
      "execution_count": null,
      "outputs": []
    },
    {
      "cell_type": "code",
      "source": [
        "df3.shape"
      ],
      "metadata": {
        "id": "2nEnk4kO2MnR"
      },
      "execution_count": null,
      "outputs": []
    },
    {
      "cell_type": "code",
      "source": [
        "pd.set_option(\"display.max_columns\", None)"
      ],
      "metadata": {
        "id": "-4sQ_SQK8eGP"
      },
      "execution_count": null,
      "outputs": []
    },
    {
      "cell_type": "code",
      "source": [
        "#check columns discipline action length and actual discipline length columns\n",
        "comparison = df3['discipline_action_length'] ==df3['actual_discipline_action_length']"
      ],
      "metadata": {
        "id": "V314zUyY_pdR"
      },
      "execution_count": null,
      "outputs": []
    },
    {
      "cell_type": "code",
      "source": [
        "print(comparison)"
      ],
      "metadata": {
        "id": "-sPgJkB9AF9P"
      },
      "execution_count": null,
      "outputs": []
    },
    {
      "cell_type": "code",
      "source": [
        "#sum the discipline action length of each student\n",
        "#df3 = df3.groupby('stn')['discipline_action_length'].sum()"
      ],
      "metadata": {
        "id": "sNpRIfEHAPsV"
      },
      "execution_count": null,
      "outputs": []
    },
    {
      "cell_type": "code",
      "source": [
        "#df3.ethnicity.value_counts()"
      ],
      "metadata": {
        "id": "YFSZbUlIBTEX"
      },
      "execution_count": null,
      "outputs": []
    },
    {
      "cell_type": "code",
      "source": [
        "df3.replace({'White':'WH7', 'Black':'BL7', 'Hispanic': 'HI7', 'Multiracial': 'MU7', 'Asian' : 'AS7', 'American Indian' : 'AM7', 'Native Hawaiian or Other Pacific Islander' : 'PI7'}, inplace = True)"
      ],
      "metadata": {
        "id": "NgYx2jK-PQt8"
      },
      "execution_count": null,
      "outputs": []
    },
    {
      "cell_type": "code",
      "source": [
        "df3.ethnicity.value_counts()"
      ],
      "metadata": {
        "id": "cg3saMdAPK-3"
      },
      "execution_count": null,
      "outputs": []
    },
    {
      "cell_type": "code",
      "source": [
        "df3.special_ed.value_counts()"
      ],
      "metadata": {
        "id": "85FabiekkHV-"
      },
      "execution_count": null,
      "outputs": []
    },
    {
      "cell_type": "code",
      "source": [
        "#Only Special ed students\n",
        "df3_sped = df3.query(\"special_ed =='Y'\")"
      ],
      "metadata": {
        "id": "-RBnS7qu9tU0"
      },
      "execution_count": null,
      "outputs": []
    },
    {
      "cell_type": "code",
      "source": [
        "# non special ed students\n",
        "df3_Nonsped = df3.query(\"special_ed =='N'\")"
      ],
      "metadata": {
        "id": "-nmJy6gs-Q2r"
      },
      "execution_count": null,
      "outputs": []
    },
    {
      "cell_type": "markdown",
      "source": [
        "##Comparison Discipline Sheet"
      ],
      "metadata": {
        "id": "lyRF1b8ub4V_"
      }
    },
    {
      "cell_type": "code",
      "source": [
        "#Comparison group:Total IDEA student enrollment-for Comparison Discipline sheet\n",
        "target_idea_student = df3_sped.groupby('idoe_corporation_id')['ethnicity'].value_counts().unstack(fill_value=0).sort_values(by = \"idoe_corporation_id\").reindex(all_corps, fill_value=0)"
      ],
      "metadata": {
        "id": "tIclS2Ej-kAj"
      },
      "execution_count": null,
      "outputs": []
    },
    {
      "cell_type": "code",
      "source": [
        "target_idea_student"
      ],
      "metadata": {
        "id": "o85ddALnaeG9"
      },
      "execution_count": null,
      "outputs": []
    },
    {
      "cell_type": "code",
      "source": [
        "#target_idea_student.to_csv(\"Comparison_discipline_2024.csv\")"
      ],
      "metadata": {
        "id": "Uc0VdstBan7k"
      },
      "execution_count": null,
      "outputs": []
    },
    {
      "cell_type": "markdown",
      "source": [
        "##In School Suspension"
      ],
      "metadata": {
        "id": "JZBMzLLiikrB"
      }
    },
    {
      "cell_type": "code",
      "source": [
        "#filter in school suspension\n",
        "df3_sped_in_school_suspension = df3_sped.query(\"discipline_type =='In School Suspension'\")"
      ],
      "metadata": {
        "id": "RyUdrNQncmkT"
      },
      "execution_count": null,
      "outputs": []
    },
    {
      "cell_type": "markdown",
      "source": [
        "####Sum discipline action length - In school suspension"
      ],
      "metadata": {
        "id": "cMrqB2luiyKY"
      }
    },
    {
      "cell_type": "code",
      "source": [
        "\n",
        "df3_sped_in_school_suspension_sum = df3_sped_in_school_suspension.groupby('stn')['discipline_action_length'].sum()"
      ],
      "metadata": {
        "id": "HPSP4K4SairG"
      },
      "execution_count": null,
      "outputs": []
    },
    {
      "cell_type": "markdown",
      "source": [
        "####In school suspension less than or equal to 10 days"
      ],
      "metadata": {
        "id": "QXHkKQoCjBPH"
      }
    },
    {
      "cell_type": "code",
      "source": [
        "df3_sped_in_school_suspension_less_than_10 = df3_sped_in_school_suspension_sum[df3_sped_in_school_suspension_sum <= 10].index"
      ],
      "metadata": {
        "id": "L8SdalY_cYwz"
      },
      "execution_count": null,
      "outputs": []
    },
    {
      "cell_type": "code",
      "source": [
        "df3_sped_in_school_suspension_less_than_10"
      ],
      "metadata": {
        "id": "AizhXtcsgGjy"
      },
      "execution_count": null,
      "outputs": []
    },
    {
      "cell_type": "markdown",
      "source": [
        "#####Get corporation id and ethnicity of in school suspension for less than or equal to 10 days"
      ],
      "metadata": {
        "id": "A5E7nkkskkpX"
      }
    },
    {
      "cell_type": "code",
      "source": [
        "in_sch_less_than_10 = df3_sped_in_school_suspension[df3_sped_in_school_suspension['stn'].isin(df3_sped_in_school_suspension_less_than_10)][['idoe_corporation_id','ethnicity', 'stn']]"
      ],
      "metadata": {
        "id": "EePVQxxmh_Wq"
      },
      "execution_count": null,
      "outputs": []
    },
    {
      "cell_type": "code",
      "source": [
        "#drop duplicate\n",
        "in_sch_less_than_10 = in_sch_less_than_10.drop_duplicates(subset = ['stn'])"
      ],
      "metadata": {
        "id": "TqcqfmLL4NjL"
      },
      "execution_count": null,
      "outputs": []
    },
    {
      "cell_type": "markdown",
      "source": [
        "#####Group by corporation id, count ethnicity in school suspension less than or equal to 10 days"
      ],
      "metadata": {
        "id": "74hT2u_TlWKH"
      }
    },
    {
      "cell_type": "code",
      "source": [
        "final_in_sch_sus_less_than_10 = in_sch_less_than_10.groupby('idoe_corporation_id')['ethnicity'].value_counts().unstack(fill_value=0).sort_values(by = \"idoe_corporation_id\").reindex(all_corps, fill_value=0)"
      ],
      "metadata": {
        "id": "PmPFAdtok_nG"
      },
      "execution_count": null,
      "outputs": []
    },
    {
      "cell_type": "code",
      "source": [
        "final_in_sch_sus_less_than_10"
      ],
      "metadata": {
        "id": "fB6OJ95Xf38X"
      },
      "execution_count": null,
      "outputs": []
    },
    {
      "cell_type": "markdown",
      "source": [
        "#####saved in school suspension less than or equal to 10 days, remove hash for future download"
      ],
      "metadata": {
        "id": "Ytd93_G2lr7x"
      }
    },
    {
      "cell_type": "code",
      "source": [
        "#final_in_sch_sus_less_than_10.to_csv(\"In_school_suspension_less_than_10.csv\")"
      ],
      "metadata": {
        "id": "SWQXvrL-kaNL"
      },
      "execution_count": null,
      "outputs": []
    },
    {
      "cell_type": "markdown",
      "source": [
        "##In School Suspension greater than or equal to 10 days"
      ],
      "metadata": {
        "id": "We99wzRAoAE1"
      }
    },
    {
      "cell_type": "code",
      "source": [
        "in_sch_greater_than_10 = df3_sped_in_school_suspension_sum[df3_sped_in_school_suspension_sum >= 10].index"
      ],
      "metadata": {
        "id": "VAxcXkhgoKqa"
      },
      "execution_count": null,
      "outputs": []
    },
    {
      "cell_type": "code",
      "source": [
        "in_sch_greater_than_10"
      ],
      "metadata": {
        "id": "A2vo8Vv3sapo"
      },
      "execution_count": null,
      "outputs": []
    },
    {
      "cell_type": "code",
      "source": [
        "in_sch_greater_than_10_filter = df3_sped_in_school_suspension[df3_sped_in_school_suspension['stn'].isin(in_sch_greater_than_10)][['idoe_corporation_id','ethnicity', 'stn']]"
      ],
      "metadata": {
        "id": "he3w_g_nn85d"
      },
      "execution_count": null,
      "outputs": []
    },
    {
      "cell_type": "code",
      "source": [
        "in_sch_greater_than_10_filter = in_sch_greater_than_10_filter.drop_duplicates(subset = ['stn'])"
      ],
      "metadata": {
        "id": "pUwR-_Id69EU"
      },
      "execution_count": null,
      "outputs": []
    },
    {
      "cell_type": "code",
      "source": [
        "final_in_sch_sus_more_than_10 = in_sch_greater_than_10_filter.groupby('idoe_corporation_id')['ethnicity'].value_counts().unstack(fill_value=0).sort_values(by = \"idoe_corporation_id\").reindex(all_corps, fill_value=0)"
      ],
      "metadata": {
        "id": "OJ2Bdqldr-jd"
      },
      "execution_count": null,
      "outputs": []
    },
    {
      "cell_type": "markdown",
      "source": [
        "####Remove hash for future download in school suspension greater than or equal to 10 days"
      ],
      "metadata": {
        "id": "f3EY6J6TtGQx"
      }
    },
    {
      "cell_type": "code",
      "source": [
        "#final_in_sch_sus_more_than_10.to_csv(\"In_school_suspension_greater_than_10.csv\")"
      ],
      "metadata": {
        "id": "BEgN2bG2n8tp"
      },
      "execution_count": null,
      "outputs": []
    },
    {
      "cell_type": "markdown",
      "source": [
        "#Out of School suspension/expulsion filter"
      ],
      "metadata": {
        "id": "b1qV1ut1t_T-"
      }
    },
    {
      "cell_type": "code",
      "source": [
        "df3_sped_oss = df3_sped.query(\"discipline_type =='Out of School Suspension' or discipline_type == 'Expulsion'\") # extract oss and expulsion"
      ],
      "metadata": {
        "id": "ZXjSBsVLuJ_n"
      },
      "execution_count": null,
      "outputs": []
    },
    {
      "cell_type": "code",
      "source": [
        "df3_sped_oss_sum = df3_sped_oss.groupby('stn')['discipline_action_length'].sum() # sum the discipline action length"
      ],
      "metadata": {
        "id": "0kcdbqcen8dn"
      },
      "execution_count": null,
      "outputs": []
    },
    {
      "cell_type": "markdown",
      "source": [
        "#####out of school suspension less than or equal to 10 days"
      ],
      "metadata": {
        "id": "ZnkAlwZ1WJS1"
      }
    },
    {
      "cell_type": "code",
      "source": [
        "df3_sped_oss_less_than_10 = df3_sped_oss_sum[df3_sped_oss_sum <= 10].index"
      ],
      "metadata": {
        "id": "bKkfoMzOV8OP"
      },
      "execution_count": null,
      "outputs": []
    },
    {
      "cell_type": "code",
      "source": [
        "df3_sped_oss_less_than_10"
      ],
      "metadata": {
        "id": "K3NUzhbiV7h7"
      },
      "execution_count": null,
      "outputs": []
    },
    {
      "cell_type": "code",
      "source": [
        "#df3_sped.query(\"stn =='002516012'\") # validate the stn"
      ],
      "metadata": {
        "id": "pST80VqqWy5J"
      },
      "execution_count": null,
      "outputs": []
    },
    {
      "cell_type": "code",
      "source": [
        "df3_sped__oss_less_than_10_filter = df3_sped_oss[df3_sped_oss['stn'].isin(df3_sped_oss_less_than_10)][['idoe_corporation_id', 'ethnicity', 'stn']] # filter oss stn less than or equal to 10 days"
      ],
      "metadata": {
        "id": "nFNjU4cSVCCV"
      },
      "execution_count": null,
      "outputs": []
    },
    {
      "cell_type": "code",
      "source": [
        "df3_sped__oss_less_than_10_filter = df3_sped__oss_less_than_10_filter.drop_duplicates(subset = ['stn'])"
      ],
      "metadata": {
        "id": "fcOdU2IQ7Iox"
      },
      "execution_count": null,
      "outputs": []
    },
    {
      "cell_type": "code",
      "source": [
        "df3_sped__oss_less_than_10_final = df3_sped__oss_less_than_10_filter.groupby('idoe_corporation_id')['ethnicity'].value_counts().unstack(fill_value=0).sort_values(by = 'idoe_corporation_id').reindex(all_corps, fill_value=0)"
      ],
      "metadata": {
        "id": "jDtx2OM1a_TJ"
      },
      "execution_count": null,
      "outputs": []
    },
    {
      "cell_type": "markdown",
      "source": [
        "####Save the file out of school suspension or expulsion less than or equal to 10 days. Remove the hash for download"
      ],
      "metadata": {
        "id": "HYu7aPUkcLJl"
      }
    },
    {
      "cell_type": "code",
      "source": [
        "#df3_sped__oss_less_than_10_final.to_csv(\"df3_sped_oss_less_than_10_days.csv\")"
      ],
      "metadata": {
        "id": "r9fMVUIFVrl6"
      },
      "execution_count": null,
      "outputs": []
    },
    {
      "cell_type": "markdown",
      "source": [
        "###Out of school suspension or Expulsion greater than or equal to 10 days"
      ],
      "metadata": {
        "id": "6B3iKBshdEu_"
      }
    },
    {
      "cell_type": "code",
      "source": [
        "df3_sped_oss_greater_than_10 = df3_sped_oss_sum[df3_sped_oss_sum >= 10].index"
      ],
      "metadata": {
        "id": "FPmQqrWsdCrk"
      },
      "execution_count": null,
      "outputs": []
    },
    {
      "cell_type": "code",
      "source": [
        "df3_sped_oss_greater_than_10"
      ],
      "metadata": {
        "id": "yEJvuM7OVrfQ"
      },
      "execution_count": null,
      "outputs": []
    },
    {
      "cell_type": "code",
      "source": [
        "df3_sped_oss_greater_than_10_filter = df3_sped_oss[df3_sped_oss['stn'].isin(df3_sped_oss_greater_than_10)][['idoe_corporation_id', 'ethnicity', 'stn']]"
      ],
      "metadata": {
        "id": "Nb4T6NKGVrZR"
      },
      "execution_count": null,
      "outputs": []
    },
    {
      "cell_type": "code",
      "source": [
        "df3_sped_oss_greater_than_10_filter = df3_sped_oss_greater_than_10_filter.drop_duplicates(subset = ['stn'])"
      ],
      "metadata": {
        "id": "86v5bk0f7QPj"
      },
      "execution_count": null,
      "outputs": []
    },
    {
      "cell_type": "code",
      "source": [
        "df3_sped_oss_greater_than_10_final = df3_sped_oss_greater_than_10_filter.groupby('idoe_corporation_id')['ethnicity'].value_counts().unstack(fill_value=0).sort_values(by = 'idoe_corporation_id').reindex(all_corps, fill_value=0)"
      ],
      "metadata": {
        "id": "dCTx6CjBfxRD"
      },
      "execution_count": null,
      "outputs": []
    },
    {
      "cell_type": "markdown",
      "source": [
        "####Save the file out of school suspension or expulsion greater than or equal to 10 days. Remove hash for download the file"
      ],
      "metadata": {
        "id": "l1KtIFdcgQQ1"
      }
    },
    {
      "cell_type": "code",
      "source": [
        "#df3_sped_oss_greater_than_10_final.to_csv(\"df3_sped_oss_greater_than_10.csv\")"
      ],
      "metadata": {
        "id": "xJ0QdwFQgLH3"
      },
      "execution_count": null,
      "outputs": []
    },
    {
      "cell_type": "markdown",
      "source": [
        "###Total Removal age 3-21 by race\n",
        "count total student without summation of length of suspension\n",
        "\n",
        "filter the arrest values."
      ],
      "metadata": {
        "id": "NTbtjibAJxxp"
      }
    },
    {
      "cell_type": "code",
      "source": [
        "df3_sped.head(1)"
      ],
      "metadata": {
        "id": "O-bCQD29LHlS"
      },
      "execution_count": null,
      "outputs": []
    },
    {
      "cell_type": "code",
      "source": [
        "df3_sped_arrest_nan = df3_sped[df3_sped['arrest_reason'].isna()]"
      ],
      "metadata": {
        "id": "uVOkxMKKPfsj"
      },
      "execution_count": null,
      "outputs": []
    },
    {
      "cell_type": "code",
      "source": [
        "pd.set_option(\"display.max_columns\", None)"
      ],
      "metadata": {
        "id": "adxRHi9sRx0q"
      },
      "execution_count": null,
      "outputs": []
    },
    {
      "cell_type": "code",
      "source": [
        "df3_sped_arrest_nan['arrest_reason'].value_counts()"
      ],
      "metadata": {
        "id": "V-AeBFvNRP5B"
      },
      "execution_count": null,
      "outputs": []
    },
    {
      "cell_type": "code",
      "source": [
        "total_removal_idea_3_21 = df3_sped_arrest_nan.groupby('idoe_corporation_id')['ethnicity'].value_counts().unstack(fill_value=0).sort_values(by = \"idoe_corporation_id\").reindex(all_corps, fill_value=0)"
      ],
      "metadata": {
        "id": "BgxiiSEhR17K"
      },
      "execution_count": null,
      "outputs": []
    },
    {
      "cell_type": "markdown",
      "source": [
        "### Save the file"
      ],
      "metadata": {
        "id": "8NP_BwunS8FS"
      }
    },
    {
      "cell_type": "code",
      "source": [
        "#total_removal_idea_3_21.to_excel(\"total_removal_idea_3_21.xlsx\")\n",
        "total_removal_idea_3_21"
      ],
      "metadata": {
        "id": "oAfhDP4rS_yC"
      },
      "execution_count": null,
      "outputs": []
    },
    {
      "cell_type": "code",
      "source": [
        "in_sus_less_10 = in_sch_less_than_10.groupby(['idoe_corporation_id', 'stn'])['ethnicity'].value_counts().unstack(fill_value=0)"
      ],
      "metadata": {
        "id": "-RcasNu64Pm6"
      },
      "execution_count": null,
      "outputs": []
    },
    {
      "cell_type": "code",
      "source": [
        "in_sus_less_10.head()"
      ],
      "metadata": {
        "id": "BgWW6QyF4YdS"
      },
      "execution_count": null,
      "outputs": []
    },
    {
      "cell_type": "code",
      "source": [
        "in_sch_less_than_10.query(\"stn == '251212258'\") # Data verification"
      ],
      "metadata": {
        "id": "5xLxVIQM_cbd"
      },
      "execution_count": null,
      "outputs": []
    },
    {
      "cell_type": "code",
      "source": [
        "#in_sus_less_10.to_csv(\"in_sus_less_10_Angie.csv\")"
      ],
      "metadata": {
        "id": "8w45PP0L4bgj"
      },
      "execution_count": null,
      "outputs": []
    },
    {
      "cell_type": "code",
      "source": [
        "oos_greater_10_stn = df3_sped_oss_greater_than_10_filter.groupby(['idoe_corporation_id','stn'])['ethnicity'].value_counts().unstack(fill_value=0)"
      ],
      "metadata": {
        "id": "c2f9-HjcCE_N"
      },
      "execution_count": null,
      "outputs": []
    },
    {
      "cell_type": "code",
      "source": [
        "df3_sped_oss_greater_than_10_filter.query(\"stn == '251212258'\") # Data verification"
      ],
      "metadata": {
        "id": "8OOoP8VpNxaZ"
      },
      "execution_count": null,
      "outputs": []
    },
    {
      "cell_type": "code",
      "source": [
        "oos_greater_10_stn.to_csv(\"oos_greater_10_stn.csv\")"
      ],
      "metadata": {
        "id": "1iynGhUsIGVB"
      },
      "execution_count": null,
      "outputs": []
    },
    {
      "cell_type": "code",
      "source": [
        "oos_greater_10_stn.query(\"stn == '004109502'\") # data verification"
      ],
      "metadata": {
        "id": "nXQkS8QVOCbq"
      },
      "execution_count": null,
      "outputs": []
    },
    {
      "cell_type": "code",
      "source": [
        "total_removal_idea_3_21_stn = df3_sped_arrest_nan.groupby(['stn', 'idoe_corporation_id'])['ethnicity'].value_counts().unstack(fill_value=0)"
      ],
      "metadata": {
        "id": "_BS9qON5uDZp"
      },
      "execution_count": null,
      "outputs": []
    },
    {
      "cell_type": "code",
      "source": [
        "total_removal_idea_3_21_stn"
      ],
      "metadata": {
        "id": "O-Pz3Jh55KLp"
      },
      "execution_count": null,
      "outputs": []
    },
    {
      "cell_type": "code",
      "source": [
        "total_removal_idea_3_21_stn.to_csv(\"total_removal_idea_3_21_stn.csv\")"
      ],
      "metadata": {
        "id": "keRHpghMvMHM"
      },
      "execution_count": null,
      "outputs": []
    }
  ]
}